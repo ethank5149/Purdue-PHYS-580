{
 "cells": [
  {
   "cell_type": "markdown",
   "metadata": {},
   "source": [
    "<center>\n",
    "<h1><b>Homework 1</b></h1>\n",
    "<h1>PHYS 580 - Computational Physics</h1>\n",
    "<h2>Professor Molnar</h2>\n",
    "</br>\n",
    "<h3><b>Ethan Knox</b></h3>\n",
    "<h4>https://www.github.com/ethank5149</h4>\n",
    "<h4>ethank5149@gmail.com</h4>\n",
    "</br>\n",
    "</br>\n",
    "<h3><b>September 18, 2020</b></h3>\n",
    "</center>"
   ]
  },
  {
   "source": [
    "All questions are worth 10 points, irrespectively of complexity or length. Please submit\n",
    "all your solutions on Brightspace in PDF format, together with the source code (if any). Make\n",
    "sure to\n",
    "- discuss the physics and your results, as appropriate and/or directed\n",
    "- include graphical output to illustrate the results\n",
    "- include the source codes of your programs (at least the critical parts thereof)\n",
    "- describe briefly what your program does, and how it does it (algorithm)\n",
    "- state the nature of the numerical approximation used, and demonstrate how you know that the particular approximation (with the parameters you used) is adequate for the problem you used it for.\n"
   ],
   "cell_type": "markdown",
   "metadata": {}
  },
  {
   "cell_type": "markdown",
   "metadata": {
    "heading_collapsed": true
   },
   "source": [
    "### Imports"
   ]
  },
  {
   "cell_type": "code",
   "execution_count": 1,
   "metadata": {
    "hidden": true
   },
   "outputs": [],
   "source": [
    "import numpy as np\n",
    "import matplotlib.pyplot as plt\n",
    "from functools import partial\n",
    "\n",
    "from tqdm import tqdm"
   ]
  },
  {
   "source": [
    "# Problem 1\n",
    "Number 1.4 from the Giordano-Nakanishi book (p.16), with $\\frac{\\tau_A}{\\tau_B}= \\frac{1}{3}, 1, 3$. Make sure to include a discussion of any relationships among the time scales $\\left(\\tau_A, \\tau_B\\right)$ and the time step you chose for the numerical work. Explore and interpret the results for various initial conditions such as $\\frac{N_A(0)}{\\tau_A} > \\frac{N_B(0)}{\\tau_B}$, or $\\frac{N_A(0)}{\\tau_A} < \\frac{N_B(0)}{\\tau_B}$. \n",
    "\n",
    "*Note*, if your analytic result does not “like” $\\tau_A = \\tau_B$, then you have to set $\\tau_B = \\tau_A + \\epsilon$ in it and then take the $ε ! 0$ limit. (If the limit is giving you trouble, just shift $\\tau_B$ by a very small amount). \n",
    "\n",
    "*Optional*: How would the differential equations change if B becomes A when it “decays”?"
   ],
   "cell_type": "markdown",
   "metadata": {}
  },
  {
   "source": [
    "# Problem 2\n",
    "2.2 (p.24)"
   ],
   "cell_type": "markdown",
   "metadata": {}
  },
  {
   "source": [
    "# Problem 3\n",
    "2.7 (p.31)"
   ],
   "cell_type": "markdown",
   "metadata": {}
  },
  {
   "source": [
    "# Problem 4\n",
    "In all calculations of cannon shots so far, we neglected the fact that the projectiles are\n",
    "launched from and measured in the rotating reference frame of Earth. Taking rotation into\n",
    "account would add a term $−2\\vec{\\omega}\\times\\vec{v}$ to the apparent acceleration in Earth’s frame of reference (due to the Coriolis force), making even the spinless cannon problem 3-dimensional. Estimate the effect of the Coriolis force on the trajectory of a typical cannonball launched toward southeast from Lafayette (latitude 40◦ 25’ N) with $v_0 = 700$ m/s at $\\theta = 45$ degrees with respect to the horizontal."
   ],
   "cell_type": "markdown",
   "metadata": {}
  },
  {
   "source": [
    "# Problem 5\n",
    "(Order of magnitude checks.) On p.28 of the Giordano-Nakanishi book, the air drag coeffi-\n",
    "cient for a large cannon shell is said to be $B_2/m \\approx 4\\times10^{−5} \\text{m}^{−1}$. On p.38, the magnitude of the Magnus term in baseball is stated to be $S_0/m \\approx 4.1 \\times 10^{−4}$. Furthermore, p.45 gives an estimate $S_0\\omega/m \\approx 0.25 \\text{s}^{−1}$ for the golf ball, and the next page (p.46, Problem 2.24) says that for a ping-pong ball $S_0/m \\approx 0.040$. Argue about the orders of magnitude of these values, and justify them if you can. If needed, refer to the official specifications for the various balls (see, e.g., the document BallSpecs.pdf posted in the Supplemental Materials section of the course home page). If you think that any of the above numbers in the text are unreasonable, then\n",
    "state why that is so."
   ],
   "cell_type": "markdown",
   "metadata": {}
  },
  {
   "cell_type": "code",
   "execution_count": null,
   "metadata": {},
   "outputs": [],
   "source": []
  }
 ],
 "metadata": {
  "kernelspec": {
   "display_name": "PyCharm (Lab2)",
   "language": "python",
   "name": "pycharm-6bb4a9ce"
  },
  "language_info": {
   "codemirror_mode": {
    "name": "ipython",
    "version": 3
   },
   "file_extension": ".py",
   "mimetype": "text/x-python",
   "name": "python",
   "nbconvert_exporter": "python",
   "pygments_lexer": "ipython3",
   "version": "3.8.5"
  }
 },
 "nbformat": 4,
 "nbformat_minor": 4
}