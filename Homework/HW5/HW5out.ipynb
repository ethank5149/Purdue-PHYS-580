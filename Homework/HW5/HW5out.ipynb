{
 "cells": [
  {
   "cell_type": "markdown",
   "metadata": {},
   "source": [
    "<center>\n",
    "<h1><b>Homework 5</b></h1>\n",
    "<h2>PHYS 580 - Computational Physics</h2>\n",
    "<h4>Professor Molnar</h4>\n",
    "</br>\n",
    "<h5><b>Ethan Knox</b></h5>\n",
    "<h6>https://www.github.com/ethank5149</h6>\n",
    "<h6>ethank5149@gmail.com</h6>\n",
    "</br>\n",
    "<h5><b>November 14, 2020</b></h5>\n",
    "</center>\n",
    "<hr>"
   ]
  },
  {
   "cell_type": "markdown",
   "metadata": {},
   "source": [
    "### Imports"
   ]
  },
  {
   "cell_type": "code",
   "execution_count": 1,
   "metadata": {
    "execution": {
     "iopub.execute_input": "2020-11-25T23:56:52.177872Z",
     "iopub.status.busy": "2020-11-25T23:56:52.177432Z",
     "iopub.status.idle": "2020-11-25T23:56:52.760793Z",
     "shell.execute_reply": "2020-11-25T23:56:52.760017Z",
     "shell.execute_reply.started": "2020-11-25T23:56:52.177797Z"
    }
   },
   "outputs": [],
   "source": [
    "import numpy as np\n",
    "import pandas as pd\n",
    "import matplotlib.pyplot as plt\n",
    "from itertools import product\n",
    "from numpy.polynomial import Polynomial\n",
    "from scipy.optimize import curve_fit\n",
    "from tqdm.notebook import trange, tqdm\n",
    "from ipywidgets import fixed, interact_manual, IntSlider, FloatSlider, FloatRangeSlider, ToggleButton\n",
    "\n",
    "%run ClusterGrowth.py\n",
    "%run IsingModel.py"
   ]
  },
  {
   "cell_type": "markdown",
   "metadata": {},
   "source": [
    "### Settings"
   ]
  },
  {
   "cell_type": "code",
   "execution_count": 2,
   "metadata": {
    "execution": {
     "iopub.execute_input": "2020-11-25T23:56:52.762392Z",
     "iopub.status.busy": "2020-11-25T23:56:52.762152Z",
     "iopub.status.idle": "2020-11-25T23:56:52.767051Z",
     "shell.execute_reply": "2020-11-25T23:56:52.765943Z",
     "shell.execute_reply.started": "2020-11-25T23:56:52.762373Z"
    },
    "jupyter": {
     "source_hidden": true
    }
   },
   "outputs": [],
   "source": [
    "plt.style.use('dark_background')\n",
    "pd.set_option('use_inf_as_na', True)\n",
    "pd.options.mode.chained_assignment = None"
   ]
  },
  {
   "cell_type": "markdown",
   "metadata": {},
   "source": [
    "### Globals"
   ]
  },
  {
   "cell_type": "code",
   "execution_count": 3,
   "metadata": {
    "execution": {
     "iopub.execute_input": "2020-11-25T23:56:52.768512Z",
     "iopub.status.busy": "2020-11-25T23:56:52.768150Z",
     "iopub.status.idle": "2020-11-25T23:56:52.782333Z",
     "shell.execute_reply": "2020-11-25T23:56:52.781446Z",
     "shell.execute_reply.started": "2020-11-25T23:56:52.768487Z"
    },
    "jupyter": {
     "source_hidden": true
    }
   },
   "outputs": [],
   "source": [
    "Tc = 2. / np.log(1. + np.sqrt(2.))\n",
    "linfit = lambda x, c0, c1 : c0 + c1 * x"
   ]
  },
  {
   "cell_type": "markdown",
   "metadata": {},
   "source": [
    "# Problem 1\n",
    "## 7.30 (p.228)\n",
    "\n",
    "Generate a spanning cluster for a two dimensional square lattice at $p=p_c$ using any of the search methods discussed in connection with Figure 7.29. Estimate the fractal dimensionality of the cluster. You should find a value of $d_f$, which is slightly smaller than $2$ (the expected value is $91/48\\approx1.90$)."
   ]
  },
  {
   "cell_type": "code",
   "execution_count": 4,
   "metadata": {
    "execution": {
     "iopub.execute_input": "2020-11-25T23:56:52.783521Z",
     "iopub.status.busy": "2020-11-25T23:56:52.783311Z",
     "iopub.status.idle": "2020-11-25T23:56:52.828390Z",
     "shell.execute_reply": "2020-11-25T23:56:52.827384Z",
     "shell.execute_reply.started": "2020-11-25T23:56:52.783501Z"
    }
   },
   "outputs": [
    {
     "data": {
      "application/vnd.jupyter.widget-view+json": {
       "model_id": "4ca8e25940de44bc8ad1b81834c7bd4e",
       "version_major": 2,
       "version_minor": 0
      },
      "text/plain": [
       "interactive(children=(IntSlider(value=200, description='$n_{rows}$', max=500, min=100, step=10), IntSlider(val…"
      ]
     },
     "metadata": {},
     "output_type": "display_data"
    }
   ],
   "source": [
    "@interact_manual(\n",
    "    nrows=IntSlider(value=200,min=100,max=500,step=10,description=r'$n_{rows}$'), \n",
    "    ncols=IntSlider(value=200,min=100,max=500,step=10,description=r'$n_{cols}$'), \n",
    "    fill=FloatSlider(value=0.15,min=0.01,max=0.25,step=0.01,description='% Fill'))\n",
    "def problem1(nrows, ncols, fill):\n",
    "    p = ClusterGrowth(nrows, ncols, fill)\n",
    "    df = p.simulate()\n",
    "        \n",
    "    df['logR'] = df.Radius.apply(np.log)\n",
    "    df['logM'] = df.Mass.apply(np.log)\n",
    "    df['x'] = df.logR.where(df.Radius > 0.0).where(df.Radius <= p.pseudo_radius())\n",
    "    df['y'] = df.logM.where(df.Mass > 0.0)\n",
    "    df['dydx'] = df.y.diff().div(df.x.diff())\n",
    "    df = df.dropna()\n",
    "    \n",
    "    (c, beta), _ = curve_fit(lambda _, c, beta : c + beta * _, df.x.values, df.y.values)\n",
    "    \n",
    "    fit = Polynomial.fit(df.x.values, df.y.values, 1)\n",
    "    df['fit'] = df.x.apply(fit)\n",
    "    d_f = df.fit.diff().div(df.x.diff()).mean()\n",
    "    \n",
    "    fig, (ax1, ax2) = plt.subplots(1,2, figsize=(32,16), dpi=200)   \n",
    "    ax1.set_title(r'Cluster Growth - Eden Model')\n",
    "    ax1.matshow(p.grid) \n",
    "    \n",
    "    df.plot.scatter('x', 'y', ax=ax2, label='Simulation')\n",
    "    df.plot('x', 'fit', ls='--', ax=ax2, label=rf'Model $\\left(d_f\\approx{beta:0.4f}\\right)$')\n",
    "    ax2.plot(df.x.values, np.log(2. * np.pi) + 91./48. * df.x.values , label=rf'Analytic $\\left(d_f={91./48.:0.4f}\\right)$')\n",
    "    ax2.plot(df.x.values, np.log(2. * np.pi) + 2. * df.x.values   , label=rf'Reference $\\left(d_f={2.:0.4f}\\right)$')\n",
    "    \n",
    "    ax2.set_xlabel(r'$\\ln(r)$')\n",
    "    ax2.set_ylabel(r'$\\ln(m)$')\n",
    "    ax2.legend(prop={'size': 24})\n",
    "    ax2.grid()\n",
    "    plt.savefig('plots/problem1')"
   ]
  },
  {
   "cell_type": "markdown",
   "metadata": {},
   "source": [
    "<img src=\"plots/problem1.png\">"
   ]
  },
  {
   "cell_type": "markdown",
   "metadata": {},
   "source": [
    "# Problem 2\n",
    "## 8.3 (p.257)\n",
    "\n",
    "Calculate $M$ for the Ising model on a square lattice and try to estimate $\\beta$. You should find a value close to $1/8$. Repeat this calculation for a triangular lattice. It turns out that $\\beta$ is the same for all regular two dimensional lattices. However, its value does depend on the dimensionality, as studied in the next problem.\n",
    "\n",
    "_Hint:_ You should find that the power law (8.17) with $\\beta\\approx1/8$ is obeyed reasonably well for $2.0<T<T_c\\approx2.27$.\n",
    "\n",
    "It is enough if you calculate __either__ for the square grid, __or__ the triangular one (the latter takes a little more thought). Doing both cases is optional."
   ]
  },
  {
   "cell_type": "code",
   "execution_count": 5,
   "metadata": {
    "execution": {
     "iopub.execute_input": "2020-11-25T23:56:52.829661Z",
     "iopub.status.busy": "2020-11-25T23:56:52.829435Z",
     "iopub.status.idle": "2020-11-25T23:56:52.888410Z",
     "shell.execute_reply": "2020-11-25T23:56:52.887525Z",
     "shell.execute_reply.started": "2020-11-25T23:56:52.829640Z"
    },
    "jupyter": {
     "source_hidden": true
    }
   },
   "outputs": [
    {
     "data": {
      "application/vnd.jupyter.widget-view+json": {
       "model_id": "39a9b8147197435a93a6479595a19bd5",
       "version_major": 2,
       "version_minor": 0
      },
      "text/plain": [
       "interactive(children=(IntSlider(value=10, description='$n_{rows}$', max=25, min=5, step=5), IntSlider(value=10…"
      ]
     },
     "metadata": {},
     "output_type": "display_data"
    }
   ],
   "source": [
    "@interact_manual(\n",
    "    ncols=IntSlider(value=10,min=5,max=25,step=5,description=r'$n_{rows}$'), \n",
    "    nrows=IntSlider(value=10,min=5,max=25,step=5,description=r'$n_{cols}$'), \n",
    "    J=fixed(1.), \n",
    "    kB=fixed(1.), \n",
    "    Trange=FloatRangeSlider(value=[2., Tc], min=1.5, max=2.5,step=0.05, description=r'$\\left(T_i,T_f\\right)$'),\n",
    "    nT=IntSlider(value=100,min=100,max=1000,step=100,description=r'$n_T$'), \n",
    "    Hrange=fixed([0.0, 1.0]),\n",
    "    nH=fixed(1), \n",
    "    nR=IntSlider(value=100,min=100,max=1000,step=100,description=r'$n_R$'), \n",
    "    nS=IntSlider(value=1000,min=100,max=1000,step=100,description=r'$n_S$'))\n",
    "def problem2(ncols, nrows, J, kB, Trange, nT, Hrange, nH, nR, nS):\n",
    "    model = IsingModel(ncols, nrows, J, kB, Trange, nT, Hrange, nH, nR, nS)\n",
    "    df = model.simulate();\n",
    "        \n",
    "    fig, ax = plt.subplots(2, 2, figsize=(16,9), dpi=300)\n",
    "    fig.suptitle('Ising Model (Metropolis-Hastings Algorithm)\\nSimulation Results From Problem 2')\n",
    "    df.plot.scatter('Temperature', 'Energy'                , ax=ax[0,0])\n",
    "    df.plot.scatter('Temperature', 'Magnetization'         , ax=ax[0,1])\n",
    "    df.plot.scatter('Temperature', 'SpecificHeatCapacity'  , ax=ax[1,0])\n",
    "    df.plot.scatter('Temperature', 'MagneticSusceptibility', ax=ax[1,1])\n",
    "    fig.savefig('plots/problem2_simulation_results')\n",
    "    plt.close()\n",
    "    \n",
    "    df['x'] = df.Temperature.apply(lambda _ : np.log(np.abs(_ - Tc) / 1. + 0*Tc))\n",
    "    df['y'] = df.SpecificHeatCapacity.apply(lambda _ : np.log(np.abs(_)))\n",
    "    df = df.dropna()\n",
    "    \n",
    "    (c, minus_beta), _ = curve_fit(linfit, df.x.values, df.y.values)\n",
    "    df['fit'] = df.x.apply(lambda _ : linfit(_, c, minus_beta))\n",
    "    \n",
    "    fig, ax = plt.subplots(1, 1, figsize=(16, 9), dpi=300)\n",
    "    ax.set_title('Ising Model (Metropolis-Hastings Algorithm)\\nCalculation Of Critical Exponent ' + r'$\\beta$')\n",
    "    df.plot('x', 'fit', ax=ax, label=fr'$y\\propto-\\beta x$, $\\beta={-minus_beta:0.4f}$')\n",
    "    df.plot.scatter('x', 'y', ax=ax, label='Simulation')\n",
    "    \n",
    "    ax.legend()\n",
    "    fig.savefig('plots/problem2')"
   ]
  },
  {
   "cell_type": "markdown",
   "metadata": {},
   "source": [
    "<img src=\"plots/problem2.png\"> "
   ]
  },
  {
   "cell_type": "markdown",
   "metadata": {},
   "source": [
    "# Problem 3\n",
    "## 8.7 (p.258)\n",
    "\n",
    "Obtain the specific heat as a function of temperature for a $10\\times10$ square lattice by differentiating the energy and through the fluctuation-dissipation theorem. Show that the two methods give the same result. Which approach is more accurate (for a given amount of computer time)?"
   ]
  },
  {
   "cell_type": "code",
   "execution_count": 6,
   "metadata": {
    "execution": {
     "iopub.execute_input": "2020-11-25T23:56:52.889489Z",
     "iopub.status.busy": "2020-11-25T23:56:52.889300Z",
     "iopub.status.idle": "2020-11-25T23:56:52.960887Z",
     "shell.execute_reply": "2020-11-25T23:56:52.959964Z",
     "shell.execute_reply.started": "2020-11-25T23:56:52.889472Z"
    },
    "jupyter": {
     "source_hidden": true
    }
   },
   "outputs": [
    {
     "data": {
      "application/vnd.jupyter.widget-view+json": {
       "model_id": "943a82d83456486593b50af4f6d501bc",
       "version_major": 2,
       "version_minor": 0
      },
      "text/plain": [
       "interactive(children=(IntSlider(value=20, description='$n_{rows}$', min=10, step=10), IntSlider(value=20, desc…"
      ]
     },
     "metadata": {},
     "output_type": "display_data"
    }
   ],
   "source": [
    "@interact_manual(\n",
    "    ncols=IntSlider(value=20,min=10,max=100,step=10,description=r'$n_{rows}$'), \n",
    "    nrows=IntSlider(value=20,min=10,max=100,step=10,description=r'$n_{cols}$'), \n",
    "    J=fixed(1.), \n",
    "    kB=fixed(1.), \n",
    "    Trange=FloatRangeSlider(value=[1.5, 3.0], min=1.5, max=3.0, step=0.1, description=r'$\\left(T_i,T_f\\right)$'),\n",
    "    nT=IntSlider(value=100,min=100,max=1000,step=100,description=r'$n_T$'), \n",
    "    Hrange=fixed([0.0, 1.0]),\n",
    "    nH=fixed(1), \n",
    "    nR=IntSlider(value=1000,min=100,max=1000,step=100,description=r'$n_R$'), \n",
    "    nS=IntSlider(value=1000,min=100,max=1000,step=100,description=r'$n_S$'))\n",
    "def problem3(ncols, nrows, J, kB, Trange, nT, Hrange, nH, nR, nS):\n",
    "    model = IsingModel(nrows, ncols, J, kB, Trange, nT, Hrange, nH, nR, nS)\n",
    "    df = model.simulate();\n",
    "    df['tau'] = df.Temperature.apply(lambda _ :  (_ - Tc) / 1. + 0*Tc)\n",
    "    df['dEdT'] = df.Energy.diff().div(df.tau.diff()).abs()\n",
    "    df['SpecificHeatCapacityAlt'] = df.dEdT.div(df.tau.pow(2.))\n",
    "    df['SpecificHeatCapacityAlt'] = df.SpecificHeatCapacityAlt.where(df.SpecificHeatCapacityAlt <= df.SpecificHeatCapacityAlt.mean())\n",
    "    \n",
    "    fig, ax = plt.subplots(2, 2, figsize=(16,9), dpi=300)\n",
    "    fig.suptitle('Ising Model (Metropolis-Hastings Algorithm)\\nSimulation Results From Problem 3')\n",
    "    df.plot.scatter('tau', 'Energy', ax=ax[0, 0])\n",
    "    df.plot.scatter('tau', 'Magnetization', ax=ax[0, 1])\n",
    "    df.plot.scatter('tau', 'SpecificHeatCapacity', ax=ax[1, 0])\n",
    "    df.plot.scatter('tau', 'MagneticSusceptibility', ax=ax[1, 1])\n",
    "    fig.savefig('plots/problem3_simulation_results')\n",
    "    plt.close()\n",
    "    \n",
    "    fig, ax = plt.subplots(2, 1, figsize=(16,9), dpi=300, sharex=True)\n",
    "    fig.suptitle('Ising Model (Metropolis-Hastings Algorithm)\\nSpecific Heat Capacity vs. Temperature')\n",
    "    df.plot.scatter('tau', 'SpecificHeatCapacity', c='darkred', ax=ax[0], label=r'Fluctuation Dissipation Theorem: $C(T)=\\frac{Var(E)}{k_BT^2}$')\n",
    "    df.plot.scatter('tau', 'SpecificHeatCapacityAlt', c='darkgreen', ax=ax[1], label=r'Thermodynamics: $C(T)=\\frac{dE(T)}{dT}$')\n",
    "    fig.savefig('plots/problem3')"
   ]
  },
  {
   "cell_type": "markdown",
   "metadata": {},
   "source": [
    "<img src=\"plots/problem3.png\"> "
   ]
  },
  {
   "cell_type": "markdown",
   "metadata": {},
   "source": [
    "# Problem 4\n",
    "## 8.15 (p.267)\n",
    "\n",
    "Scaling behavior is found for thermodynamic quantities other than the magnetization. Calculate the susceptibility $\\chi$ at various values of $T$ and $H$ around the critical point of the Ising model on a square lattice, and study data collapsing using your results. The scaling form for $\\chi$ is \n",
    "$$\\chi(t, h)=|t|^{-\\gamma}g_{\\pm}\\left(\\frac{h}{|t|^{\\beta\\delta}}\\right),$$\n",
    "where the critical exponent $\\gamma=7/4$."
   ]
  },
  {
   "cell_type": "code",
   "execution_count": 7,
   "metadata": {
    "execution": {
     "iopub.execute_input": "2020-11-25T23:56:52.961968Z",
     "iopub.status.busy": "2020-11-25T23:56:52.961748Z",
     "iopub.status.idle": "2020-11-25T23:56:53.026363Z",
     "shell.execute_reply": "2020-11-25T23:56:53.025402Z",
     "shell.execute_reply.started": "2020-11-25T23:56:52.961947Z"
    },
    "jupyter": {
     "source_hidden": true
    }
   },
   "outputs": [
    {
     "data": {
      "application/vnd.jupyter.widget-view+json": {
       "model_id": "6c6f68b7580e410a9901dd9cba386e87",
       "version_major": 2,
       "version_minor": 0
      },
      "text/plain": [
       "interactive(children=(IntSlider(value=15, description='$n_{rows}$', max=25, min=5, step=5), IntSlider(value=15…"
      ]
     },
     "metadata": {},
     "output_type": "display_data"
    }
   ],
   "source": [
    "@interact_manual(\n",
    "    ncols=IntSlider(value=15,min=5,max=25,step=5,description=r'$n_{rows}$'), \n",
    "    nrows=IntSlider(value=15,min=5,max=25,step=5,description=r'$n_{cols}$'), \n",
    "    J=fixed(1.), \n",
    "    kB=fixed(1.),\n",
    "    Trange=FloatRangeSlider(value=[2., 2.5], min=1.5, max=3.0,step=0.01, description=r'$\\left(T_i,T_f\\right)$'),\n",
    "    nT=IntSlider(value=100,min=10,max=250, step=10,description=r'$n_T$'), \n",
    "    Hrange=FloatRangeSlider(value=[-1., 1.], min=-10., max=10.,step=0.01, description=r'$\\left(H_i,H_f\\right)$'),\n",
    "    nH=IntSlider(value=100,min=10,max=250,step=10,description=r'$n_H$'), \n",
    "    nR=IntSlider(value=250,min=200,max=1000,step=100,description=r'$n_R$'), \n",
    "    nS=IntSlider(value=1000,min=200,max=1000,step=100,description=r'$n_S$'))\n",
    "def problem4(ncols, nrows, J, kB, Trange, nT, Hrange, nH, nR, nS):\n",
    "    model  = IsingModel(ncols, nrows, J, kB, Trange, nT, Hrange, nH, nR, nS)\n",
    "    df = model.simulate();\n",
    "    df['tau'] = df.Temperature.apply(lambda _ :  (_ - Tc) / Tc)\n",
    "    \n",
    "    fig = plt.figure(figsize=(16,16), dpi=300, constrained_layout=True)\n",
    "    fig.suptitle('Ising Model (Metropolis-Hastings Algorithm)\\nSimulation Results From Problem 4')\n",
    "\n",
    "    ax1 = fig.add_subplot(221, projection='3d')\n",
    "    ax1.view_init(30, 120)\n",
    "    ax1.plot_trisurf(df.MagneticField, df.tau, df.Energy, cmap=plt.get_cmap('jet'))\n",
    "    ax1.set_xlabel('Magnetic Field')\n",
    "    ax1.set_ylabel(r'$\\tau$')\n",
    "    ax1.set_zlabel('Energy')\n",
    "\n",
    "    ax2 = fig.add_subplot(222, projection='3d')\n",
    "    ax2.view_init(30, 70)\n",
    "    ax2.plot_trisurf(df.MagneticField, df.tau, df.Magnetization, cmap=plt.get_cmap('jet'))\n",
    "    ax2.set_xlabel('Magnetic Field')\n",
    "    ax2.set_ylabel(r'$\\tau$')\n",
    "    ax2.set_zlabel('Magnetization')\n",
    "\n",
    "    ax3 = fig.add_subplot(223, projection='3d')\n",
    "    ax3.view_init(30, -110)\n",
    "    ax3.plot_trisurf(df.MagneticField, df.tau, df.SpecificHeatCapacity, cmap=plt.get_cmap('jet'))\n",
    "    ax3.set_xlabel('Magnetic Field')\n",
    "    ax3.set_ylabel(r'$\\tau$')\n",
    "    ax3.set_zlabel('Specific Heat Capacity')\n",
    "\n",
    "    ax4 = fig.add_subplot(224, projection='3d')\n",
    "    ax4.view_init(30, -110)\n",
    "    ax4.plot_trisurf(df.MagneticField, df.tau, df.MagneticSusceptibility, cmap=plt.get_cmap('jet'))\n",
    "    ax4.set_xlabel('Magnetic Field')\n",
    "    ax4.set_ylabel(r'$\\tau$')\n",
    "    ax4.set_zlabel('Magnetic Susceptibility')\n",
    "\n",
    "    fig.savefig('plots/problem4')"
   ]
  },
  {
   "cell_type": "markdown",
   "metadata": {},
   "source": [
    "<img src=\"plots/problem4.png\">"
   ]
  },
  {
   "cell_type": "code",
   "execution_count": null,
   "metadata": {
    "jupyter": {
     "source_hidden": true
    }
   },
   "outputs": [],
   "source": []
  }
 ],
 "metadata": {
  "kernelspec": {
   "display_name": "Python 3",
   "language": "python",
   "name": "python3"
  },
  "language_info": {
   "codemirror_mode": {
    "name": "ipython",
    "version": 3
   },
   "file_extension": ".py",
   "mimetype": "text/x-python",
   "name": "python",
   "nbconvert_exporter": "python",
   "pygments_lexer": "ipython3",
   "version": "3.8.5"
  }
 },
 "nbformat": 4,
 "nbformat_minor": 4
}
