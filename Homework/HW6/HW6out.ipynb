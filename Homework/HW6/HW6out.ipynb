{
 "cells": [
  {
   "cell_type": "markdown",
   "metadata": {},
   "source": [
    "<center>\n",
    "<h1><b>Homework 6</b></h1>\n",
    "<h2>PHYS 580 - Computational Physics</h2>\n",
    "<h4>Professor Molnar</h4>\n",
    "</br>\n",
    "<h5><b>Ethan Knox</b></h5>\n",
    "<h6>https://www.github.com/ethank5149</h6>\n",
    "<h6>ethank5149@gmail.com</h6>\n",
    "</br>\n",
    "<h5><b>December 4, 2020</b></h5>\n",
    "</center>\n",
    "<hr>"
   ]
  },
  {
   "cell_type": "markdown",
   "metadata": {},
   "source": []
  },
  {
   "cell_type": "markdown",
   "metadata": {},
   "source": [
    "```mermaid\n",
    "\n",
    "flowchart TB\n",
    "    c1-->Initialize\n",
    "    subgraph main.py\n",
    "    InputParameters-->Initialize\n",
    "    end\n",
    "    subgraph util.py\n",
    "    b1-->b2\n",
    "    end\n",
    "    subgraph wrapper.py\n",
    "    c1-->c2\n",
    "    end\n",
    "    main.py --> util.py\n",
    "    wrapper.py --> util.py\n",
    "    util.py --> c2\n",
    "```    \n",
    "\n",
    "```mermaid \n",
    "classDiagram\n",
    "    Rectangle <|-- Square\n",
    "    class Rectangle~Shape~{\n",
    "    int id\n",
    "    List~string~ messages\n",
    "    List~int~ position\n",
    "    setMessages(List~string~ messages)\n",
    "    setPoints(List~int~ points)\n",
    "    getMessages() List~string~\n",
    "    getPoints() List~int~\n",
    "    }\n",
    "```"
   ]
  },
  {
   "cell_type": "markdown",
   "metadata": {},
   "source": [
    "### Imports"
   ]
  },
  {
   "cell_type": "code",
   "execution_count": 36,
   "metadata": {},
   "outputs": [],
   "source": [
    "import warnings\n",
    "from pylj import md, mc, util\n",
    "import numpy as np\n",
    "from numpy import pi, exp, sqrt\n",
    "import matplotlib.pyplot as plt\n",
    "from scipy.stats import chisquare, chi\n",
    "from scipy.integrate import solve_ivp\n",
    "from scipy.optimize import root_scalar\n",
    "from tqdm.notebook import trange\n",
    "from functools import partial\n",
    "from matplotlib.animation import ArtistAnimation\n",
    "\n",
    "warnings.filterwarnings('ignore')\n",
    "%matplotlib widget"
   ]
  },
  {
   "cell_type": "markdown",
   "metadata": {},
   "source": [
    "### Globals"
   ]
  },
  {
   "cell_type": "markdown",
   "metadata": {},
   "source": [
    "# Problem 1\n",
    "## 9.1 (p.283)\n",
    "\n",
    "Calculate the speed distributions for a dilute gas as in Figure 9.4 and compare the results quantitatively with the Maxwell distribution. (For example, perform the $\\chi^2$ analysis described in Appendix G.) This analysis also yields the temperature; compare the value you find with the result calculated directly from the equipartition theorem, $$k_BT=\\left<\\frac{m}{2}\\left(v_x^2+v_y^2\\right)\\right>.$$"
   ]
  },
  {
   "cell_type": "code",
   "execution_count": 2,
   "metadata": {},
   "outputs": [],
   "source": [
    "amu = 1.674e-27\n",
    "kB  = 1.3806e-23\n",
    "m   = 39.948 * amu\n",
    "\n",
    "box_length = 12\n",
    "number_of_steps = 5000\n",
    "T = 273.15\n",
    "\n",
    "alpha = sqrt(kB * T / m)\n",
    "dist = chi(df=2, scale=alpha)\n",
    "number_of_particles = box_length - 1 \n",
    "speeds = np.zeros((number_of_steps, number_of_particles))"
   ]
  },
  {
   "cell_type": "code",
   "execution_count": 3,
   "metadata": {},
   "outputs": [],
   "source": [
    "system = md.initialize(number_of_particles, T, box_length, 'square')\n",
    "system.time = 0"
   ]
  },
  {
   "cell_type": "code",
   "execution_count": 4,
   "metadata": {},
   "outputs": [
    {
     "data": {
      "application/vnd.jupyter.widget-view+json": {
       "model_id": "2e610c1f0ef645de88cf8cd9d065fa7f",
       "version_major": 2,
       "version_minor": 0
      },
      "text/plain": [
       "HBox(children=(HTML(value='Sampling'), FloatProgress(value=0.0, max=5000.0), HTML(value='')))"
      ]
     },
     "metadata": {},
     "output_type": "display_data"
    },
    {
     "name": "stdout",
     "output_type": "stream",
     "text": [
      "\n"
     ]
    }
   ],
   "source": [
    "for _ in trange(number_of_steps, desc='Sampling'):\n",
    "    system.integrate(md.velocity_verlet)\n",
    "    system.md_sample()\n",
    "    system.heat_bath(T)\n",
    "    system.time += system.timestep_length\n",
    "    system.step += 1\n",
    "    speeds[_] = sqrt(np.square(system.particles['xvelocity']) + np.square(system.particles['yvelocity']))\n",
    "speeds = speeds.ravel()"
   ]
  },
  {
   "cell_type": "code",
   "execution_count": 5,
   "metadata": {},
   "outputs": [],
   "source": [
    "alpha = np.sqrt(kB * T / m)\n",
    "dist = chi(df=2, scale=alpha)  # Our simulation is 2D, and is therefore only 2 dof instead of the traditional 3\n",
    "support = np.linspace(*dist.interval(0.999), 1000)"
   ]
  },
  {
   "cell_type": "code",
   "execution_count": 6,
   "metadata": {},
   "outputs": [],
   "source": [
    "obs_per_bin = 1\n",
    "df = number_of_particles // obs_per_bin\n",
    "N = number_of_steps * number_of_particles - df"
   ]
  },
  {
   "cell_type": "code",
   "execution_count": 7,
   "metadata": {},
   "outputs": [],
   "source": [
    "observed, bins = np.histogram(speeds, df)\n",
    "expected = number_of_particles * number_of_steps * (dist.cdf(bins[1:]) - dist.cdf(bins[:-1]))\n",
    "res = chisquare(observed, expected)"
   ]
  },
  {
   "cell_type": "code",
   "execution_count": 8,
   "metadata": {},
   "outputs": [],
   "source": [
    "if 'e' in str(res[1]):\n",
    "    a_str, b_str = str(res[1]).split('e')\n",
    "    a, b = float(a_str), int(b_str)\n",
    "    stringp = rf'${a:0.4g}\\cdot10^{{{b}}}$'\n",
    "else:\n",
    "    stringp = rf'${res[1]:0.4g}$'"
   ]
  },
  {
   "cell_type": "code",
   "execution_count": 9,
   "metadata": {},
   "outputs": [],
   "source": [
    "%%capture\n",
    "fig, ax = plt.subplots(1,1,figsize=(16,9),dpi=300)\n",
    "ax.set_title('Dilute Gas Simulation (Lennard-Jones Potential)')\n",
    "ax.set_ylabel(r\"$pdf$\")\n",
    "ax.set_xlabel(r\"Speed $[\\frac{m}{s}]$\")\n",
    "\n",
    "ax.plot(support, dist.pdf(support), label=rf'$y\\sim\\chi\\left(2,\\,\\sqrt{{\\frac{{k_BT}}{{m}}}}\\right),\\,\\,T={T}\\,[K]$')\n",
    "ax.hist(speeds, bins=df, density=True, alpha=0.5, label=rf\"$\\chi^2\\left({df},N={N}\\right)={res[0]:0.4g},\\,p=$\" + stringp)\n",
    "ax.legend()\n",
    "ax.grid()\n",
    "plt.savefig('Problem1.png')"
   ]
  },
  {
   "cell_type": "markdown",
   "metadata": {},
   "source": [
    "![](./Problem1.png)"
   ]
  },
  {
   "cell_type": "markdown",
   "metadata": {},
   "source": [
    "# Problem 2\n",
    "## 10.5 (p.322)\n",
    "\n",
    "Use the shooting method to study how the wave function for a particle-in-a-box depends on the magnitude of the potential outside the box $V_0$. Examine the variation of $\\psi$ beyond the walls of the box and show that it decays exponentially with distance in this region. Study the decay length as a function of $V_0$ and compare the results for different energy levels. As the energy of the level approaches $V_0$ the decay length should become larger."
   ]
  },
  {
   "cell_type": "code",
   "execution_count": 28,
   "metadata": {},
   "outputs": [],
   "source": [
    "m = hbar = L = 1"
   ]
  },
  {
   "cell_type": "code",
   "execution_count": 29,
   "metadata": {},
   "outputs": [],
   "source": [
    "def energy(n):\n",
    "    return (n * pi * hbar / L) ** 2 / (2 * m)\n",
    "\n",
    "def V(x, V0=1):\n",
    "    return 0 if abs(x) < 0.5 * L else V0 \n",
    "\n",
    "def TISE(x, psi, E, V0=1):\n",
    "    return np.asarray([psi[1], (2 * m / hbar ** 2) * (V(x, V0) - E) * psi[0]])"
   ]
  },
  {
   "cell_type": "code",
   "execution_count": 30,
   "metadata": {},
   "outputs": [],
   "source": [
    "def plot_wavefunction(E, xbound, psi0, V0):\n",
    "    \n",
    "    return fig, ax"
   ]
  },
  {
   "cell_type": "code",
   "execution_count": 69,
   "metadata": {},
   "outputs": [],
   "source": [
    "def obj_func(E, psi0, xbound, V0):\n",
    "    sol = solve_ivp(partial(TISE, E=E, V0=V0), t_span=xbound, y0=psi0)\n",
    "    return sol.y[0,-1]\n",
    "\n",
    "def finite_square_shoot(Ebound, xbound, psi0, V0):\n",
    "    func = partial(obj_func, psi0=psi0, xbound=xbound, V0=V0)\n",
    "    res = root_scalar(func, bracket=Ebound, method='brent')\n",
    "\n",
    "    return res.root"
   ]
  },
  {
   "cell_type": "code",
   "execution_count": 73,
   "metadata": {},
   "outputs": [
    {
     "data": {
      "application/vnd.jupyter.widget-view+json": {
       "model_id": "b44878aaf8e04a9c9fd58f002742bae3",
       "version_major": 2,
       "version_minor": 0
      },
      "text/plain": [
       "Canvas(toolbar=Toolbar(toolitems=[('Home', 'Reset original view', 'home', 'home'), ('Back', 'Back to previous …"
      ]
     },
     "metadata": {},
     "output_type": "display_data"
    },
    {
     "name": "stdout",
     "output_type": "stream",
     "text": [
      "V0 = 0.0 not bracketed\n",
      "V0 = 1.0101010101010102 not bracketed\n",
      "V0 = 2.0202020202020203 not bracketed\n",
      "V0 = 3.0303030303030303 not bracketed\n",
      "V0 = 4.040404040404041 not bracketed\n",
      "V0 = 5.050505050505051 not bracketed\n",
      "V0 = 6.0606060606060606 not bracketed\n",
      "V0 = 7.070707070707071 not bracketed\n",
      "V0 = 8.080808080808081 not bracketed\n",
      "V0 = 9.090909090909092 not bracketed\n",
      "V0 = 10.101010101010102 not bracketed\n",
      "V0 = 11.111111111111112 not bracketed\n",
      "V0 = 12.121212121212121 not bracketed\n",
      "V0 = 13.131313131313131 not bracketed\n",
      "V0 = 14.141414141414142 not bracketed\n",
      "V0 = 15.151515151515152 not bracketed\n",
      "V0 = 16.161616161616163 not bracketed\n",
      "V0 = 17.171717171717173 not bracketed\n",
      "V0 = 18.181818181818183 not bracketed\n",
      "V0 = 19.191919191919194 not bracketed\n",
      "V0 = 20.202020202020204 not bracketed\n",
      "V0 = 21.212121212121215 not bracketed\n",
      "V0 = 22.222222222222225 not bracketed\n",
      "V0 = 23.232323232323235 not bracketed\n",
      "V0 = 24.242424242424242 not bracketed\n",
      "V0 = 25.252525252525253 not bracketed\n",
      "V0 = 26.262626262626263 not bracketed\n",
      "V0 = 27.272727272727273 not bracketed\n",
      "V0 = 28.282828282828284 not bracketed\n",
      "V0 = 29.292929292929294 not bracketed\n",
      "V0 = 30.303030303030305 not bracketed\n",
      "V0 = 31.313131313131315 not bracketed\n",
      "V0 = 32.323232323232325 not bracketed\n",
      "V0 = 33.333333333333336 not bracketed\n",
      "V0 = 34.343434343434346 not bracketed\n",
      "V0 = 35.35353535353536 not bracketed\n",
      "V0 = 36.36363636363637 not bracketed\n",
      "V0 = 37.37373737373738 not bracketed\n",
      "V0 = 38.38383838383839 not bracketed\n",
      "V0 = 39.3939393939394 not bracketed\n",
      "V0 = 40.40404040404041 not bracketed\n",
      "V0 = 41.41414141414142 not bracketed\n",
      "V0 = 42.42424242424243 not bracketed\n",
      "V0 = 43.43434343434344 not bracketed\n",
      "V0 = 44.44444444444445 not bracketed\n",
      "V0 = 45.45454545454546 not bracketed\n",
      "V0 = 46.46464646464647 not bracketed\n",
      "V0 = 47.47474747474748 not bracketed\n",
      "V0 = 48.484848484848484 not bracketed\n",
      "V0 = 49.494949494949495 not bracketed\n",
      "V0 = 50.505050505050505 not bracketed\n",
      "V0 = 51.515151515151516 not bracketed\n",
      "V0 = 52.525252525252526 not bracketed\n",
      "V0 = 53.535353535353536 not bracketed\n",
      "V0 = 54.54545454545455 not bracketed\n",
      "V0 = 55.55555555555556 not bracketed\n",
      "V0 = 56.56565656565657 not bracketed\n",
      "V0 = 57.57575757575758 not bracketed\n",
      "V0 = 58.58585858585859 not bracketed\n",
      "V0 = 59.5959595959596 not bracketed\n",
      "V0 = 60.60606060606061 not bracketed\n",
      "V0 = 61.61616161616162 not bracketed\n",
      "V0 = 62.62626262626263 not bracketed\n",
      "V0 = 63.63636363636364 not bracketed\n",
      "V0 = 64.64646464646465 not bracketed\n",
      "V0 = 65.65656565656566 not bracketed\n",
      "V0 = 66.66666666666667 not bracketed\n",
      "V0 = 67.67676767676768 not bracketed\n",
      "V0 = 68.68686868686869 not bracketed\n",
      "V0 = 69.6969696969697 not bracketed\n",
      "V0 = 70.70707070707071 not bracketed\n",
      "V0 = 71.71717171717172 not bracketed\n",
      "V0 = 72.72727272727273 not bracketed\n",
      "V0 = 73.73737373737374 not bracketed\n",
      "V0 = 74.74747474747475 not bracketed\n",
      "V0 = 75.75757575757576 not bracketed\n",
      "V0 = 76.76767676767678 not bracketed\n",
      "V0 = 77.77777777777779 not bracketed\n",
      "V0 = 78.7878787878788 not bracketed\n",
      "V0 = 79.7979797979798 not bracketed\n",
      "V0 = 80.80808080808082 not bracketed\n",
      "V0 = 81.81818181818183 not bracketed\n",
      "V0 = 82.82828282828284 not bracketed\n",
      "V0 = 83.83838383838385 not bracketed\n",
      "V0 = 84.84848484848486 not bracketed\n",
      "V0 = 85.85858585858587 not bracketed\n",
      "V0 = 86.86868686868688 not bracketed\n",
      "V0 = 87.87878787878789 not bracketed\n",
      "V0 = 88.8888888888889 not bracketed\n",
      "V0 = 89.89898989898991 not bracketed\n",
      "V0 = 90.90909090909092 not bracketed\n",
      "V0 = 91.91919191919193 not bracketed\n",
      "V0 = 92.92929292929294 not bracketed\n",
      "V0 = 93.93939393939395 not bracketed\n",
      "V0 = 94.94949494949496 not bracketed\n",
      "V0 = 95.95959595959597 not bracketed\n",
      "V0 = 96.96969696969697 not bracketed\n",
      "V0 = 97.97979797979798 not bracketed\n",
      "V0 = 98.98989898989899 not bracketed\n",
      "V0 = 100.0 not bracketed\n"
     ]
    }
   ],
   "source": [
    "xbound = [-L, L]\n",
    "Ebound = [energy(1), energy(3)]\n",
    "psi0 = [0., 1.]\n",
    "Vmax = 100\n",
    "t_eval = np.linspace(*xbound, 1000)\n",
    "fig, ax = plt.subplots(1,1)\n",
    "ax.set_ylim([-1.0, 1.])\n",
    "\n",
    "artists = []\n",
    "\n",
    "for i, v0 in enumerate(np.linspace(0.0, Vmax, 100)):\n",
    "    try:\n",
    "        E = finite_square_shoot(Ebound, xbound, psi0, v0)\n",
    "        sol = solve_ivp(partial(TISE, E=E, V0=v0), xbound, psi0, t_eval=t_eval)\n",
    "        artists.append(ax.plot(sol.t, sol.y[0,:]/np.max(sol.y[0,:]), c='b', label=f'E={E}'))\n",
    "    except ValueError:\n",
    "        print(f'V0 = {v0} not bracketed')"
   ]
  },
  {
   "cell_type": "code",
   "execution_count": 74,
   "metadata": {},
   "outputs": [],
   "source": [
    "anim = ArtistAnimation(fig, artists)\n",
    "anim.save('Problem2.mov')"
   ]
  },
  {
   "cell_type": "markdown",
   "metadata": {},
   "source": [
    "# Problem 3\n",
    "## 10.12 (p.333)\n",
    "\n",
    "Employ the variational Monte Carlo method to calculate the ground-state energy and wave function of the anharmonic oscillator whose potential is given by $V(x)=x^4$."
   ]
  },
  {
   "cell_type": "markdown",
   "metadata": {},
   "source": [
    "# Problem 4\n",
    "Write a matching method program to study the coupling between two one-dimensional quan-tum mechanical systems in neighboring square wells that areseparated by a small, square barrier(cf. Figs. 10.11 and 10.12 of the textbook). In particular, observe how identicalunperturbedstates in each well get mixed due to being coupled through thefinite barrier. Demonstratenumerically, for at at least two different examples (such as the two ground states and then twoexcited states), that the initially equal energy levels split up. Namely, the parity even mixturemoves down in energy, while the parity odd one moves up. This phenomenon is discussed inChapter 10 of the book (p.318-320)"
   ]
  },
  {
   "cell_type": "code",
   "execution_count": null,
   "metadata": {},
   "outputs": [],
   "source": []
  }
 ],
 "metadata": {
  "kernelspec": {
   "display_name": "Python 3",
   "language": "python",
   "name": "python3"
  },
  "language_info": {
   "codemirror_mode": {
    "name": "ipython",
    "version": 3
   },
   "file_extension": ".py",
   "mimetype": "text/x-python",
   "name": "python",
   "nbconvert_exporter": "python",
   "pygments_lexer": "ipython3",
   "version": "3.8.5"
  }
 },
 "nbformat": 4,
 "nbformat_minor": 4
}