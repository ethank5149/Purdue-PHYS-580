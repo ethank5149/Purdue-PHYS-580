{
 "cells": [
  {
   "cell_type": "code",
   "execution_count": 2,
   "metadata": {
    "jupyter": {
     "source_hidden": true
    }
   },
   "outputs": [],
   "source": [
    "import sympy as sp\n",
    "from sympy.physics.mechanics import dynamicsymbols"
   ]
  },
  {
   "cell_type": "code",
   "execution_count": 3,
   "metadata": {},
   "outputs": [],
   "source": [
    "m0, m1, l0, l1, k0, k1, t, g = sp.symbols(r'm_0 m_1 l_0 l_1 k_0 k_1 t g')"
   ]
  },
  {
   "cell_type": "code",
   "execution_count": 4,
   "metadata": {},
   "outputs": [],
   "source": [
    "theta0 = sp.Function(r'\\theta_0')(t)\n",
    "theta1 = sp.Function(r'\\theta_1')(t)\n",
    "r0 = sp.Function(r'r_0')(t)\n",
    "r1 = sp.Function(r'r_1')(t)"
   ]
  },
  {
   "cell_type": "code",
   "execution_count": 5,
   "metadata": {},
   "outputs": [],
   "source": [
    "dtheta0 = theta0.diff(t)\n",
    "dtheta1 = theta1.diff(t)\n",
    "dr0 = r0.diff(t)\n",
    "dr1 = r1.diff(t)"
   ]
  },
  {
   "cell_type": "code",
   "execution_count": 6,
   "metadata": {},
   "outputs": [],
   "source": [
    "I0 = m0 * r0 ** 2 / 12\n",
    "I1 = m1 * r1 ** 2 / 12"
   ]
  },
  {
   "cell_type": "code",
   "execution_count": 7,
   "metadata": {},
   "outputs": [],
   "source": [
    "x0 =  (r0 / 2) * sp.sin(theta0)\n",
    "y0 = -(r0 / 2) * sp.cos(theta0)\n",
    "x1 =  r0 * sp.sin(theta0) + (r1 / 2) * sp.sin(theta1)\n",
    "y1 = -r0 * sp.cos(theta0) - (r1 / 2) * sp.cos(theta1)"
   ]
  },
  {
   "cell_type": "code",
   "execution_count": 8,
   "metadata": {},
   "outputs": [],
   "source": [
    "spring_potential = k0 * (r0 - l0) ** 2 / 2 + k1 * (r1 - l1) ** 2 / 2"
   ]
  },
  {
   "cell_type": "code",
   "execution_count": 9,
   "metadata": {},
   "outputs": [],
   "source": [
    "gravitational_potential = (m0 * y0 + m1 * y1) * g"
   ]
  },
  {
   "cell_type": "code",
   "execution_count": 10,
   "metadata": {},
   "outputs": [],
   "source": [
    "kinetic = m0 * (x0.diff(t) ** 2 + y0.diff(t) ** 2) / 2 + m1 * (x1.diff(t) ** 2 + y1.diff(t) ** 2) / 2 + (I0 / 2) * theta0.diff(t) ** 2 + (I1 / 2) * theta1.diff(t) ** 2"
   ]
  },
  {
   "cell_type": "code",
   "execution_count": 11,
   "metadata": {},
   "outputs": [],
   "source": [
    "L = kinetic - (spring_potential + gravitational_potential)"
   ]
  },
  {
   "cell_type": "code",
   "execution_count": 12,
   "metadata": {},
   "outputs": [],
   "source": [
    "EL_r0     = sp.Eq(L.diff(    dr0).diff(t),L.diff(    r0)).simplify()\n",
    "EL_r1     = sp.Eq(L.diff(    dr1).diff(t),L.diff(    r1)).simplify()\n",
    "EL_theta0 = sp.Eq(L.diff(dtheta0).diff(t),L.diff(theta0)).simplify()\n",
    "EL_theta1 = sp.Eq(L.diff(dtheta1).diff(t),L.diff(theta1)).simplify()"
   ]
  },
  {
   "cell_type": "code",
   "execution_count": 13,
   "metadata": {},
   "outputs": [],
   "source": [
    "soln = sp.solve(\n",
    "    [EL_r0, EL_r1, EL_theta0, EL_theta1], \n",
    "    [r0.diff(t, 2), r1.diff(t, 2), theta0.diff(t, 2), theta1.diff(t, 2)]\n",
    "    )"
   ]
  },
  {
   "cell_type": "code",
   "execution_count": 14,
   "metadata": {},
   "outputs": [],
   "source": [
    "keys = list(soln.keys())\n",
    "\n",
    "soln_list = [sp.Eq(key,soln[key]) for key in keys]"
   ]
  },
  {
   "cell_type": "code",
   "execution_count": 15,
   "metadata": {},
   "outputs": [],
   "source": [
    "ddr0 = soln_list[0].simplify()\n",
    "ddr1 = soln_list[1].simplify()\n",
    "ddtheta0 = soln_list[2].simplify()\n",
    "ddtheta1 = soln_list[3].simplify()"
   ]
  },
  {
   "cell_type": "code",
   "execution_count": 16,
   "metadata": {},
   "outputs": [],
   "source": [
    "subs_dict = {\n",
    "        r0.diff(t   ):sp.Function(      r'\\dot{r}_0')(t),\n",
    "        r1.diff(t   ):sp.Function(      r'\\dot{r}_1')(t),\n",
    "    theta0.diff(t   ):sp.Function( r'\\dot{\\theta}_0')(t),\n",
    "    theta1.diff(t   ):sp.Function( r'\\dot{\\theta}_1')(t),\n",
    "        r0.diff(t, 2):sp.Function(     r'\\ddot{r}_0')(t),\n",
    "        r1.diff(t, 2):sp.Function(     r'\\ddot{r}_1')(t),\n",
    "    theta0.diff(t, 2):sp.Function(r'\\ddot{\\theta}_0')(t),\n",
    "    theta1.diff(t, 2):sp.Function(r'\\ddot{\\theta}_1')(t)\n",
    "    }"
   ]
  },
  {
   "cell_type": "code",
   "execution_count": 17,
   "metadata": {},
   "outputs": [],
   "source": [
    "def convert(_):\n",
    "    return str(_.subs(subs_dict).rhs).replace('(t)','').replace('\\\\left','').replace('\\\\right','').replace('\\\\theta','theta').replace('\\\\dot{theta}','dtheta').replace('\\\\dot{r}','dr').replace('_','').replace(' - ','-').replace(' + ','+')"
   ]
  },
  {
   "cell_type": "code",
   "execution_count": 18,
   "metadata": {},
   "outputs": [
    {
     "output_type": "execute_result",
     "data": {
      "text/plain": [
       "'2*(-6*m0*m1*(3*g*sin(theta1)-3*dtheta0**2*r0*sin(theta0-theta1)+6*dtheta0*dr0*cos(theta0-theta1)+4*dtheta1*dr1)*sin(theta0-theta1)-3*m1*(3*g*m0*sin(theta0)+6*g*m1*sin(theta0)+4*m0*dtheta0*dr0+12*m1*dtheta0*dr0+3*m1*dtheta1**2*r1*sin(theta0-theta1)+6*m1*dtheta1*dr1*cos(theta0-theta1))*sin(theta0-theta1)*cos(theta0-theta1)+(8*m0+6*m1)*(3*g*m1*cos(theta1)+6*k1*l1-6*k1*r1+3*m1*dtheta0**2*r0*cos(theta0-theta1)+6*m1*dtheta0*dr0*sin(theta0-theta1)+2*m1*dtheta1**2*r1)*cos(theta0-theta1)-(4*m0-12*m1*sin(theta0-theta1)**2-9*m1*cos(theta0-theta1)**2+12*m1)*(3*g*m0*cos(theta0)+6*g*m1*cos(theta0)+6*k0*l0-6*k0*r0+2*m0*dtheta0**2*r0+6*m1*dtheta0**2*r0+3*m1*dtheta1**2*r1*cos(theta0-theta1)-6*m1*dtheta1*dr1*sin(theta0-theta1)))/(3*m0*(-4*m0+2*m1*sin(theta0)*sin(theta1)*cos(theta0-theta1)+m1*cos(theta0)**2+m1*cos(theta1)**2-5*m1))'"
      ]
     },
     "metadata": {},
     "execution_count": 18
    }
   ],
   "source": [
    "convert(ddr0)"
   ]
  },
  {
   "cell_type": "code",
   "execution_count": 19,
   "metadata": {},
   "outputs": [
    {
     "output_type": "execute_result",
     "data": {
      "text/plain": [
       "'2*(3*m0*m1**2*(3*g*sin(theta1)-3*dtheta0**2*r0*sin(theta0-theta1)+6*dtheta0*dr0*cos(theta0-theta1)+4*dtheta1*dr1)*sin(theta0-theta1)*cos(theta0-theta1)+6*m1*(m0+m1)*(3*g*m0*sin(theta0)+6*g*m1*sin(theta0)+4*m0*dtheta0*dr0+12*m1*dtheta0*dr0+3*m1*dtheta1**2*r1*sin(theta0-theta1)+6*m1*dtheta1*dr1*cos(theta0-theta1))*sin(theta0-theta1)+2*m1*(4*m0+3*m1)*(3*g*m0*cos(theta0)+6*g*m1*cos(theta0)+6*k0*l0-6*k0*r0+2*m0*dtheta0**2*r0+6*m1*dtheta0**2*r0+3*m1*dtheta1**2*r1*cos(theta0-theta1)-6*m1*dtheta1*dr1*sin(theta0-theta1))*cos(theta0-theta1)+(12*m1*(m0+3*m1)*sin(theta0-theta1)**2+9*m1*(m0+4*m1)*cos(theta0-theta1)**2-4*(m0+3*m1)*(m0+4*m1))*(3*g*m1*cos(theta1)+6*k1*l1-6*k1*r1+3*m1*dtheta0**2*r0*cos(theta0-theta1)+6*m1*dtheta0*dr0*sin(theta0-theta1)+2*m1*dtheta1**2*r1))/(3*m0*m1*(-4*m0+2*m1*sin(theta0)*sin(theta1)*cos(theta0-theta1)+m1*cos(theta0)**2+m1*cos(theta1)**2-5*m1))'"
      ]
     },
     "metadata": {},
     "execution_count": 19
    }
   ],
   "source": [
    "convert(ddr1)"
   ]
  },
  {
   "cell_type": "code",
   "execution_count": 20,
   "metadata": {},
   "outputs": [
    {
     "output_type": "execute_result",
     "data": {
      "text/plain": [
       "'(-3*m0*m1*(3*g*sin(theta1)-3*dtheta0**2*r0*sin(theta0-theta1)+6*dtheta0*dr0*cos(theta0-theta1)+4*dtheta1*dr1)*cos(theta0-theta1)+2*m1*(3*g*m0*cos(theta0)+6*g*m1*cos(theta0)+6*k0*l0-6*k0*r0+2*m0*dtheta0**2*r0+6*m1*dtheta0**2*r0+3*m1*dtheta1**2*r1*cos(theta0-theta1)-6*m1*dtheta1*dr1*sin(theta0-theta1))*sin(theta0-theta1)*cos(theta0-theta1)-4*(m0+m1)*(3*g*m1*cos(theta1)+6*k1*l1-6*k1*r1+3*m1*dtheta0**2*r0*cos(theta0-theta1)+6*m1*dtheta0*dr0*sin(theta0-theta1)+2*m1*dtheta1**2*r1)*sin(theta0-theta1)+2*(m0-3*m1*sin(theta0-theta1)**2-4*m1*cos(theta0-theta1)**2+4*m1)*(3*g*m0*sin(theta0)+6*g*m1*sin(theta0)+4*m0*dtheta0*dr0+12*m1*dtheta0*dr0+3*m1*dtheta1**2*r1*sin(theta0-theta1)+6*m1*dtheta1*dr1*cos(theta0-theta1)))/(m0*(-4*m0+2*m1*sin(theta0)*sin(theta1)*cos(theta0-theta1)+m1*cos(theta0)**2+m1*cos(theta1)**2-5*m1)*r0)'"
      ]
     },
     "metadata": {},
     "execution_count": 20
    }
   ],
   "source": [
    "convert(ddtheta0)"
   ]
  },
  {
   "cell_type": "code",
   "execution_count": 21,
   "metadata": {},
   "outputs": [
    {
     "output_type": "execute_result",
     "data": {
      "text/plain": [
       "'(-3*m0*(3*g*m0*sin(theta0)+6*g*m1*sin(theta0)+4*m0*dtheta0*dr0+12*m1*dtheta0*dr0+3*m1*dtheta1**2*r1*sin(theta0-theta1)+6*m1*dtheta1*dr1*cos(theta0-theta1))*cos(theta0-theta1)-2*m0*(3*g*m1*cos(theta1)+6*k1*l1-6*k1*r1+3*m1*dtheta0**2*r0*cos(theta0-theta1)+6*m1*dtheta0*dr0*sin(theta0-theta1)+2*m1*dtheta1**2*r1)*sin(theta0-theta1)*cos(theta0-theta1)+4*m0*(3*g*m0*cos(theta0)+6*g*m1*cos(theta0)+6*k0*l0-6*k0*r0+2*m0*dtheta0**2*r0+6*m1*dtheta0**2*r0+3*m1*dtheta1**2*r1*cos(theta0-theta1)-6*m1*dtheta1*dr1*sin(theta0-theta1))*sin(theta0-theta1)-2*(4*m1*(m0+3*m1)*cos(theta0-theta1)**2+3*m1*(m0+4*m1)*sin(theta0-theta1)**2-(m0+3*m1)*(m0+4*m1))*(3*g*sin(theta1)-3*dtheta0**2*r0*sin(theta0-theta1)+6*dtheta0*dr0*cos(theta0-theta1)+4*dtheta1*dr1))/(m0*(-4*m0+2*m1*sin(theta0)*sin(theta1)*cos(theta0-theta1)+m1*cos(theta0)**2+m1*cos(theta1)**2-5*m1)*r1)'"
      ]
     },
     "metadata": {},
     "execution_count": 21
    }
   ],
   "source": [
    "convert(ddtheta1)"
   ]
  },
  {
   "source": [
    "```js\n",
    "ddr0 = (2*(-6*m0*m1*(3*g*sin(theta1)-3*dtheta0^2*r0*sin(theta0-theta1)+6*dtheta0*dr0*cos(theta0-theta1)+4*dtheta1*dr1)*sin(theta0-theta1)-3*m1*(3*g*m0*sin(theta0)+6*g*m1*sin(theta0)+4*m0*dtheta0*dr0+12*m1*dtheta0*dr0+3*m1*dtheta1^2*r1*sin(theta0-theta1)+6*m1*dtheta1*dr1*cos(theta0-theta1))*sin(theta0-theta1)*cos(theta0-theta1)+(8*m0+6*m1)*(3*g*m1*cos(theta1)+6*k1*l1-6*k1*r1+3*m1*dtheta0^2*r0*cos(theta0-theta1)+6*m1*dtheta0*dr0*sin(theta0-theta1)+2*m1*dtheta1^2*r1)*cos(theta0-theta1)-(4*m0-12*m1*sin^2(theta0-theta1)-9*m1*cos^2(theta0-theta1)+12*m1)*(3*g*m0*cos(theta0)+6*g*m1*cos(theta0)+6*k0*l0-6*k0*r0+2*m0*dtheta0^2*r0+6*m1*dtheta0^2*r0+3*m1*dtheta1^2*r1*cos(theta0-theta1)-6*m1*dtheta1*dr1*sin(theta0-theta1))))/(3*m0*(-4*m0+2*m1*sin(theta0)*sin(theta1)*cos(theta0-theta1)+m1*cos^2(theta0)+m1*cos^2(theta1)-5*m1));\n",
    "\n",
    "ddr1 = \\frac{2*(3*m0*m1^2*(3 g\\sin{(\\theta1)}-3 dtheta0^2 r0\\sin{(\\theta0-\\theta1)}+6 dtheta0 dr0\\cos{(\\theta0-\\theta1)}+4 dtheta1 dr1)\\sin{(\\theta0-\\theta1)}\\cos{(\\theta0-\\theta1)}+6 m1 (m0+m1) (3 g m0\\sin{(\\theta0)}+6 g m1\\sin{(\\theta0)}+4 m0 dtheta0 dr0+12 m1 dtheta0 dr0+3 m1 dtheta1^2 r1\\sin{(\\theta0-\\theta1)}+6 m1 dtheta1 dr1\\cos{(\\theta0-\\theta1)})\\sin{(\\theta0-\\theta1)}+2 m1 (4 m0+3 m1) (3 g m0\\cos{(\\theta0)}+6 g m1\\cos{(\\theta0)}+6 k0 l0-6 k0 r0+2 m0 dtheta0^2 r0+6 m1 dtheta0^2 r0+3 m1 dtheta1^2 r1\\cos{(\\theta0-\\theta1)}-6 m1 dtheta1 dr1\\sin{(\\theta0-\\theta1)})\\cos{(\\theta0-\\theta1)}+(12 m1 (m0+3 m1)\\sin^2{(\\theta0-\\theta1)}+9 m1 (m0+4 m1)\\cos^2{(\\theta0-\\theta1)}-4 (m0+3 m1) (m0+4 m1)) (3 g m1\\cos{(\\theta1)}+6 k1 l1-6 k1 r1+3 m1 dtheta0^2 r0\\cos{(\\theta0-\\theta1)}+6 m1 dtheta0 dr0\\sin{(\\theta0-\\theta1)}+2 m1 dtheta1^2 r1))}{3 m0 m1 (-4 m0+2 m1\\sin{(\\theta0)}\\sin{(\\theta1)}\\cos{(\\theta0-\\theta1)}+m1\\cos^2{(\\theta0)}+m1\\cos^2{(\\theta1)}-5 m1)};\n",
    "\n",
    "ddtheta0 = \\frac{-3 m0 m1 (3 g\\sin{(\\theta1)}-3 dtheta0^2 r0\\sin{(\\theta0-\\theta1)}+6 dtheta0 dr0\\cos{(\\theta0-\\theta1)}+4 dtheta1 dr1)\\cos{(\\theta0-\\theta1)}+2 m1 (3 g m0\\cos{(\\theta0)}+6 g m1\\cos{(\\theta0)}+6 k0 l0-6 k0 r0+2 m0 dtheta0^2 r0+6 m1 dtheta0^2 r0+3 m1 dtheta1^2 r1\\cos{(\\theta0-\\theta1)}-6 m1 dtheta1 dr1\\sin{(\\theta0-\\theta1)})\\sin{(\\theta0-\\theta1)}\\cos{(\\theta0-\\theta1)}-4 (m0+m1) (3 g m1\\cos{(\\theta1)}+6 k1 l1-6 k1 r1+3 m1 dtheta0^2 r0\\cos{(\\theta0-\\theta1)}+6 m1 dtheta0 dr0\\sin{(\\theta0-\\theta1)}+2 m1 dtheta1^2 r1)\\sin{(\\theta0-\\theta1)}+2 (m0-3 m1\\sin^2{(\\theta0-\\theta1)}-4 m1\\cos^2{(\\theta0-\\theta1)}+4 m1) (3 g m0\\sin{(\\theta0)}+6 g m1\\sin{(\\theta0)}+4 m0 dtheta0 dr0+12 m1 dtheta0 dr0+3 m1 dtheta1^2 r1\\sin{(\\theta0-\\theta1)}+6 m1 dtheta1 dr1\\cos{(\\theta0-\\theta1)})}{m0 (-4 m0+2 m1\\sin{(\\theta0)}\\sin{(\\theta1)}\\cos{(\\theta0-\\theta1)}+m1\\cos^2{(\\theta0)}+m1\\cos^2{(\\theta1)}-5 m1) r0};\n",
    "\n",
    "ddtheta1 = \\frac{-3 m0 (3 g m0\\sin{(\\theta0)}+6 g m1\\sin{(\\theta0)}+4 m0 dtheta0 dr0+12 m1 dtheta0 dr0+3 m1 dtheta1^2 r1\\sin{(\\theta0-\\theta1)}+6 m1 dtheta1 dr1\\cos{(\\theta0-\\theta1)})\\cos{(\\theta0-\\theta1)}-2 m0 (3 g m1\\cos{(\\theta1)}+6 k1 l1-6 k1 r1+3 m1 dtheta0^2 r0\\cos{(\\theta0-\\theta1)}+6 m1 dtheta0 dr0\\sin{(\\theta0-\\theta1)}+2 m1 dtheta1^2 r1)\\sin{(\\theta0-\\theta1)}\\cos{(\\theta0-\\theta1)}+4 m0 (3 g m0\\cos{(\\theta0)}+6 g m1\\cos{(\\theta0)}+6 k0 l0-6 k0 r0+2 m0 dtheta0^2 r0+6 m1 dtheta0^2 r0+3 m1 dtheta1^2 r1\\cos{(\\theta0-\\theta1)}-6 m1 dtheta1 dr1\\sin{(\\theta0-\\theta1)})\\sin{(\\theta0-\\theta1)}-2 (4 m1 (m0+3 m1)\\cos^2{(\\theta0-\\theta1)}+3 m1 (m0+4 m1)\\sin^2{(\\theta0-\\theta1)}-(m0+3 m1) (m0+4 m1)) (3 g\\sin{(\\theta1)}-3 dtheta0^2 r0\\sin{(\\theta0-\\theta1)}+6 dtheta0 dr0\\cos{(\\theta0-\\theta1)}+4 dtheta1 dr1)}{m0 (-4 m0+2 m1\\sin{(\\theta0)}\\sin{(\\theta1)}\\cos{(\\theta0-\\theta1)}+m1\\cos^2{(\\theta0)}+m1\\cos^2{(\\theta1)}-5 m1) r1};\n",
    "```"
   ],
   "cell_type": "markdown",
   "metadata": {}
  },
  {
   "cell_type": "code",
   "execution_count": null,
   "metadata": {},
   "outputs": [],
   "source": []
  }
 ],
 "metadata": {
  "kernelspec": {
   "name": "Python 3.7.7 64-bit ('intelpython3': conda)",
   "display_name": "Python 3.7.7 64-bit ('intelpython3': conda)",
   "metadata": {
    "interpreter": {
     "hash": "3c39ec2a28bbc0af97d56f4d2d4fe9c2d698f3d845911487570cbe2e6b4c20e0"
    }
   }
  },
  "language_info": {
   "codemirror_mode": {
    "name": "ipython",
    "version": 3
   },
   "file_extension": ".py",
   "mimetype": "text/x-python",
   "name": "python",
   "nbconvert_exporter": "python",
   "pygments_lexer": "ipython3",
   "version": "3.7.7-final"
  }
 },
 "nbformat": 4,
 "nbformat_minor": 4
}