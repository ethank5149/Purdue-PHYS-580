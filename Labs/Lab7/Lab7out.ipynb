{
 "cells": [
  {
   "cell_type": "markdown",
   "metadata": {},
   "source": [
    "<center>\n",
    "<h1><b>Lab 7</b></h1>\n",
    "<h1>PHYS 580 - Computational Physics</h1>\n",
    "<h2>Professor Molnar</h2>\n",
    "</br>\n",
    "<h3><b>Ethan Knox</b></h3>\n",
    "<h4>https://www.github.com/ethank5149</h4>\n",
    "<h4>ethank5149@gmail.com</h4>\n",
    "</br>\n",
    "</br>\n",
    "<h3><b>October 15, 2020</b></h3>\n",
    "<hr>\n",
    "</center>"
   ]
  },
  {
   "cell_type": "markdown",
   "metadata": {},
   "source": [
    "### Imports"
   ]
  },
  {
   "cell_type": "code",
   "execution_count": 48,
   "metadata": {
    "jupyter": {
     "source_hidden": true
    }
   },
   "outputs": [],
   "source": [
    "from numba import jit\n",
    "import numpy as np\n",
    "import matplotlib.pyplot as plt\n",
    "from tqdm import tqdm"
   ]
  },
  {
   "cell_type": "markdown",
   "metadata": {},
   "source": [
    "### Settings"
   ]
  },
  {
   "cell_type": "code",
   "execution_count": 49,
   "metadata": {},
   "outputs": [],
   "source": [
    "np.set_printoptions(sign=' ', linewidth=100, precision=4, suppress=True)\n",
    "plt.style.use('dark_background')"
   ]
  },
  {
   "cell_type": "markdown",
   "metadata": {},
   "source": [
    "### Load External Files"
   ]
  },
  {
   "cell_type": "code",
   "execution_count": 50,
   "metadata": {},
   "outputs": [],
   "source": [
    "%run src/laplacian.py\n",
    "%run src/jacobi.py\n",
    "%run src/gauss_seidel.py\n",
    "%run src/sor.py\n",
    "%run src/ssor.py\n",
    "%run src/analytic.py\n",
    "%run src/compose_soln.py"
   ]
  },
  {
   "cell_type": "markdown",
   "metadata": {},
   "source": [
    "### Parameters"
   ]
  },
  {
   "cell_type": "code",
   "execution_count": 51,
   "metadata": {},
   "outputs": [],
   "source": [
    "N = 500\n",
    "V = 1\n",
    "Li, Lj = 1, 1\n",
    "n = 50\n",
    "skip = int(n/25)"
   ]
  },
  {
   "cell_type": "markdown",
   "metadata": {},
   "source": [
    "### Setup"
   ]
  },
  {
   "cell_type": "code",
   "execution_count": 52,
   "metadata": {},
   "outputs": [],
   "source": [
    "i = np.linspace(0, Li, n)\n",
    "j = np.linspace(0, Lj, n)\n",
    "ii, jj = np.meshgrid(i, j, indexing='ij')\n",
    "\n",
    "PDE = -laplacian_2d(n)\n",
    "\n",
    "b = np.zeros_like(PDE[:,1])\n",
    "b[:n-2] = np.repeat(-V, n - 2)\n",
    "b[-n+2:] = np.repeat(V, n - 2)\n",
    "\n",
    "x_init = np.random.random(b.size)"
   ]
  },
  {
   "cell_type": "markdown",
   "metadata": {},
   "source": [
    "## Analytic Solution"
   ]
  },
  {
   "cell_type": "markdown",
   "metadata": {},
   "source": [
    "Laplace Equation:\n",
    "$$\\nabla^2\\phi=\\frac{\\partial^2\\phi}{\\partial x^2}+\\frac{\\partial^2\\phi}{\\partial y^2}=0$$\n",
    "$$\\Downarrow$$\n",
    "$$\\phi_{xx}+\\phi_{yy}=0$$\n",
    "<hr>"
   ]
  },
  {
   "cell_type": "markdown",
   "metadata": {},
   "source": [
    "Solution:\n",
    "\n",
    "$$\\phi\\left(x,y\\right)=\\sum_{n=1}^{\\infty}c_{n}\\sin\\left(\\frac{n\\pi x}{H}\\right)\\frac{\\sinh\\left(\\frac{n\\pi}{H}\\left(L-y\\right)\\right)}{\\sinh\\left(\\frac{n\\pi L}{H}\\right)}+\\sum_{n=1}^{\\infty}d_{n}\\sin\\left(\\frac{n\\pi x}{H}\\right)\\frac{\\sinh\\left(\\frac{n\\pi y}{H}\\right)}{\\sinh\\left(\\frac{n\\pi L}{H}\\right)}$$\n",
    "\n",
    "$$c_{n}=\\frac{-2V}{H}\\int_{0}^{H}\\sin\\left(\\frac{n\\pi x}{H}\\right)dx=\\frac{2V}{n\\pi}\\left(\\left(-1\\right)^{n}-1\\right)$$\n",
    "\n",
    "$$d_{n}=\\frac{2V}{H}\\int_{0}^{H}\\sin\\left(\\frac{n\\pi x}{H}\\right)dx=-\\frac{2V}{n\\pi}\\left(\\left(-1\\right)^{n}-1\\right)$$\n",
    "\n",
    "$$\\phi\\left(x,y\\right)=\\frac{2V}{\\pi}\\left(\\sum_{n=1}^{\\infty}\\frac{\\left(\\left(-1\\right)^{n}-1\\right)}{n}\\sin\\left(\\frac{n\\pi x}{H}\\right)\\frac{\\sinh\\left(\\frac{n\\pi}{H}\\left(L-y\\right)\\right)}{\\sinh\\left(\\frac{n\\pi L}{H}\\right)}-\\sum_{n=1}^{\\infty}\\frac{\\left(\\left(-1\\right)^{n}-1\\right)}{n}\\sin\\left(\\frac{n\\pi x}{H}\\right)\\frac{\\sinh\\left(\\frac{n\\pi y}{H}\\right)}{\\sinh\\left(\\frac{n\\pi L}{H}\\right)}\\right)$$\n",
    "<hr>"
   ]
  },
  {
   "cell_type": "markdown",
   "metadata": {},
   "source": [
    "#### Simulation"
   ]
  },
  {
   "cell_type": "code",
   "execution_count": 53,
   "metadata": {
    "jupyter": {
     "source_hidden": true
    }
   },
   "outputs": [],
   "source": [
    "soln = analytic(i, j, 25, Li, Lj, V)"
   ]
  },
  {
   "cell_type": "markdown",
   "metadata": {},
   "source": [
    "#### Post-Analysis"
   ]
  },
  {
   "cell_type": "code",
   "execution_count": 54,
   "metadata": {
    "jupyter": {
     "source_hidden": true
    }
   },
   "outputs": [],
   "source": [
    "grad_analytic_i, grad_analytic_j = np.gradient(soln.T, i, j)"
   ]
  },
  {
   "cell_type": "markdown",
   "metadata": {},
   "source": [
    "### Plotting"
   ]
  },
  {
   "cell_type": "code",
   "execution_count": 55,
   "metadata": {
    "jupyter": {
     "source_hidden": true
    }
   },
   "outputs": [],
   "source": [
    "%%capture\n",
    "# The plot is suppressed from outputting below, but should save to the current directory!\n",
    "fig, ax = plt.subplots(1,1, figsize=(16,16), dpi=200, constrained_layout=True)\n",
    "contour = ax.contourf(jj, ii, soln.T, levels=20, linestyles = 'solid', cmap=plt.cm.jet)\n",
    "contour_lines = ax.contour(jj, ii, soln.T, levels=20, linestyles = 'solid', linewidths=0.5, colors='k')\n",
    "contour_line_labels = plt.clabel(contour_lines, colors='k')\n",
    "quiver = ax.quiver(\n",
    "    jj[::skip, ::skip], \n",
    "    ii[::skip, ::skip], \n",
    "    -grad_analytic_j[::skip, ::skip], \n",
    "    -grad_analytic_i[::skip, ::skip])\n",
    "\n",
    "ax.set_title('Laplace Equation 2D | Analytic Solution')\n",
    "ax.set_xlabel('x [m]')\n",
    "ax.set_ylabel('y [m]')\n",
    "plt.savefig('plots/analytic_solution.png')"
   ]
  },
  {
   "cell_type": "markdown",
   "metadata": {},
   "source": [
    "<hr>"
   ]
  },
  {
   "cell_type": "markdown",
   "metadata": {},
   "source": [
    "# Problem 1\n",
    "Use the starter program `capacitor_Jacobi.py` (or its Matlab version, or your equivalent program) to solve the Laplace equation for a parallel-plate capacitor using the Jacobi relaxation algorithm (the Matlab version has two source files, `capacitor_Jacobi.m` and `capacitor_update_Jacobi.m`). In the z direction, the plates are assumed to extend from $z=−\\infty\\to\\infty$ (translational symmetry), so the problem is only two-dimensional. Calculate and plot the potential surfaces, equipotential contours and the electric field (cf.pp.140-141 in the textbook). How many iterations (sweeps through the lattice) are required as a function of the mesh size to reach a given level of accuracy? At fixed mesh size, how does the total number of iterations needed depend on the desired accuracy? Compare your convergence results with the theoretical expectations. \n",
    "<hr>"
   ]
  },
  {
   "cell_type": "markdown",
   "metadata": {},
   "source": [
    "### Simulation"
   ]
  },
  {
   "cell_type": "code",
   "execution_count": 56,
   "metadata": {
    "jupyter": {
     "source_hidden": true
    }
   },
   "outputs": [],
   "source": [
    "x = jacobi(PDE, b, x_init)"
   ]
  },
  {
   "cell_type": "markdown",
   "metadata": {},
   "source": [
    "### Post-Analysis"
   ]
  },
  {
   "cell_type": "code",
   "execution_count": 57,
   "metadata": {
    "jupyter": {
     "source_hidden": true
    }
   },
   "outputs": [],
   "source": [
    "A = np.zeros((n, n))\n",
    "A[0, :] = V * np.ones(n)\n",
    "A[-1, :] = -V * np.ones(n)\n",
    "A[1:-1,1:-1] = x.reshape((n-2,n-2))\n",
    "\n",
    "grad_A_i, grad_A_j = np.gradient(A, i, j)"
   ]
  },
  {
   "cell_type": "markdown",
   "metadata": {},
   "source": [
    "### Plotting"
   ]
  },
  {
   "cell_type": "code",
   "execution_count": 58,
   "metadata": {
    "jupyter": {
     "source_hidden": true
    }
   },
   "outputs": [],
   "source": [
    "%%capture\n",
    "# The plot is suppressed from outputting below, but should save to the current directory!\n",
    "fig, ax = plt.subplots(1,1, figsize=(16,16), dpi=200, constrained_layout=True)\n",
    "contour = ax.contourf(jj, ii, A, levels=20, linestyles = 'solid', cmap=plt.cm.jet)\n",
    "contour_lines = ax.contour(jj, ii, A, levels=20, linestyles = 'solid', linewidths=0.5, colors='k')\n",
    "contour_line_labels = plt.clabel(contour_lines, colors='k')\n",
    "quiver = ax.quiver(\n",
    "    jj[::skip, ::skip], \n",
    "    ii[::skip, ::skip], \n",
    "    -grad_A_j[::skip, ::skip],\n",
    "    -grad_A_i[::skip, ::skip])\n",
    "\n",
    "ax.set_title('Laplace Equation 2D | Jacobi Method')\n",
    "ax.set_xlabel('x [m]')\n",
    "ax.set_ylabel('y [m]')\n",
    "plt.savefig('plots/P1_plot.png')"
   ]
  },
  {
   "cell_type": "markdown",
   "metadata": {},
   "source": [
    "### Accuracy Analysis"
   ]
  },
  {
   "cell_type": "markdown",
   "metadata": {},
   "source": [
    "#### Number of Jacobi Iterations"
   ]
  },
  {
   "cell_type": "code",
   "execution_count": 59,
   "metadata": {},
   "outputs": [
    {
     "name": "stderr",
     "output_type": "stream",
     "text": [
      "100%|██████████| 25/25 [00:54<00:00,  2.17s/it]\n"
     ]
    }
   ],
   "source": [
    "num_iterations = np.linspace(100, 1500, 25)\n",
    "norms = []\n",
    "for _N in tqdm(num_iterations):\n",
    "    x = jacobi(PDE, b, x_init, max_iter=_N)\n",
    "    A = compose_soln(x, n, V)\n",
    "    norms.append(np.linalg.norm(A-soln.T))"
   ]
  },
  {
   "cell_type": "code",
   "execution_count": 60,
   "metadata": {},
   "outputs": [],
   "source": [
    "%%capture\n",
    "# The plot is suppressed from outputting below, but should save to the current directory!\n",
    "fig, ax = plt.subplots(1,1, figsize=(16,16), dpi=200, constrained_layout=True)\n",
    "plot = ax.plot(num_iterations, norms)\n",
    "\n",
    "ax.set_title(r'Approx. Solution Error Norm vs. Number of Jacobi Iteration Steps')\n",
    "ax.set_xlabel('# of Jacobi iterations')\n",
    "ax.set_ylabel('2-norm of Matrix Error (np.linalg.norm(Approx - Exact))')\n",
    "ax.grid()\n",
    "plt.savefig('plots/P1_error_analysis_iteration_steps.png')"
   ]
  },
  {
   "cell_type": "markdown",
   "metadata": {},
   "source": [
    "#### Grid Size"
   ]
  },
  {
   "cell_type": "code",
   "execution_count": 61,
   "metadata": {},
   "outputs": [
    {
     "name": "stderr",
     "output_type": "stream",
     "text": [
      "100%|██████████| 45/45 [00:48<00:00,  1.08s/it]\n"
     ]
    }
   ],
   "source": [
    "num_points = np.arange(5, 50, 1)\n",
    "norms = []\n",
    "for n in tqdm(num_points):\n",
    "    # Recalculate Mesh and reconstruct matrices/vectors\n",
    "    i = np.linspace(0, Li, n)\n",
    "    j = np.linspace(0, Lj, n)\n",
    "    ii, jj = np.meshgrid(i, j, indexing='ij')\n",
    "    PDE = -laplacian_2d(n)\n",
    "    b = np.zeros_like(PDE[:,1])\n",
    "    b[:n-2] = np.repeat(-V, n - 2)\n",
    "    b[-n+2:] = np.repeat(V, n - 2)\n",
    "    x_init = np.random.random(b.size)\n",
    "    \n",
    "    # Rerun the simulation with the new mesh\n",
    "    x_approx = jacobi(PDE, b, x_init, max_iter=_N)\n",
    "    A = compose_soln(x_approx, n, V)\n",
    "    soln = analytic(i, j, 25, Li, Lj, V)\n",
    "    norms.append(np.linalg.norm(A-soln.T))"
   ]
  },
  {
   "cell_type": "code",
   "execution_count": 62,
   "metadata": {},
   "outputs": [],
   "source": [
    "%%capture\n",
    "# The plot is suppressed from outputting below, but should save to the current directory!\n",
    "fig, ax = plt.subplots(1,1, figsize=(16,16), dpi=200, constrained_layout=True)\n",
    "plot = ax.plot(num_points, norms)\n",
    "\n",
    "ax.set_title(r'Approx. Solution Error Norm vs. Number of Grid Points')\n",
    "ax.set_xlabel(r'Number of Grid Points on Each Side')\n",
    "ax.set_ylabel('2-norm of Matrix Error (np.linalg.norm(Approx - Exact))')\n",
    "ax.grid()\n",
    "plt.savefig('plots/P1_error_analysis_grid_size.png')"
   ]
  },
  {
   "cell_type": "markdown",
   "metadata": {},
   "source": [
    "# Problem 2\n",
    "Implement the Gauss-Seidel method to solve the same capacitor problem as in (1). Calculate the potential and analyze any differences in convergence compared to what you found for the Jacobi algorithm in (1)."
   ]
  },
  {
   "cell_type": "markdown",
   "metadata": {},
   "source": [
    "### Simulation"
   ]
  },
  {
   "cell_type": "code",
   "execution_count": 63,
   "metadata": {},
   "outputs": [],
   "source": [
    "x = gauss_seidel(PDE, b, x_init)"
   ]
  },
  {
   "cell_type": "markdown",
   "metadata": {},
   "source": [
    "### Post-Analysis"
   ]
  },
  {
   "cell_type": "code",
   "execution_count": 64,
   "metadata": {},
   "outputs": [],
   "source": [
    "A = np.zeros((n, n))\n",
    "A[0, :] = V * np.ones(n)\n",
    "A[-1, :] = -V * np.ones(n)\n",
    "A[1:-1,1:-1] = x.reshape((n-2,n-2))\n",
    "\n",
    "grad_A_i, grad_A_j = np.gradient(A, i, j)"
   ]
  },
  {
   "cell_type": "markdown",
   "metadata": {},
   "source": [
    "### Plotting"
   ]
  },
  {
   "cell_type": "code",
   "execution_count": 65,
   "metadata": {},
   "outputs": [],
   "source": [
    "%%capture\n",
    "# The plot is suppressed from outputting below, but should save to the current directory!\n",
    "fig, ax = plt.subplots(1,1, figsize=(16,16), dpi=200, constrained_layout=True)\n",
    "contour = ax.contourf(jj, ii, A, levels=20, linestyles = 'solid', cmap=plt.cm.jet)\n",
    "contour_lines = ax.contour(jj, ii, A, levels=20, linestyles = 'solid', linewidths=0.5, colors='k')\n",
    "contour_line_labels = plt.clabel(contour_lines, colors='k')\n",
    "quiver = ax.quiver(\n",
    "    jj[::skip, ::skip], \n",
    "    ii[::skip, ::skip], \n",
    "    -grad_A_j[::skip, ::skip], \n",
    "    -grad_A_i[::skip, ::skip])\n",
    "\n",
    "ax.set_title('Laplace Equation 2D | Gauss-Seidel Method')\n",
    "ax.set_xlabel('x [m]')\n",
    "ax.set_ylabel('y [m]')\n",
    "plt.savefig('plots/P2_plot.png')"
   ]
  },
  {
   "cell_type": "markdown",
   "metadata": {},
   "source": [
    "### Accuracy Analysis"
   ]
  },
  {
   "cell_type": "markdown",
   "metadata": {},
   "source": [
    "#### Number of Gauss-Seidel Iterations"
   ]
  },
  {
   "cell_type": "code",
   "execution_count": 66,
   "metadata": {},
   "outputs": [
    {
     "name": "stderr",
     "output_type": "stream",
     "text": [
      "100%|██████████| 25/25 [01:08<00:00,  2.73s/it]\n"
     ]
    }
   ],
   "source": [
    "num_iterations = np.linspace(100, 1500, 25)\n",
    "norms = []\n",
    "for _N in tqdm(num_iterations):\n",
    "    x = gauss_seidel(PDE, b, x_init, max_iter=_N)\n",
    "    A = compose_soln(x, n, V)\n",
    "    norms.append(np.linalg.norm(A-soln.T))"
   ]
  },
  {
   "cell_type": "code",
   "execution_count": 67,
   "metadata": {},
   "outputs": [],
   "source": [
    "%%capture\n",
    "# The plot is suppressed from outputting below, but should save to the current directory!\n",
    "fig, ax = plt.subplots(1,1, figsize=(16,16), dpi=200, constrained_layout=True)\n",
    "plot = ax.plot(num_iterations, norms)\n",
    "\n",
    "ax.set_title(r'Approx. Solution Error Norm vs. Number of Gauss-Seidel Iteration Steps')\n",
    "ax.set_xlabel('# of Gauss-Seidel iterations')\n",
    "ax.set_ylabel('2-norm of Matrix Error (np.linalg.norm(Approx - Exact))')\n",
    "ax.grid()\n",
    "plt.savefig('plots/P2_error_analysis_iteration_steps.png')"
   ]
  },
  {
   "cell_type": "markdown",
   "metadata": {},
   "source": [
    "#### Grid Size"
   ]
  },
  {
   "cell_type": "code",
   "execution_count": 68,
   "metadata": {},
   "outputs": [
    {
     "name": "stderr",
     "output_type": "stream",
     "text": [
      "100%|██████████| 45/45 [00:53<00:00,  1.18s/it]\n"
     ]
    }
   ],
   "source": [
    "num_points = np.arange(5, 50, 1)\n",
    "norms = []\n",
    "for n in tqdm(num_points):\n",
    "    # Recalculate Mesh and reconstruct matrices/vectors\n",
    "    i = np.linspace(0, Li, n)\n",
    "    j = np.linspace(0, Lj, n)\n",
    "    ii, jj = np.meshgrid(i, j, indexing='ij')\n",
    "    PDE = -laplacian_2d(n)\n",
    "    b = np.zeros_like(PDE[:,1])\n",
    "    b[:n-2] = np.repeat(-V, n - 2)\n",
    "    b[-n+2:] = np.repeat(V, n - 2)\n",
    "    x_init = np.random.random(b.size)\n",
    "    \n",
    "    # Rerun the simulation with the new mesh\n",
    "    x_approx = gauss_seidel(PDE, b, x_init, max_iter=_N)\n",
    "    A = compose_soln(x_approx, n, V)\n",
    "    soln = analytic(i, j, 25, Li, Lj, V)\n",
    "    norms.append(np.linalg.norm(A-soln.T))"
   ]
  },
  {
   "cell_type": "code",
   "execution_count": 69,
   "metadata": {},
   "outputs": [],
   "source": [
    "%%capture\n",
    "# The plot is suppressed from outputting below, but should save to the current directory!\n",
    "fig, ax = plt.subplots(1,1, figsize=(16,16), dpi=200, constrained_layout=True)\n",
    "plot = ax.plot(num_points, norms)\n",
    "\n",
    "ax.set_title(r'Approx. Solution Error Norm vs. Number of Grid Points')\n",
    "ax.set_xlabel(r'Number of Grid Points on Each Side')\n",
    "ax.set_ylabel('2-norm of Matrix Error (np.linalg.norm(Approx - Exact))')\n",
    "ax.grid()\n",
    "plt.savefig('plots/P2_error_analysis_grid_size.png')"
   ]
  },
  {
   "cell_type": "markdown",
   "metadata": {},
   "source": [
    "# Problem 3\n",
    "Numerically solve the Poisson equation for the capacitor problem in (1) by introducing a term $\\frac{\\rho}{\\epsilon_0}$ on the right hand side of the two-dimensional Laplace equation, at your favorite location away from the capacitor and the boundaries. Calculate the electric potentials and fields in this case using any of the three methods discussed so far (see Section 5.2 for how to include charge in the calculation). Compare with theoretical expectations in limiting cases where that is possible (where you can). Explain what the constant term you added corresponds to physically in this 2D calculation; is this a true point charge?"
   ]
  },
  {
   "cell_type": "code",
   "execution_count": 70,
   "metadata": {},
   "outputs": [],
   "source": [
    "N = 500\n",
    "V = 1\n",
    "Li = Lj = 1\n",
    "n = 50\n",
    "dx = dy = Li / n\n",
    "skip = int(n/25)"
   ]
  },
  {
   "cell_type": "code",
   "execution_count": 71,
   "metadata": {},
   "outputs": [],
   "source": [
    "i = np.linspace(0, Li, n)\n",
    "j = np.linspace(0, Lj, n)\n",
    "ii, jj = np.meshgrid(i, j, indexing='ij')\n",
    "\n",
    "PDE = -laplacian_2d(n)\n",
    "\n",
    "b = np.zeros_like(PDE[:,1])   \n",
    "b[:n-2] = np.repeat(-V, n - 2)\n",
    "b[-n+2:] = np.repeat(V, n - 2)\n",
    "\n",
    "rng = np.random.default_rng()\n",
    "random_charge = rng.integers(n-2, n**2-(n-2))\n",
    "b[random_charge] = dx*dy * 1*(n**2)/(Li*Lj)\n",
    "\n",
    "x_init = np.random.random(b.size)"
   ]
  },
  {
   "cell_type": "markdown",
   "metadata": {},
   "source": [
    "### Simulation"
   ]
  },
  {
   "cell_type": "code",
   "execution_count": 72,
   "metadata": {},
   "outputs": [],
   "source": [
    "x = gauss_seidel(PDE, b, x_init, max_iter=1000)"
   ]
  },
  {
   "cell_type": "markdown",
   "metadata": {},
   "source": [
    "### Post-Analysis"
   ]
  },
  {
   "cell_type": "code",
   "execution_count": 73,
   "metadata": {},
   "outputs": [],
   "source": [
    "A = np.zeros((n, n))\n",
    "A[0, :] = V * np.ones(n)\n",
    "A[-1, :] = -V * np.ones(n)\n",
    "A[1:-1,1:-1] = x.reshape((n-2,n-2))\n",
    "\n",
    "grad_A_i, grad_A_j = np.gradient(A, i, j)"
   ]
  },
  {
   "cell_type": "markdown",
   "metadata": {},
   "source": [
    "### Plotting"
   ]
  },
  {
   "cell_type": "code",
   "execution_count": 74,
   "metadata": {},
   "outputs": [],
   "source": [
    "%%capture\n",
    "# The plot is suppressed from outputting below, but should save to the current directory!\n",
    "fig, ax = plt.subplots(1,1, figsize=(16,16), dpi=200, constrained_layout=True)\n",
    "contour = ax.contourf(jj, ii, A, levels=20, linestyles = 'solid', cmap=plt.cm.jet)\n",
    "contour_lines = ax.contour(jj, ii, A, levels=20, linestyles = 'solid', linewidths=0.5, colors='k')\n",
    "contour_line_labels = plt.clabel(contour_lines, colors='k')\n",
    "quiver = ax.quiver(\n",
    "    jj[::skip, ::skip], \n",
    "    ii[::skip, ::skip], \n",
    "    -grad_A_j[::skip, ::skip], \n",
    "    -grad_A_i[::skip, ::skip])\n",
    "\n",
    "ax.set_title('Poisson Equation 2D | Gauss-Seidel Method')\n",
    "ax.set_xlabel('x [m]')\n",
    "ax.set_ylabel('y [m]')\n",
    "plt.savefig('plots/P3_plot.png')"
   ]
  },
  {
   "cell_type": "markdown",
   "metadata": {},
   "source": [
    "This added term represents a charge density present in the system. THis charge isn't a point charge however, as it takes up too much spatial extent in our simulation. Therefore, the true charge density that is being used is just an approximation"
   ]
  },
  {
   "cell_type": "code",
   "execution_count": null,
   "metadata": {},
   "outputs": [],
   "source": []
  }
 ],
 "metadata": {
  "kernelspec": {
   "display_name": "Python 3",
   "language": "python",
   "name": "python3"
  },
  "language_info": {
   "codemirror_mode": {
    "name": "ipython",
    "version": 3
   },
   "file_extension": ".py",
   "mimetype": "text/x-python",
   "name": "python",
   "nbconvert_exporter": "python",
   "pygments_lexer": "ipython3",
   "version": "3.8.5"
  }
 },
 "nbformat": 4,
 "nbformat_minor": 4
}
