{
 "cells": [
  {
   "cell_type": "markdown",
   "metadata": {},
   "source": [
    "<center>\n",
    "<h1><b>Lab 7</b></h1>\n",
    "<h1>PHYS 580 - Computational Physics</h1>\n",
    "<h2>Professor Molnar</h2>\n",
    "</br>\n",
    "<h3><b>Ethan Knox</b></h3>\n",
    "<h4>https://www.github.com/ethank5149</h4>\n",
    "<h4>ethank5149@gmail.com</h4>\n",
    "</br>\n",
    "</br>\n",
    "<h3><b>October 15, 2020</b></h3>\n",
    "<hr>\n",
    "</center>"
   ]
  },
  {
   "source": [
    "# Problem 1\n",
    "The first starter program provided for this lab, ```montecarlo.py```, performs Monte Carlo integration of a simple function, $f(x)=√4−x2$ (by default). Use the code (or the Matlab version ```montecarlo.m```, or your own equivalent program) to integrate this $f(x)$ from $x = 0$ to $2$, and thus compute $\\pi$ numerically, to 3, 4, and 5 significant digits. Observe how the average error (standard error of the mean) decreases as a function of the total number $N$ of random numbers used ($N =$ numbers generated per trial times the number of trials). Then, try to compute via Monte Carlo the following two integrals:\n",
    "\n",
    "- $\\int_{-2}^2\\frac{dx}{\\sqrt{4−x^2}}$\n",
    "and\n",
    "- $\\int_0^{\\infty}e^{-x}\\ln{x}dx$.\n",
    "\n",
    "Take care to handle any divergences in the integrand as well as the range of integration extending to infinity."
   ],
   "cell_type": "markdown",
   "metadata": {}
  },
  {
   "source": [
    "# Problem 2\n",
    "Second, use the starter program ```rw2.py``` (or its Matlab version ```rw2d.m```/```generate_rw.m```, or your own equivalent code) to generate random walks on the square lattice in two dimensions. Note, the same program and its output have been discussed in class already. For this lab, modify the program to calculate walks with random step length $0<d<1$ in continuously random directions - i.e., the walk is still in two dimensions, but no longer on a lattice. Analyze the mean square displacement $\\left<r_n^2\\right>$ for $n$-step continuous random walks, and calculate the mean fluctuation (standard deviation) of $r_n^2$ (i.e., the square root of the variance of $r_n^2$ defined by $\\sqrt{\\left<\\left(r_n^2\\right)^2\\right>-\\left<r_n^2\\right>}$. Is the latter of the same order as $\\left<r_n^2\\right>$ itself?  If that is true, then the fluctuation is just as large as the mean, and thus you cannot tell statistical properties by generating just a few random walks, however long the walks maybe."
   ],
   "cell_type": "markdown",
   "metadata": {}
  },
  {
   "source": [
    "# Problem 3\n",
    "Finally, use the starter program ```saw.py``` (or the Matlab version ```saw2d.m```/```generate_saw.m```, or your own equivalent code) to simulate self-avoiding walks (SAW) on the square lattice. Obtain an estimate of the Flory exponent $ν$, defined in terms of the relation $\\left<r_n^2\\right>=\\text{const}\\times n^{2ν}$ between the mean squared displacement and the length $n$ of the SAW. Also study the fluctuations of $\\left<r_n^2\\right>$ as you did in part (2) for the random walks. Make sure that you understand the algorithm that implements self-avoidance, i.e., how the algorithm keeps the desired properties of the ensemble (namely, equal probability foreach SAW of equal number of steps)"
   ],
   "cell_type": "markdown",
   "metadata": {}
  }
 ],
 "metadata": {
  "kernelspec": {
   "display_name": "Python 3",
   "language": "python",
   "name": "python3"
  },
  "language_info": {
   "codemirror_mode": {
    "name": "ipython",
    "version": 3
   },
   "file_extension": ".py",
   "mimetype": "text/x-python",
   "name": "python",
   "nbconvert_exporter": "python",
   "pygments_lexer": "ipython3",
   "version": "3.8.5"
  }
 },
 "nbformat": 4,
 "nbformat_minor": 4
}