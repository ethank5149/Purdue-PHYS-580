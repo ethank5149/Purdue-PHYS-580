{
 "cells": [
  {
   "cell_type": "markdown",
   "metadata": {},
   "source": [
    "<center>\n",
    "<h1><b>Lab 12</b></h1>\n",
    "<h1>PHYS 580 - Computational Physics</h1>\n",
    "<h2>Professor Molnar</h2>\n",
    "</br>\n",
    "<h3><b>Ethan Knox</b></h3>\n",
    "<h4>https://www.github.com/ethank5149</h4>\n",
    "<h4>ethank5149@gmail.com</h4>\n",
    "</br>\n",
    "</br>\n",
    "<h3><b>November 19, 2020</b></h3>\n",
    "<hr>\n",
    "</center>"
   ]
  },
  {
   "cell_type": "code",
   "execution_count": 7,
   "metadata": {},
   "outputs": [],
   "source": [
    "import warnings\n",
    "from pylj import md, mc, sample, util\n",
    "import numpy as np\n",
    "import matplotlib.pyplot as plt\n",
    "\n",
    "from IPython.display import HTML, display\n",
    "\n",
    "import ipywidgets as widgets\n",
    "from ipywidgets import IntSlider as islider\n",
    "from ipywidgets import FloatSlider as fslider\n",
    "\n",
    "# plt.style.use('dark_background')\n",
    "warnings.filterwarnings('ignore')\n",
    "%matplotlib notebook"
   ]
  },
  {
   "cell_type": "markdown",
   "metadata": {},
   "source": [
    "# Problem 1\n",
    "Use the starter programs (or your own equivalent ones) to simulate a system of, say, 25 particles in a square box of side length 5 (in units of $\\sigma$, the Lennard-Jones parameter). Initially, let the particles be at rest but with positions shifted by relatively small random amounts away from the evenly spaced, square lattice vertices. (Why is it good to include such position variations?) Then, as the simulation proceeds, produce images of the time evolution of particle positions similar to those displayed in Fig. 9.6 of the textbook. In addition, reproduce the time series of the total energy, temperature, tagged particle and tagged pair separations. Are the fluctuations in energy and temperature, and the trend of the pair separation as you expect, and why?"
   ]
  },
  {
   "cell_type": "code",
   "execution_count": 2,
   "metadata": {},
   "outputs": [
    {
     "data": {
      "application/vnd.jupyter.widget-view+json": {
       "model_id": "2bb5bbe93b4b4577a1b274f760cb0185",
       "version_major": 2,
       "version_minor": 0
      },
      "text/plain": [
       "interactive(children=(IntSlider(value=16, continuous_update=False, description='Particles', min=1), IntSlider(…"
      ]
     },
     "metadata": {},
     "output_type": "display_data"
    }
   ],
   "source": [
    "@widgets.interact(\n",
    "    number_of_particles = islider(value=16,     min=1,   max=100,   step=1,   continuous_update=False, description='Particles'),\n",
    "    box_length          = islider(value=150,    min=1,   max=1000,  step=1,  continuous_update=False, description='Box Length'),\n",
    "    number_of_steps     = islider(value=10000,    min=1,   max=10000, step=1, continuous_update=False, description='Steps'),\n",
    "    steps_per_frame     = islider(value=100,    min=1,   max=10000, step=1, continuous_update=False, description='Frequency'),\n",
    "    temperature         = fslider(value=50, min=.15, max=473.15, step=1., continuous_update=False, description='Temperature'))\n",
    "def md_simulation(number_of_particles, box_length, number_of_steps, steps_per_frame, temperature):\n",
    "    system = md.initialise(number_of_particles, temperature, box_length, 'square')\n",
    "    sample_system = sample.Phase(system)\n",
    "    system.time = 0\n",
    "    for i in range(0, number_of_steps):\n",
    "        system.integrate(md.velocity_verlet)\n",
    "        system.md_sample()\n",
    "        system.heat_bath(temperature)\n",
    "        system.time += system.timestep_length\n",
    "        system.step += 1\n",
    "        if system.step % steps_per_frame == 0:\n",
    "            sample_system.update(system)\n",
    "    plt.savefig(\"Problem1.png\")\n",
    "    return system"
   ]
  },
  {
   "cell_type": "markdown",
   "metadata": {},
   "source": [
    "# Problem 2\n",
    "Find a way to speed up the convergence to equilibrium you observed in (1). In particular, use the feature of the starter program that allows one to change the kinetic energy of the particles via keyboard   input   during   the   simulation.   Similarly,  when   you   have   attained   a   stable   triangular arrangement of the particles (solid), find a way to melt it by heating the system. Demonstrate thatyou succeeded in melting the crystal by making appropriate plots of the particle arrangements and the time series of various functions. Note: discuss in your writeup what happens, and why, if the time step is too large (or too small) or if you raise the temperature by too much."
   ]
  },
  {
   "cell_type": "code",
   "execution_count": 8,
   "metadata": {},
   "outputs": [
    {
     "data": {
      "application/vnd.jupyter.widget-view+json": {
       "model_id": "aa121d79d6e043b39d8dfd4f29bb4379",
       "version_major": 2,
       "version_minor": 0
      },
      "text/plain": [
       "interactive(children=(IntSlider(value=9, continuous_update=False, description='Particles', max=27, min=1), Int…"
      ]
     },
     "metadata": {},
     "output_type": "display_data"
    }
   ],
   "source": [
    "@widgets.interact(\n",
    "    number_of_particles = islider(value=9,     min=1,   max=27,   step=1,   continuous_update=False, description='Particles'),\n",
    "    box_length          = islider(value=27,    min=3,   max=27,  step=1,  continuous_update=False, description='Box Length'),\n",
    "    number_of_steps     = islider(value=10000,    min=1,   max=10000, step=1, continuous_update=False, description='Steps'),\n",
    "    steps_per_frame     = islider(value=100,    min=1,   max=10000, step=1, continuous_update=False, description='Frequency'),\n",
    "    temperature         = fslider(value=10.15, min=.15, max=473.15, step=1., continuous_update=False, description='Temperature'))\n",
    "def md_simulation(number_of_particles, box_length, number_of_steps, steps_per_frame, temperature):\n",
    "    system = md.initialise(number_of_particles, temperature, box_length, 'square')\n",
    "    sample_system = sample.Phase(system)\n",
    "    system.time = 0\n",
    "    for i in range(0, number_of_steps):\n",
    "        system.integrate(md.velocity_verlet)\n",
    "        system.md_sample()\n",
    "        system.heat_bath(temperature)\n",
    "        system.time += system.timestep_length\n",
    "        system.step += 1\n",
    "        if system.step % steps_per_frame == 0:\n",
    "            sample_system.update(system)\n",
    "    \n",
    "    for i in range(0, number_of_steps):\n",
    "        system.integrate(md.velocity_verlet)\n",
    "        system.md_sample()\n",
    "        system.heat_bath((1.5 * i / number_of_steps + 1)*temperature)\n",
    "        system.time += system.timestep_length\n",
    "        system.step += 1\n",
    "        if system.step % steps_per_frame == 0:\n",
    "            sample_system.update(system)\n",
    "    plt.savefig(\"Problem2a.png\")\n",
    "    return system"
   ]
  },
  {
   "cell_type": "markdown",
   "metadata": {},
   "source": [
    "For very low temperatures, if the particles begin stationary, nothing will evolve. This corresponds to zero temperature, and is regarded as impossible to reach. \n",
    "\n",
    "As you can see, once the system started to be heated halfway through the simulation (t = 1.0e-10), Not only did the energy noticably rise, but the particles began breaking apart from one another, just as desired."
   ]
  },
  {
   "cell_type": "markdown",
   "metadata": {},
   "source": [
    "# Problem 3\n",
    "Study   how   varying   the   density,   initial   velocities   and/or   positions   affects   the   approach   to equilibrium   and   the   nature   of   the   final   equilibrium   configuration.   You   do   not   need   to   be exhaustive on this. For example, try putting 25 particles in a square of side length 10, and see how their characteristics change as you vary the temperature, substantiating your discussion with various time series graphs."
   ]
  },
  {
   "cell_type": "code",
   "execution_count": 4,
   "metadata": {},
   "outputs": [
    {
     "data": {
      "application/vnd.jupyter.widget-view+json": {
       "model_id": "ee8273d4e6dc4191a9f79c477bfbbdd4",
       "version_major": 2,
       "version_minor": 0
      },
      "text/plain": [
       "interactive(children=(IntSlider(value=25, continuous_update=False, description='Particles', min=1), IntSlider(…"
      ]
     },
     "metadata": {},
     "output_type": "display_data"
    }
   ],
   "source": [
    "@widgets.interact(\n",
    "    number_of_particles = islider(value=25,     min=1,   max=100,   step=1,   continuous_update=False, description='Particles'),\n",
    "    box_length          = islider(value=26,    min=1,   max=1000,  step=1,  continuous_update=False, description='Box Length'),\n",
    "    number_of_steps     = islider(value=10000,    min=1,   max=10000, step=1, continuous_update=False, description='Steps'),\n",
    "    steps_per_frame     = islider(value=100,    min=1,   max=10000, step=1, continuous_update=False, description='Frequency'),\n",
    "    temperature         = fslider(value=25.15, min=.15, max=473.15, step=1., continuous_update=False, description='Temperature'))\n",
    "def md_simulation(number_of_particles, box_length, number_of_steps, steps_per_frame, temperature):\n",
    "    system = md.initialise(number_of_particles, temperature, box_length, 'square')\n",
    "    sample_system = sample.Phase(system)\n",
    "    system.time = 0\n",
    "    for i in range(0, number_of_steps):\n",
    "        system.integrate(md.velocity_verlet)\n",
    "        system.md_sample()\n",
    "        system.heat_bath(temperature)\n",
    "        system.time += system.timestep_length\n",
    "        system.step += 1\n",
    "        if system.step % steps_per_frame == 0:\n",
    "            sample_system.update(system)\n",
    "    plt.savefig(\"Problem3a.png\")\n",
    "    return system"
   ]
  },
  {
   "cell_type": "code",
   "execution_count": 5,
   "metadata": {},
   "outputs": [
    {
     "data": {
      "application/vnd.jupyter.widget-view+json": {
       "model_id": "3470c045fce64d9ca1ac84f13fbe5e5f",
       "version_major": 2,
       "version_minor": 0
      },
      "text/plain": [
       "interactive(children=(IntSlider(value=25, continuous_update=False, description='Particles', min=1), IntSlider(…"
      ]
     },
     "metadata": {},
     "output_type": "display_data"
    }
   ],
   "source": [
    "@widgets.interact(\n",
    "    number_of_particles = islider(value=25,     min=1,   max=100,   step=1,   continuous_update=False, description='Particles'),\n",
    "    box_length          = islider(value=100,    min=1,   max=1000,  step=1,  continuous_update=False, description='Box Length'),\n",
    "    number_of_steps     = islider(value=10000,    min=1,   max=10000, step=1, continuous_update=False, description='Steps'),\n",
    "    steps_per_frame     = islider(value=100,    min=1,   max=10000, step=1, continuous_update=False, description='Frequency'),\n",
    "    temperature         = fslider(value=25.15, min=.15, max=473.15, step=1., continuous_update=False, description='Temperature'))\n",
    "def md_simulation(number_of_particles, box_length, number_of_steps, steps_per_frame, temperature):\n",
    "    system = md.initialise(number_of_particles, temperature, box_length, 'square')\n",
    "    sample_system = sample.Phase(system)\n",
    "    system.time = 0\n",
    "    for i in range(0, number_of_steps):\n",
    "        system.integrate(md.velocity_verlet)\n",
    "        system.md_sample()\n",
    "        system.heat_bath(temperature)\n",
    "        system.time += system.timestep_length\n",
    "        system.step += 1\n",
    "        if system.step % steps_per_frame == 0:\n",
    "            sample_system.update(system)\n",
    "    plt.savefig(\"Problem3b.png\")\n",
    "    return system"
   ]
  },
  {
   "cell_type": "code",
   "execution_count": 6,
   "metadata": {},
   "outputs": [
    {
     "data": {
      "application/vnd.jupyter.widget-view+json": {
       "model_id": "1adf54ab175543d2b19ca4570f9fced0",
       "version_major": 2,
       "version_minor": 0
      },
      "text/plain": [
       "interactive(children=(IntSlider(value=25, continuous_update=False, description='Particles', min=1), IntSlider(…"
      ]
     },
     "metadata": {},
     "output_type": "display_data"
    }
   ],
   "source": [
    "@widgets.interact(\n",
    "    number_of_particles = islider(value=25,     min=1,   max=100,   step=1,   continuous_update=False, description='Particles'),\n",
    "    box_length          = islider(value=250,    min=1,   max=1000,  step=1,  continuous_update=False, description='Box Length'),\n",
    "    number_of_steps     = islider(value=10000,    min=1,   max=10000, step=1, continuous_update=False, description='Steps'),\n",
    "    steps_per_frame     = islider(value=100,    min=1,   max=10000, step=1, continuous_update=False, description='Frequency'),\n",
    "    temperature         = fslider(value=25.15, min=.15, max=473.15, step=1., continuous_update=False, description='Temperature'))\n",
    "def md_simulation(number_of_particles, box_length, number_of_steps, steps_per_frame, temperature):\n",
    "    system = md.initialise(number_of_particles, temperature, box_length, 'square')\n",
    "    sample_system = sample.Phase(system)\n",
    "    system.time = 0\n",
    "    for i in range(0, number_of_steps):\n",
    "        system.integrate(md.velocity_verlet)\n",
    "        system.md_sample()\n",
    "        system.heat_bath(temperature)\n",
    "        system.time += system.timestep_length\n",
    "        system.step += 1\n",
    "        if system.step % steps_per_frame == 0:\n",
    "            sample_system.update(system)\n",
    "            \n",
    "    plt.savefig(\"Problem3c.png\")\n",
    "    return system"
   ]
  },
  {
   "cell_type": "code",
   "execution_count": null,
   "metadata": {},
   "outputs": [],
   "source": []
  }
 ],
 "metadata": {
  "kernelspec": {
   "display_name": "Python 3",
   "language": "python",
   "name": "python3"
  },
  "language_info": {
   "codemirror_mode": {
    "name": "ipython",
    "version": 3
   },
   "file_extension": ".py",
   "mimetype": "text/x-python",
   "name": "python",
   "nbconvert_exporter": "python",
   "pygments_lexer": "ipython3",
   "version": "3.8.5"
  }
 },
 "nbformat": 4,
 "nbformat_minor": 4
}
