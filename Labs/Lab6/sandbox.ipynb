{
 "cells": [
  {
   "cell_type": "code",
   "execution_count": 17,
   "metadata": {},
   "outputs": [
    {
     "name": "stdout",
     "output_type": "stream",
     "text": [
      "C:\\Users\\ethan\\Documents\\Github\\Purdue-PHYS-580\\Labs\\Lab6\n"
     ]
    }
   ],
   "source": [
    "%cd C://Users/ethan/Documents/Github/Purdue-PHYS-580/Labs/Lab6"
   ]
  },
  {
   "cell_type": "code",
   "execution_count": 29,
   "metadata": {},
   "outputs": [],
   "source": [
    "# !!dir"
   ]
  },
  {
   "cell_type": "code",
   "execution_count": 30,
   "metadata": {},
   "outputs": [
    {
     "name": "stdout",
     "output_type": "stream",
     "text": [
      "Using matplotlib backend: Qt5Agg\n",
      "Populating the interactive namespace from numpy and matplotlib\n"
     ]
    }
   ],
   "source": [
    "%pylab --no-import-all"
   ]
  },
  {
   "cell_type": "code",
   "execution_count": 31,
   "metadata": {},
   "outputs": [],
   "source": [
    "# %load -s Body Body.py\n",
    "class Body:\n",
    "    def __init__(self, mass, body, mass_scale=1.0):  # Default scaling gives back units of AU and seconds\n",
    "        self.vecs = body.vectors()\n",
    "        ## Manually Convert AU to m for further scaling\n",
    "        self.pos = np.asarray([self.vecs['x'][0], self.vecs['y'][0], self.vecs['z'][0]])\n",
    "        self.vel = np.asarray([self.vecs['vx'][0], self.vecs['vy'][0], self.vecs['vz'][0]])\n",
    "        self.mass = mass / mass_scale"
   ]
  },
  {
   "cell_type": "code",
   "execution_count": 2,
   "metadata": {},
   "outputs": [],
   "source": [
    "from sympy import symbols, Matrix, lambdify\n",
    "from sympy.physics.mechanics import Particle, Point, dynamicsymbols, Lagrangian, LagrangesMethod, ReferenceFrame\n",
    "\n",
    "from scipy.integrate import solve_ivp\n",
    "from functools import partial\n",
    "from astroquery.jplhorizons import Horizons\n",
    "from numpy import apply_along_axis as thread\n",
    "from mpl_toolkits.mplot3d import Axes3D\n",
    "\n",
    "np.set_printoptions(sign=' ', linewidth=100, precision=4, suppress=True)\n",
    "plt.style.use('dark_background')"
   ]
  },
  {
   "cell_type": "code",
   "execution_count": 3,
   "metadata": {},
   "outputs": [
    {
     "name": "stdout",
     "output_type": "stream",
     "text": [
      "Gravitational Constant In Our Units: 0.00029600143285188574\n"
     ]
    }
   ],
   "source": [
    "# Gravitational Constant In Our Units\n",
    "day_s = 86400.0\n",
    "AU_m = 149597900000.0\n",
    "\n",
    "sun_mass_kg = 1.9891e30\n",
    "earth_mass_kg = 5.97e24\n",
    "\n",
    "mass_unit = sun_mass_kg\n",
    "length_unit = AU_m\n",
    "time_unit = day_s\n",
    "\n",
    "Gravity = 6.674e-11 * mass_unit * time_unit ** 2 * length_unit ** (-3) #39.44\n",
    "print(f'Gravitational Constant In Our Units: {Gravity}')\n",
    "\n",
    "duration = 365.0\n",
    "fps = 1200.0\n",
    "t_eval = np.linspace(0.0, duration, num=int(fps*duration))"
   ]
  },
  {
   "cell_type": "code",
   "execution_count": 5,
   "metadata": {
    "jupyter": {
     "source_hidden": true
    }
   },
   "outputs": [],
   "source": [
    "q = dynamicsymbols('q:6')\n",
    "u = dynamicsymbols('q:6', level=1)\n",
    "m = symbols('m:2')\n",
    "G, t = symbols('G t')"
   ]
  },
  {
   "cell_type": "code",
   "execution_count": 6,
   "metadata": {
    "jupyter": {
     "source_hidden": true
    }
   },
   "outputs": [],
   "source": [
    "O = ReferenceFrame('O')\n",
    "Home = Point('Home')\n",
    "Home.set_vel(O, 0)"
   ]
  },
  {
   "cell_type": "code",
   "execution_count": 7,
   "metadata": {
    "jupyter": {
     "source_hidden": true
    }
   },
   "outputs": [],
   "source": [
    "P0 = Point(r'P_0')\n",
    "P1 = Point(r'P_1')"
   ]
  },
  {
   "cell_type": "code",
   "execution_count": 8,
   "metadata": {
    "jupyter": {
     "source_hidden": true
    }
   },
   "outputs": [],
   "source": [
    "P0.set_pos(Home, q[0] * O.x + q[1] * O.y + q[2] * O.z)    \n",
    "P1.set_pos(Home, q[3] * O.x + q[4] * O.y + q[5] * O.z)"
   ]
  },
  {
   "cell_type": "code",
   "execution_count": 9,
   "metadata": {
    "jupyter": {
     "source_hidden": true
    }
   },
   "outputs": [],
   "source": [
    "P0.set_vel(O, u[0] * O.x + u[1] * O.y + u[2] * O.z)\n",
    "P1.set_vel(O, u[3] * O.x + u[4] * O.y + u[5] * O.z)"
   ]
  },
  {
   "cell_type": "code",
   "execution_count": 10,
   "metadata": {
    "jupyter": {
     "source_hidden": true
    }
   },
   "outputs": [],
   "source": [
    "p0 = Particle('p_0', P0, m[0])\n",
    "p1 = Particle('p_1', P1, m[1])"
   ]
  },
  {
   "cell_type": "code",
   "execution_count": 11,
   "metadata": {},
   "outputs": [],
   "source": [
    "# p0.potential_energy = -G * (p1.mass / P0.pos_from(P1).magnitude())\n",
    "# p1.potential_energy = -G * (p0.mass / P1.pos_from(P0).magnitude())\n",
    "\n",
    "p0_force = (P0, -G * (p1.mass * P0.pos_from(P1) / P0.pos_from(P1).magnitude() ** 3))\n",
    "p1_force = (P1, -G * (p0.mass * P1.pos_from(P0) / P1.pos_from(P0).magnitude() ** 3))\n",
    "forces = [p0_force, p1_force]\n",
    "# forces = []"
   ]
  },
  {
   "cell_type": "code",
   "execution_count": 12,
   "metadata": {},
   "outputs": [],
   "source": [
    "L = Lagrangian(O, p0, p1)"
   ]
  },
  {
   "cell_type": "code",
   "execution_count": 13,
   "metadata": {},
   "outputs": [],
   "source": [
    "LM = LagrangesMethod(L, q, frame=O, forcelist=forces)"
   ]
  },
  {
   "cell_type": "code",
   "execution_count": 14,
   "metadata": {},
   "outputs": [],
   "source": [
    "EL = LM.form_lagranges_equations()"
   ]
  },
  {
   "cell_type": "code",
   "execution_count": 15,
   "metadata": {},
   "outputs": [],
   "source": [
    "rhs = LM.rhs()"
   ]
  },
  {
   "cell_type": "code",
   "execution_count": 16,
   "metadata": {},
   "outputs": [
    {
     "ename": "NameError",
     "evalue": "name 'Body' is not defined",
     "output_type": "error",
     "traceback": [
      "\u001b[1;31m---------------------------------------------------------------------------\u001b[0m",
      "\u001b[1;31mNameError\u001b[0m                                 Traceback (most recent call last)",
      "\u001b[1;32m<ipython-input-16-f85d1798c8b5>\u001b[0m in \u001b[0;36m<module>\u001b[1;34m\u001b[0m\n\u001b[0;32m      1\u001b[0m \u001b[0mearth_info\u001b[0m    \u001b[1;33m=\u001b[0m \u001b[0mHorizons\u001b[0m\u001b[1;33m(\u001b[0m\u001b[0mid\u001b[0m \u001b[1;33m=\u001b[0m \u001b[1;34m'399'\u001b[0m\u001b[1;33m,\u001b[0m \u001b[0mid_type\u001b[0m \u001b[1;33m=\u001b[0m \u001b[1;34m'majorbody'\u001b[0m\u001b[1;33m)\u001b[0m\u001b[1;33m\u001b[0m\u001b[1;33m\u001b[0m\u001b[0m\n\u001b[1;32m----> 2\u001b[1;33m \u001b[0mearth_body\u001b[0m  \u001b[1;33m=\u001b[0m \u001b[0mBody\u001b[0m\u001b[1;33m(\u001b[0m \u001b[0mearth_mass_kg\u001b[0m\u001b[1;33m,\u001b[0m  \u001b[0mearth_info\u001b[0m\u001b[1;33m,\u001b[0m \u001b[0mmass_scale\u001b[0m\u001b[1;33m=\u001b[0m\u001b[0mmass_unit\u001b[0m\u001b[1;33m,\u001b[0m \u001b[0mtime_scale\u001b[0m\u001b[1;33m=\u001b[0m\u001b[0mtime_unit\u001b[0m\u001b[1;33m)\u001b[0m\u001b[1;33m\u001b[0m\u001b[1;33m\u001b[0m\u001b[0m\n\u001b[0m",
      "\u001b[1;31mNameError\u001b[0m: name 'Body' is not defined"
     ]
    }
   ],
   "source": [
    "earth_info    = Horizons(id = '399', id_type = 'majorbody')\n",
    "earth_body  = Body( earth_mass_kg,  earth_info, mass_scale=mass_unit, time_scale=time_unit)"
   ]
  },
  {
   "cell_type": "code",
   "execution_count": null,
   "metadata": {},
   "outputs": [],
   "source": [
    "# print(f'Saturn: {saturn_body.pos} | {saturn_body.vel}')\n",
    "# print(f'Mars:   {mars_body.pos} | {mars_body.vel}')\n",
    "print(f'Earth:  {earth_body.pos} | {earth_body.vel}')"
   ]
  },
  {
   "cell_type": "code",
   "execution_count": null,
   "metadata": {},
   "outputs": [],
   "source": [
    "val_dict = {G: Gravity, m[0]: 1.0, m[1]: earth_body.mass}\n",
    "rhs = rhs.subs(val_dict)\n",
    "\n",
    "df_lambdify = lambdify(Matrix([q, u]), rhs)\n",
    "df = lambda t, x: df_lambdify(*x).reshape(12)"
   ]
  },
  {
   "cell_type": "code",
   "execution_count": null,
   "metadata": {},
   "outputs": [],
   "source": [
    "state0 = np.hstack((\n",
    "    np.asarray([0.0,0.0,0.0]), earth_body.pos, \n",
    "    np.asarray([0.0,0.0,0.0]), earth_body.vel \n",
    "))"
   ]
  },
  {
   "cell_type": "code",
   "execution_count": null,
   "metadata": {},
   "outputs": [],
   "source": [
    "sol = solve_ivp(df, [0.0, duration], state0, t_eval=t_eval, rtol=1.0e-6, atol=1.0e-6)\n",
    "if sol.success is not True:\n",
    "    print(sol.message)"
   ]
  },
  {
   "cell_type": "code",
   "execution_count": null,
   "metadata": {
    "jupyter": {
     "source_hidden": true
    }
   },
   "outputs": [],
   "source": [
    "head = 10\n",
    "for row in sol.y.T[-head:, :]:\n",
    "    print(row[:3], row[3:6], ' | ', row[6:9], row[9:12])"
   ]
  },
  {
   "cell_type": "code",
   "execution_count": null,
   "metadata": {
    "jupyter": {
     "source_hidden": true
    }
   },
   "outputs": [],
   "source": [
    "p0_pos, p1_pos, p0_vel, p1_vel = np.vsplit(sol.y, 4)\n",
    "t = sol.t"
   ]
  },
  {
   "cell_type": "code",
   "execution_count": null,
   "metadata": {},
   "outputs": [],
   "source": [
    "from mpl_toolkits.mplot3d import Axes3D\n",
    "fig = plt.figure(figsize=(16,16))\n",
    "ax = fig.add_subplot(111, projection='3d')\n",
    "\n",
    "ax.plot(p1_pos[0,:] - p0_pos[0,:], p1_pos[1,:] - p0_pos[1,:], p1_pos[2,:] - p0_pos[2,:], label=r'$P_1$')\n",
    "# ax.plot(p0_pos[0,:], p0_pos[1,:], p0_pos[2,:], label=r'$P_0$')\n",
    "# ax.plot(p1_pos[0,:], p1_pos[1,:], p1_pos[2,:], label=r'$P_1$')\n",
    "\n",
    "plt.legend()\n",
    "plt.show()"
   ]
  },
  {
   "cell_type": "code",
   "execution_count": null,
   "metadata": {
    "jupyter": {
     "source_hidden": true
    }
   },
   "outputs": [],
   "source": [
    "fig = plt.figure(figsize=(16,16))\n",
    "\n",
    "ax1 = fig.add_subplot(121)\n",
    "ax1.plot(t, p0_pos[0,:], label=r'$P_0$ x')\n",
    "ax1.plot(t, p0_pos[1,:], label=r'$P_0$ y')\n",
    "ax1.plot(t, p0_pos[2,:], label=r'$P_0$ z')\n",
    "ax1.grid()\n",
    "ax1.legend()\n",
    "\n",
    "ax2 = fig.add_subplot(122)\n",
    "ax2.plot(t, p1_pos[0,:], label=r'$P_1$ x')\n",
    "ax2.plot(t, p1_pos[1,:], label=r'$P_1$ y')\n",
    "ax2.plot(t, p1_pos[2,:], label=r'$P_1$ z')\n",
    "ax2.grid()\n",
    "ax2.legend()\n",
    "\n",
    "\n",
    "plt.show()"
   ]
  },
  {
   "cell_type": "code",
   "execution_count": null,
   "metadata": {
    "jupyter": {
     "source_hidden": true
    }
   },
   "outputs": [],
   "source": [
    "fig = plt.figure(figsize=(16,16))\n",
    "\n",
    "ax1 = fig.add_subplot(121)\n",
    "ax1.plot(t, np.apply_along_axis(np.linalg.norm, 0, p0_pos), label=r'$P_0$')\n",
    "ax1.grid()\n",
    "ax1.legend()\n",
    "\n",
    "ax2 = fig.add_subplot(122)\n",
    "ax2.plot(t, np.apply_along_axis(np.linalg.norm, 0, p1_pos), label=r'$P_1$')\n",
    "ax2.grid()\n",
    "ax2.legend()\n",
    "\n",
    "\n",
    "plt.show()"
   ]
  },
  {
   "cell_type": "code",
   "execution_count": null,
   "metadata": {},
   "outputs": [],
   "source": []
  }
 ],
 "metadata": {
  "kernelspec": {
   "display_name": "Python 3",
   "language": "python",
   "name": "python3"
  },
  "language_info": {
   "codemirror_mode": {
    "name": "ipython",
    "version": 3
   },
   "file_extension": ".py",
   "mimetype": "text/x-python",
   "name": "python",
   "nbconvert_exporter": "python",
   "pygments_lexer": "ipython3",
   "version": "3.8.5"
  }
 },
 "nbformat": 4,
 "nbformat_minor": 4
}
