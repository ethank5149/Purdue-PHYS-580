{
 "cells": [
  {
   "cell_type": "code",
   "execution_count": null,
   "metadata": {},
   "outputs": [],
   "source": [
    "import matplotlib.pyplot as plt\n",
    "from scipy.integrate import solve_ivp\n",
    "from functools import partial\n",
    "from astroquery.jplhorizons import Horizons\n",
    "from mpl_toolkits.mplot3d import Axes3D\n",
    "\n",
    "import numpy as np\n",
    "from numpy import apply_along_axis as thread\n",
    "from numpy.linalg import norm\n",
    "\n",
    "np.set_printoptions(sign=' ', linewidth=100, precision=4, suppress=True)\n",
    "plt.style.use('dark_background')"
   ]
  },
  {
   "cell_type": "code",
   "execution_count": 8,
   "metadata": {},
   "outputs": [],
   "source": [
    "%run Body.py\n",
    "%run constants.py\n",
    "%run rescale_g.py\n",
    "%run four_body_system.py"
   ]
  },
  {
   "cell_type": "code",
   "execution_count": 9,
   "metadata": {},
   "outputs": [
    {
     "name": "stdout",
     "output_type": "stream",
     "text": [
      "Gravitational Constant In Our Units: 0.00029600143285188574\n"
     ]
    }
   ],
   "source": [
    "mass_unit = sun_mass_kg\n",
    "length_unit = AU_m\n",
    "time_unit = day_s\n",
    "\n",
    "duration = 2.0*365.0\n",
    "fps = 120.0\n",
    "t_eval = np.linspace(0.0, duration, num=int(fps*duration))\n",
    "\n",
    "G = rescale_g(mass_unit, length_unit, time_unit)\n",
    "print(f'Gravitational Constant In Our Units: {G}')"
   ]
  },
  {
   "cell_type": "code",
   "execution_count": 10,
   "metadata": {},
   "outputs": [],
   "source": [
    "moon_info  = Horizons(id= moon_id, id_type= moon_id_type)\n",
    "earth_info = Horizons(id=earth_id, id_type=earth_id_type)\n",
    "mars_info  = Horizons(id= mars_id, id_type= mars_id_type)\n",
    "sun_info   = Horizons(id=  sun_id, id_type=  sun_id_type)"
   ]
  },
  {
   "cell_type": "code",
   "execution_count": 11,
   "metadata": {},
   "outputs": [],
   "source": [
    "moon  = Body( moon_mass_kg,  moon_info, mass_scale=mass_unit)\n",
    "earth = Body(earth_mass_kg, earth_info, mass_scale=mass_unit)\n",
    "mars  = Body( mars_mass_kg,  mars_info, mass_scale=mass_unit)\n",
    "sun   = Body(  sun_mass_kg,   sun_info, mass_scale=mass_unit)"
   ]
  },
  {
   "cell_type": "code",
   "execution_count": 12,
   "metadata": {},
   "outputs": [],
   "source": [
    "mu = sun.mass, earth.mass, moon.mass, mars.mass\n",
    "df = partial(four_body_system, mu=mu, G=G)"
   ]
  },
  {
   "cell_type": "code",
   "execution_count": 18,
   "metadata": {},
   "outputs": [
    {
     "name": "stdout",
     "output_type": "stream",
     "text": [
      "Required step size is less than spacing between numbers.\n"
     ]
    }
   ],
   "source": [
    "state0 = np.hstack((\n",
    "    sun.pos, earth.pos, moon.pos, mars.pos,\n",
    "    sun.vel, earth.vel, moon.vel, mars.vel\n",
    "))\n",
    "\n",
    "sol = solve_ivp(df, [0.0, duration], state0, rtol=1.0e-9, atol=1.0e-9)#, t_eval=t_eval, rtol=1.0e-9, atol=1.0e-9)\n",
    "if not sol.success:\n",
    "    print(sol.message)\n",
    "\n",
    "x0, x1, x2, x3, v0, v1, v2, v3 = np.vsplit(sol.y, 8)\n",
    "t = sol.t\n",
    "\n",
    "p0_T = 0.5 *   sun.mass * thread(norm, 0, v0) ** 2\n",
    "p1_T = 0.5 * earth.mass * thread(norm, 0, v1) ** 2\n",
    "p2_T = 0.5 *  mars.mass * thread(norm, 0, v2) ** 2\n",
    "p3_T = 0.5 *  moon.mass * thread(norm, 0, v3) ** 2\n",
    "\n",
    "p0_V = -G*(mu[1]/thread(norm,0,x0-x1)+mu[2]/thread(norm,0,x0-x2)+mu[3]/thread(norm,0,x0-x3))\n",
    "p1_V = -G*(mu[0]/thread(norm,0,x1-x0)+mu[2]/thread(norm,0,x1-x2)+mu[3]/thread(norm,0,x1-x3))\n",
    "p2_V = -G*(mu[0]/thread(norm,0,x2-x0)+mu[1]/thread(norm,0,x2-x1)+mu[3]/thread(norm,0,x2-x3))\n",
    "p3_V = -G*(mu[0]/thread(norm,0,x3-x0)+mu[1]/thread(norm,0,x3-x1)+mu[2]/thread(norm,0,x3-x2))\n",
    "\n",
    "E = p0_T+p0_V + p1_T+p1_V + p2_T+p2_V + p3_T+p3_V"
   ]
  },
  {
   "cell_type": "code",
   "execution_count": null,
   "metadata": {},
   "outputs": [],
   "source": [
    "from mpl_toolkits.mplot3d import Axes3D\n",
    "fig = plt.figure(figsize=(16,16))\n",
    "ax = fig.add_subplot(111, projection='3d')\n",
    "\n",
    "ax.plot(x1[0,:]-x0[0,:], x1[1,:]-x0[1,:], x1[2,:]-x0[2,:], label=r'$P_1$')\n",
    "ax.plot(x2[0,:]-x0[0,:], x2[1,:]-x0[1,:], x2[2,:]-x0[2,:], label=r'$P_2$')\n",
    "ax.plot(x3[0,:]-x0[0,:], x3[1,:]-x0[1,:], x3[2,:]-x0[2,:], label=r'$P_3$')\n",
    "\n",
    "\n",
    "# ax.plot(p0_pos[0,:], p0_pos[1,:], p0_pos[2,:], label=r'$P_0$')\n",
    "# ax.plot(p1_pos[0,:], p1_pos[1,:], p1_pos[2,:], label=r'$P_1$')\n",
    "\n",
    "plt.legend()\n",
    "plt.show()"
   ]
  },
  {
   "cell_type": "code",
   "execution_count": null,
   "metadata": {},
   "outputs": [],
   "source": [
    "fig, axs = plt.subplots(2,2,figsize=(32,32), constrained_layout=True)\n",
    "\n",
    "axs[0,0].set_title(r'Sun')\n",
    "axs[0,0].plot(t, x0[0,:], label='x')\n",
    "axs[0,0].plot(t, x0[1,:], label='y')\n",
    "axs[0,0].plot(t, x0[2,:], label='z')\n",
    "axs[0,0].legend()\n",
    "axs[0,0].set_xlabel('t [d]')\n",
    "axs[0,0].set_ylabel(\"'x' [AU]\")\n",
    "axs[0,0].grid()\n",
    "\n",
    "axs[0,0].set_title(r'Earth')\n",
    "axs[0,0].plot(t, x1[0,:], label='x')\n",
    "axs[0,0].plot(t, x1[1,:], label='y')\n",
    "axs[0,0].plot(t, x1[2,:], label='z')\n",
    "axs[0,0].legend()\n",
    "axs[0,0].set_xlabel('t [d]')\n",
    "axs[0,0].set_ylabel(\"'x' [AU]\")\n",
    "axs[0,0].grid()\n",
    "\n",
    "axs[0,0].set_title(r'Moon')\n",
    "axs[0,0].plot(t, x2[0,:], label='x')\n",
    "axs[0,0].plot(t, x2[1,:], label='y')\n",
    "axs[0,0].plot(t, x2[2,:], label='z')\n",
    "axs[0,0].legend()\n",
    "axs[0,0].set_xlabel('t [d]')\n",
    "axs[0,0].set_ylabel(\"'x' [AU]\")\n",
    "axs[0,0].grid()\n",
    "\n",
    "axs[0,0].set_title(r'Mars')\n",
    "axs[0,0].plot(t, x3[0,:], label='x')\n",
    "axs[0,0].plot(t, x3[1,:], label='y')\n",
    "axs[0,0].plot(t, x3[2,:], label='z')\n",
    "axs[0,0].legend()\n",
    "axs[0,0].set_xlabel('t [d]')\n",
    "axs[0,0].set_ylabel(\"'x' [AU]\")\n",
    "axs[0,0].grid()\n",
    "\n",
    "plt.show()"
   ]
  },
  {
   "cell_type": "code",
   "execution_count": null,
   "metadata": {},
   "outputs": [],
   "source": []
  }
 ],
 "metadata": {
  "kernelspec": {
   "display_name": "Python 3",
   "language": "python",
   "name": "python3"
  },
  "language_info": {
   "codemirror_mode": {
    "name": "ipython",
    "version": 3
   },
   "file_extension": ".py",
   "mimetype": "text/x-python",
   "name": "python",
   "nbconvert_exporter": "python",
   "pygments_lexer": "ipython3",
   "version": "3.8.5"
  }
 },
 "nbformat": 4,
 "nbformat_minor": 4
}
