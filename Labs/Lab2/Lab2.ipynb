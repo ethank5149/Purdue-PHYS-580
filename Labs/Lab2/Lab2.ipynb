{
 "metadata": {
  "language_info": {
   "codemirror_mode": {
    "name": "ipython",
    "version": 3
   },
   "file_extension": ".py",
   "mimetype": "text/x-python",
   "name": "python",
   "nbconvert_exporter": "python",
   "pygments_lexer": "ipython3",
   "version": "3.8.2-final"
  },
  "orig_nbformat": 2,
  "kernelspec": {
   "name": "pycharm-7f574e64",
   "language": "python",
   "display_name": "PyCharm (Purdue-PHYS-580)"
  }
 },
 "nbformat": 4,
 "nbformat_minor": 2,
 "cells": [
  {
   "cell_type": "markdown",
   "metadata": {},
   "source": [
    "<center>\n",
    "<h1><b>Lab 2</b></h1>\n",
    "<h1>PHYS 580 - Computational Physics</h1>\n",
    "<h2>Professor Molnar</h2>\n",
    "</br>\n",
    "<h3><b>Ethan Knox</b></h3>\n",
    "<h4>https://www.github.com/ethank5149</h4>\n",
    "<h4>ethank5149@gmail.com</h4>\n",
    "</br>\n",
    "</br>\n",
    "<h3><b>September 11, 2020</b></h3>\n",
    "</center>"
   ]
  },
  {
   "cell_type": "markdown",
   "metadata": {},
   "source": [
    "## Imports"
   ]
  },
  {
   "cell_type": "code",
   "execution_count": 52,
   "metadata": {},
   "outputs": [],
   "source": [
    "import math\n",
    "import numpy as np\n",
    "import matplotlib\n",
    "import matplotlib.pyplot as plt\n",
    "from functools import partial"
   ]
  },
  {
   "cell_type": "markdown",
   "metadata": {},
   "source": [
    "## Euler Step"
   ]
  },
  {
   "cell_type": "code",
   "execution_count": 53,
   "metadata": {},
   "outputs": [],
   "source": [
    "def euler_step(f, y, t, dt, *args):\n",
    "    return y + f(y, t, *args) * dt"
   ]
  },
  {
   "cell_type": "markdown",
   "source": [
    "## DSolve Function"
   ],
   "metadata": {
    "collapsed": false,
    "pycharm": {
     "name": "#%% md\n"
    }
   }
  },
  {
   "cell_type": "code",
   "execution_count": 54,
   "metadata": {
    "tags": []
   },
   "outputs": [],
   "source": [
    "def dsolve(\n",
    "    fun: callable, \n",
    "    t: np.ndarray, \n",
    "    y0: np.ndarray, \n",
    "    terminate = lambda x, y : False,\n",
    "    step: callable = euler_step) -> tuple:\n",
    "    \n",
    "    t = np.asarray(t)  # Ensure t is a Numpy array\n",
    "    y = np.zeros((np.size(t), np.size(y0)))  # Create our output data container\n",
    "    y[0] = y0  # Set initial condition\n",
    "\n",
    "    dt = t[1] - t[0]  # Assume independent variable points are equidistant\n",
    "    terminated_at = -1  # Index of the terminated point\n",
    "\n",
    "    for i in range(np.size(t)-1):\n",
    "        y[i+1] = euler_step(fun, y[i], t[i], dt)\n",
    "        # y[i+1] = y[i] + fun(y[i], t[i]) * dt  # Step forward\n",
    "\n",
    "        if terminate(t[i], y[i]):  # Check termination condition\n",
    "            terminated_at = i  # Set termination point\n",
    "            break\n",
    "    \n",
    "    return t[:terminated_at], y[:terminated_at, :]"
   ]
  },
  {
   "cell_type": "markdown",
   "source": [
    "## Isothermal Drag Force"
   ],
   "metadata": {
    "collapsed": false,
    "pycharm": {
     "name": "#%% md\n"
    }
   }
  },
  {
   "cell_type": "code",
   "execution_count": 55,
   "metadata": {},
   "outputs": [],
   "source": [
    "def df_isothermal_drag(\n",
    "    y: np.ndarray, \n",
    "    x: np.ndarray, \n",
    "    b2_m: float = 4.0e-5,\n",
    "    y0scale: float = 1.0e4, \n",
    "    g: float = 9.81):\n",
    "    \n",
    "    v = np.sqrt(y[2]**2 + y[3]**2)\n",
    "    drag_factor = -b2_m * v * np.exp(-y[1] / y0scale)\n",
    "    \n",
    "    return np.asarray([y[2],\n",
    "                       y[3],\n",
    "                       drag_factor * y[2], \n",
    "                       -g + drag_factor * y[3]])"
   ]
  },
  {
   "cell_type": "markdown",
   "source": [
    "## Adiabatic Drag Force"
   ],
   "metadata": {
    "collapsed": false,
    "pycharm": {
     "name": "#%% md\n"
    }
   }
  },
  {
   "cell_type": "code",
   "execution_count": 56,
   "metadata": {},
   "outputs": [],
   "source": [
    "def df_adiabatic_drag(\n",
    "    y: np.ndarray, \n",
    "    x: np.ndarray, \n",
    "    b2_m: float = 4.0e-5,\n",
    "    alpha: float = 6.5e-3, \n",
    "    gamma: float = 1.4,\n",
    "    T_grd: float = 293,\n",
    "    g: float = 9.81):\n",
    "    \n",
    "    v = np.sqrt(y[2]**2 + y[3]**2)\n",
    "    drag_factor = -b2_m * v * (1 - alpha * y[1]/T_grd)**(1/ (gamma-1))\n",
    "    \n",
    "    return np.asarray([y[2],\n",
    "                       y[3],\n",
    "                       drag_factor * y[2], \n",
    "                       -g + drag_factor * y[3]])"
   ]
  },
  {
   "cell_type": "markdown",
   "source": [
    "## No Drag Force"
   ],
   "metadata": {
    "collapsed": false,
    "pycharm": {
     "name": "#%% md\n"
    }
   }
  },
  {
   "cell_type": "code",
   "execution_count": 57,
   "metadata": {},
   "outputs": [],
   "source": [
    "def df_no_drag(\n",
    "    y: np.ndarray, \n",
    "    x: np.ndarray, \n",
    "    g: float = 9.81):\n",
    "        \n",
    "    return np.asarray([y[2],\n",
    "                       y[3],\n",
    "                       0, \n",
    "                       -g])"
   ]
  },
  {
   "cell_type": "markdown",
   "source": [
    "## Constant Drag Force"
   ],
   "metadata": {
    "collapsed": false,
    "pycharm": {
     "name": "#%% md\n"
    }
   }
  },
  {
   "cell_type": "code",
   "execution_count": 58,
   "metadata": {},
   "outputs": [],
   "source": [
    "def df_constant_drag(\n",
    "    y: np.ndarray, \n",
    "    x: np.ndarray, \n",
    "    b2_m: float = 4.0e-5,\n",
    "    g: float = 9.81):\n",
    "    \n",
    "    v = np.sqrt(y[2]**2 + y[3]**2)\n",
    "    drag_factor = -b2_m * v\n",
    "    \n",
    "    return np.asarray([y[2],\n",
    "                       y[3],\n",
    "                       drag_factor * y[2], \n",
    "                       -g + drag_factor * y[3]])"
   ]
  },
  {
   "cell_type": "code",
   "execution_count": 59,
   "metadata": {},
   "outputs": [],
   "source": [
    "# assumes: i) drag force F = - B_2 * v^2\n",
    "#          ii) isothermal air density model: rho(y) = rho(0) * exp(-y / y0)"
   ]
  },
  {
   "cell_type": "markdown",
   "source": [
    "## Small 'shoot' Function Result Class"
   ],
   "metadata": {
    "collapsed": false,
    "pycharm": {
     "name": "#%% md\n"
    }
   }
  },
  {
   "cell_type": "code",
   "execution_count": 60,
   "outputs": [],
   "source": [
    "class ShootResults:\n",
    "    def __init__(self, y, xmax):\n",
    "        self.x = y[:,0]\n",
    "        self.y = y[:,1]\n",
    "        self.dx = y[:,2]\n",
    "        self.dy = y[:,3]\n",
    "\n",
    "        self.i_ymax = np.argmax(self.y)\n",
    "\n",
    "        self.max_range = xmax\n",
    "        self.max_height = self.y[self.i_ymax]\n",
    "        self.x_at_max_height = self.x[self.i_ymax]"
   ],
   "metadata": {
    "collapsed": false,
    "pycharm": {
     "name": "#%%\n"
    }
   }
  },
  {
   "cell_type": "markdown",
   "source": [
    "## Shoot Trajectory"
   ],
   "metadata": {
    "collapsed": false,
    "pycharm": {
     "name": "#%% md\n"
    }
   }
  },
  {
   "cell_type": "code",
   "execution_count": 61,
   "outputs": [],
   "source": [
    "def shoot(\n",
    "    v0: float = 700., \n",
    "    theta: float = 45., \n",
    "    dt: float = 0.01,\n",
    "    g: float = 9.81,\n",
    "    forcing: callable = df_no_drag,\n",
    "    **kwargs) -> ShootResults:\n",
    "\n",
    "    forcing = partial(forcing, **kwargs)  # Fill in any specific parameters for the forcing methods\n",
    "\n",
    "    vx0 = v0 * np.cos(theta / 180. * np.pi)  # Convert initial conditions into an initial velocity\n",
    "    vy0 = v0 * np.sin(theta / 180. * np.pi)  # ^^^^^^^^^^^^^^^^^^^^^^^^^^^^^^^^^^^^^^^^^^^^^^^^^^^\n",
    "    y0 = np.asarray([0., 0., vx0, vy0])  # Set initial condition\n",
    "\n",
    "    maxr = v0**2 / g   # max range of shell, in vaccuum (for automatic horizontal plot range)\n",
    "    maxt = maxr / y0[2]  # flight time at maxr, in vacuum (for atomatic calculation end time)\n",
    "\n",
    "    nsteps = np.round(maxt / dt)   # time steps\n",
    "    t = np.linspace(0, maxt, nsteps)\n",
    "\n",
    "    t, y_soln = dsolve(forcing, t, y0,\n",
    "        terminate=lambda _x, _y : _x > 0 and _y[1] <= 0.)\n",
    "\n",
    "    x, y = y_soln[:,0], y_soln[:,1]\n",
    "    dx, dy = y_soln[:,2], y_soln[:,3]\n",
    "\n",
    "    xmax = (y[-1] * x[-2] - y[-2] * x[-1] ) / (y[-1] - y[-2])\n",
    "    x[-1] = xmax\n",
    "    y[-1] = 0.\n",
    "\n",
    "    i_ymax = np.argmax(y)\n",
    "\n",
    "    return ShootResults(y, xmax, i_ymax)"
   ],
   "metadata": {
    "collapsed": false,
    "pycharm": {
     "name": "#%%\n"
    }
   }
  },
  {
   "cell_type": "markdown",
   "source": [
    "## Defect Function"
   ],
   "metadata": {
    "collapsed": false,
    "pycharm": {
     "name": "#%% md\n"
    }
   }
  },
  {
   "cell_type": "code",
   "execution_count": 62,
   "metadata": {},
   "outputs": [],
   "source": [
    "def defect_func(\n",
    "        angle: float,\n",
    "        **kwargs) -> float:\n",
    "\n",
    "    result = shoot(theta = angle, **kwargs)\n",
    "    return result.max_range"
   ]
  },
  {
   "cell_type": "markdown",
   "source": [
    "## Sweep Optimum Angle"
   ],
   "metadata": {
    "collapsed": false,
    "pycharm": {
     "name": "#%% md\n"
    }
   }
  },
  {
   "cell_type": "code",
   "execution_count": 63,
   "metadata": {},
   "outputs": [],
   "source": [
    "def maxes(angle):\n",
    "    result_no_drag = shoot(theta=angle, forcing=df_no_drag)\n",
    "    result_constant_drag = shoot(theta=angle, forcing=df_constant_drag)\n",
    "    result_adiabatic_drag = shoot(theta=angle, forcing=df_adiabatic_drag)\n",
    "    result_isothermal_drag = shoot(theta=angle, forcing=df_isothermal_drag)\n",
    "\n",
    "    return result_no_drag.max_range, \\\n",
    "           result_constant_drag.max_range, \\\n",
    "           result_adiabatic_drag.max_range, \\\n",
    "           result_isothermal_drag.max_range"
   ]
  },
  {
   "cell_type": "markdown",
   "source": [
    "## Plot Max Ranges"
   ],
   "metadata": {
    "collapsed": false,
    "pycharm": {
     "name": "#%% md\n"
    }
   }
  },
  {
   "cell_type": "code",
   "execution_count": 64,
   "metadata": {},
   "outputs": [
    {
     "ename": "IndexError",
     "evalue": "too many indices for array",
     "output_type": "error",
     "traceback": [
      "\u001B[0;31m---------------------------------------------------------------------------\u001B[0m",
      "\u001B[0;31mIndexError\u001B[0m                                Traceback (most recent call last)",
      "\u001B[0;32m<ipython-input-64-ce488b302456>\u001B[0m in \u001B[0;36m<module>\u001B[0;34m\u001B[0m\n\u001B[1;32m      1\u001B[0m \u001B[0mangles\u001B[0m \u001B[0;34m=\u001B[0m \u001B[0mnp\u001B[0m\u001B[0;34m.\u001B[0m\u001B[0mlinspace\u001B[0m\u001B[0;34m(\u001B[0m\u001B[0;36m5\u001B[0m\u001B[0;34m,\u001B[0m \u001B[0;36m85\u001B[0m\u001B[0;34m,\u001B[0m \u001B[0;36m1000\u001B[0m\u001B[0;34m)\u001B[0m\u001B[0;34m\u001B[0m\u001B[0;34m\u001B[0m\u001B[0m\n\u001B[1;32m      2\u001B[0m \u001B[0;34m\u001B[0m\u001B[0m\n\u001B[0;32m----> 3\u001B[0;31m \u001B[0mdata\u001B[0m \u001B[0;34m=\u001B[0m \u001B[0mnp\u001B[0m\u001B[0;34m.\u001B[0m\u001B[0masarray\u001B[0m\u001B[0;34m(\u001B[0m\u001B[0;34m[\u001B[0m\u001B[0mmaxes\u001B[0m\u001B[0;34m(\u001B[0m\u001B[0mangle\u001B[0m\u001B[0;34m)\u001B[0m \u001B[0;32mfor\u001B[0m \u001B[0mangle\u001B[0m \u001B[0;32min\u001B[0m \u001B[0mangles\u001B[0m\u001B[0;34m]\u001B[0m\u001B[0;34m)\u001B[0m\u001B[0;34m\u001B[0m\u001B[0;34m\u001B[0m\u001B[0m\n\u001B[0m\u001B[1;32m      4\u001B[0m \u001B[0mno_drag\u001B[0m\u001B[0;34m,\u001B[0m \u001B[0mconstant_drag\u001B[0m\u001B[0;34m,\u001B[0m \u001B[0madiabatic_drag\u001B[0m\u001B[0;34m,\u001B[0m \u001B[0misothermal_drag\u001B[0m \u001B[0;34m=\u001B[0m \u001B[0mdata\u001B[0m\u001B[0;34m[\u001B[0m\u001B[0;34m:\u001B[0m\u001B[0;34m,\u001B[0m\u001B[0;36m0\u001B[0m\u001B[0;34m]\u001B[0m\u001B[0;34m,\u001B[0m \u001B[0mdata\u001B[0m\u001B[0;34m[\u001B[0m\u001B[0;34m:\u001B[0m\u001B[0;34m,\u001B[0m\u001B[0;36m1\u001B[0m\u001B[0;34m]\u001B[0m\u001B[0;34m,\u001B[0m \u001B[0mdata\u001B[0m\u001B[0;34m[\u001B[0m\u001B[0;34m:\u001B[0m\u001B[0;34m,\u001B[0m\u001B[0;36m2\u001B[0m\u001B[0;34m]\u001B[0m\u001B[0;34m,\u001B[0m \u001B[0mdata\u001B[0m\u001B[0;34m[\u001B[0m\u001B[0;34m:\u001B[0m\u001B[0;34m,\u001B[0m\u001B[0;36m3\u001B[0m\u001B[0;34m]\u001B[0m\u001B[0;34m\u001B[0m\u001B[0;34m\u001B[0m\u001B[0m\n\u001B[1;32m      5\u001B[0m \u001B[0;34m\u001B[0m\u001B[0m\n",
      "\u001B[0;32m<ipython-input-64-ce488b302456>\u001B[0m in \u001B[0;36m<listcomp>\u001B[0;34m(.0)\u001B[0m\n\u001B[1;32m      1\u001B[0m \u001B[0mangles\u001B[0m \u001B[0;34m=\u001B[0m \u001B[0mnp\u001B[0m\u001B[0;34m.\u001B[0m\u001B[0mlinspace\u001B[0m\u001B[0;34m(\u001B[0m\u001B[0;36m5\u001B[0m\u001B[0;34m,\u001B[0m \u001B[0;36m85\u001B[0m\u001B[0;34m,\u001B[0m \u001B[0;36m1000\u001B[0m\u001B[0;34m)\u001B[0m\u001B[0;34m\u001B[0m\u001B[0;34m\u001B[0m\u001B[0m\n\u001B[1;32m      2\u001B[0m \u001B[0;34m\u001B[0m\u001B[0m\n\u001B[0;32m----> 3\u001B[0;31m \u001B[0mdata\u001B[0m \u001B[0;34m=\u001B[0m \u001B[0mnp\u001B[0m\u001B[0;34m.\u001B[0m\u001B[0masarray\u001B[0m\u001B[0;34m(\u001B[0m\u001B[0;34m[\u001B[0m\u001B[0mmaxes\u001B[0m\u001B[0;34m(\u001B[0m\u001B[0mangle\u001B[0m\u001B[0;34m)\u001B[0m \u001B[0;32mfor\u001B[0m \u001B[0mangle\u001B[0m \u001B[0;32min\u001B[0m \u001B[0mangles\u001B[0m\u001B[0;34m]\u001B[0m\u001B[0;34m)\u001B[0m\u001B[0;34m\u001B[0m\u001B[0;34m\u001B[0m\u001B[0m\n\u001B[0m\u001B[1;32m      4\u001B[0m \u001B[0mno_drag\u001B[0m\u001B[0;34m,\u001B[0m \u001B[0mconstant_drag\u001B[0m\u001B[0;34m,\u001B[0m \u001B[0madiabatic_drag\u001B[0m\u001B[0;34m,\u001B[0m \u001B[0misothermal_drag\u001B[0m \u001B[0;34m=\u001B[0m \u001B[0mdata\u001B[0m\u001B[0;34m[\u001B[0m\u001B[0;34m:\u001B[0m\u001B[0;34m,\u001B[0m\u001B[0;36m0\u001B[0m\u001B[0;34m]\u001B[0m\u001B[0;34m,\u001B[0m \u001B[0mdata\u001B[0m\u001B[0;34m[\u001B[0m\u001B[0;34m:\u001B[0m\u001B[0;34m,\u001B[0m\u001B[0;36m1\u001B[0m\u001B[0;34m]\u001B[0m\u001B[0;34m,\u001B[0m \u001B[0mdata\u001B[0m\u001B[0;34m[\u001B[0m\u001B[0;34m:\u001B[0m\u001B[0;34m,\u001B[0m\u001B[0;36m2\u001B[0m\u001B[0;34m]\u001B[0m\u001B[0;34m,\u001B[0m \u001B[0mdata\u001B[0m\u001B[0;34m[\u001B[0m\u001B[0;34m:\u001B[0m\u001B[0;34m,\u001B[0m\u001B[0;36m3\u001B[0m\u001B[0;34m]\u001B[0m\u001B[0;34m\u001B[0m\u001B[0;34m\u001B[0m\u001B[0m\n\u001B[1;32m      5\u001B[0m \u001B[0;34m\u001B[0m\u001B[0m\n",
      "\u001B[0;32m<ipython-input-63-f8dd921054fb>\u001B[0m in \u001B[0;36mmaxes\u001B[0;34m(angle)\u001B[0m\n\u001B[1;32m      1\u001B[0m \u001B[0;32mdef\u001B[0m \u001B[0mmaxes\u001B[0m\u001B[0;34m(\u001B[0m\u001B[0mangle\u001B[0m\u001B[0;34m)\u001B[0m\u001B[0;34m:\u001B[0m\u001B[0;34m\u001B[0m\u001B[0;34m\u001B[0m\u001B[0m\n\u001B[0;32m----> 2\u001B[0;31m     \u001B[0mresult_no_drag\u001B[0m \u001B[0;34m=\u001B[0m \u001B[0mshoot\u001B[0m\u001B[0;34m(\u001B[0m\u001B[0mtheta\u001B[0m\u001B[0;34m=\u001B[0m\u001B[0mangle\u001B[0m\u001B[0;34m,\u001B[0m \u001B[0mforcing\u001B[0m\u001B[0;34m=\u001B[0m\u001B[0mdf_no_drag\u001B[0m\u001B[0;34m)\u001B[0m\u001B[0;34m\u001B[0m\u001B[0;34m\u001B[0m\u001B[0m\n\u001B[0m\u001B[1;32m      3\u001B[0m     \u001B[0mresult_constant_drag\u001B[0m \u001B[0;34m=\u001B[0m \u001B[0mshoot\u001B[0m\u001B[0;34m(\u001B[0m\u001B[0mtheta\u001B[0m\u001B[0;34m=\u001B[0m\u001B[0mangle\u001B[0m\u001B[0;34m,\u001B[0m \u001B[0mforcing\u001B[0m\u001B[0;34m=\u001B[0m\u001B[0mdf_constant_drag\u001B[0m\u001B[0;34m)\u001B[0m\u001B[0;34m\u001B[0m\u001B[0;34m\u001B[0m\u001B[0m\n\u001B[1;32m      4\u001B[0m     \u001B[0mresult_adiabatic_drag\u001B[0m \u001B[0;34m=\u001B[0m \u001B[0mshoot\u001B[0m\u001B[0;34m(\u001B[0m\u001B[0mtheta\u001B[0m\u001B[0;34m=\u001B[0m\u001B[0mangle\u001B[0m\u001B[0;34m,\u001B[0m \u001B[0mforcing\u001B[0m\u001B[0;34m=\u001B[0m\u001B[0mdf_adiabatic_drag\u001B[0m\u001B[0;34m)\u001B[0m\u001B[0;34m\u001B[0m\u001B[0;34m\u001B[0m\u001B[0m\n\u001B[1;32m      5\u001B[0m     \u001B[0mresult_isothermal_drag\u001B[0m \u001B[0;34m=\u001B[0m \u001B[0mshoot\u001B[0m\u001B[0;34m(\u001B[0m\u001B[0mtheta\u001B[0m\u001B[0;34m=\u001B[0m\u001B[0mangle\u001B[0m\u001B[0;34m,\u001B[0m \u001B[0mforcing\u001B[0m\u001B[0;34m=\u001B[0m\u001B[0mdf_isothermal_drag\u001B[0m\u001B[0;34m)\u001B[0m\u001B[0;34m\u001B[0m\u001B[0;34m\u001B[0m\u001B[0m\n",
      "\u001B[0;32m<ipython-input-61-e89fcd82a16b>\u001B[0m in \u001B[0;36mshoot\u001B[0;34m(v0, theta, dt, g, forcing, **kwargs)\u001B[0m\n\u001B[1;32m     31\u001B[0m     \u001B[0mi_ymax\u001B[0m \u001B[0;34m=\u001B[0m \u001B[0mnp\u001B[0m\u001B[0;34m.\u001B[0m\u001B[0margmax\u001B[0m\u001B[0;34m(\u001B[0m\u001B[0my\u001B[0m\u001B[0;34m)\u001B[0m\u001B[0;34m\u001B[0m\u001B[0;34m\u001B[0m\u001B[0m\n\u001B[1;32m     32\u001B[0m \u001B[0;34m\u001B[0m\u001B[0m\n\u001B[0;32m---> 33\u001B[0;31m     \u001B[0;32mreturn\u001B[0m \u001B[0mShootResults\u001B[0m\u001B[0;34m(\u001B[0m\u001B[0my\u001B[0m\u001B[0;34m,\u001B[0m \u001B[0mxmax\u001B[0m\u001B[0;34m,\u001B[0m \u001B[0mi_ymax\u001B[0m\u001B[0;34m)\u001B[0m\u001B[0;34m\u001B[0m\u001B[0;34m\u001B[0m\u001B[0m\n\u001B[0m\u001B[1;32m     34\u001B[0m \u001B[0;34m\u001B[0m\u001B[0m\n",
      "\u001B[0;32m<ipython-input-60-f5a186fe24b8>\u001B[0m in \u001B[0;36m__init__\u001B[0;34m(self, y, xmax, i_ymax)\u001B[0m\n\u001B[1;32m      1\u001B[0m \u001B[0;32mclass\u001B[0m \u001B[0mShootResults\u001B[0m\u001B[0;34m:\u001B[0m\u001B[0;34m\u001B[0m\u001B[0;34m\u001B[0m\u001B[0m\n\u001B[1;32m      2\u001B[0m     \u001B[0;32mdef\u001B[0m \u001B[0m__init__\u001B[0m\u001B[0;34m(\u001B[0m\u001B[0mself\u001B[0m\u001B[0;34m,\u001B[0m \u001B[0my\u001B[0m\u001B[0;34m,\u001B[0m \u001B[0mxmax\u001B[0m\u001B[0;34m,\u001B[0m \u001B[0mi_ymax\u001B[0m\u001B[0;34m)\u001B[0m\u001B[0;34m:\u001B[0m\u001B[0;34m\u001B[0m\u001B[0;34m\u001B[0m\u001B[0m\n\u001B[0;32m----> 3\u001B[0;31m         \u001B[0mself\u001B[0m\u001B[0;34m.\u001B[0m\u001B[0mx\u001B[0m \u001B[0;34m=\u001B[0m \u001B[0my\u001B[0m\u001B[0;34m[\u001B[0m\u001B[0;34m:\u001B[0m\u001B[0;34m,\u001B[0m\u001B[0;36m0\u001B[0m\u001B[0;34m]\u001B[0m\u001B[0;34m\u001B[0m\u001B[0;34m\u001B[0m\u001B[0m\n\u001B[0m\u001B[1;32m      4\u001B[0m         \u001B[0mself\u001B[0m\u001B[0;34m.\u001B[0m\u001B[0my\u001B[0m \u001B[0;34m=\u001B[0m \u001B[0my\u001B[0m\u001B[0;34m[\u001B[0m\u001B[0;34m:\u001B[0m\u001B[0;34m,\u001B[0m\u001B[0;36m1\u001B[0m\u001B[0;34m]\u001B[0m\u001B[0;34m\u001B[0m\u001B[0;34m\u001B[0m\u001B[0m\n\u001B[1;32m      5\u001B[0m         \u001B[0mself\u001B[0m\u001B[0;34m.\u001B[0m\u001B[0mdx\u001B[0m \u001B[0;34m=\u001B[0m \u001B[0my\u001B[0m\u001B[0;34m[\u001B[0m\u001B[0;34m:\u001B[0m\u001B[0;34m,\u001B[0m\u001B[0;36m2\u001B[0m\u001B[0;34m]\u001B[0m\u001B[0;34m\u001B[0m\u001B[0;34m\u001B[0m\u001B[0m\n",
      "\u001B[0;31mIndexError\u001B[0m: too many indices for array"
     ]
    }
   ],
   "source": [
    "angles = np.linspace(5, 85, 1000)\n",
    "\n",
    "data = np.asarray([maxes(angle) for angle in angles])\n",
    "no_drag, constant_drag, adiabatic_drag, isothermal_drag = data[:,0], data[:,1], data[:,2], data[:,3]\n",
    "\n",
    "plt.xlabel('angle [degrees]')    # horizontal position\n",
    "plt.ylabel('range [m]')    # vertical position\n",
    "plt.suptitle(\"Ranges\")\n",
    "plt.plot(angles, no_drag, label = \"No Drag\")\n",
    "plt.plot(angles, constant_drag, label = \"Constant Drag\")\n",
    "plt.plot(angles, adiabatic_drag, label = \"Adiabatic Drag\")\n",
    "plt.plot(angles, isothermal_drag, label = \"Isothermal Drag\")\n",
    "plt.legend()             # create legends\n",
    "plt.grid()\n",
    "plt.show()               # show plot\n"
   ]
  },
  {
   "cell_type": "code",
   "execution_count": null,
   "metadata": {
    "tags": []
   },
   "outputs": [],
   "source": [
    "max_no_drag = np.argmax(no_drag)\n",
    "max_constant_drag = np.argmax(constant_drag)\n",
    "max_adiabatic_drag = np.argmax(adiabatic_drag)\n",
    "max_isothermal_drag = np.argmax(isothermal_drag)\n",
    "\n",
    "print(angles[max_no_drag], no_drag[max_no_drag])\n",
    "print(angles[max_constant_drag], constant_drag[max_constant_drag])\n",
    "print(angles[max_adiabatic_drag], adiabatic_drag[max_adiabatic_drag])\n",
    "print(angles[max_isothermal_drag], isothermal_drag[max_isothermal_drag])"
   ]
  },
  {
   "cell_type": "code",
   "execution_count": null,
   "metadata": {
    "tags": []
   },
   "outputs": [],
   "source": [
    "#theta=44.95995995995996\n",
    "#theta=38.793793793793796\n",
    "#theta=43.67867867867868\n",
    "#theta=45.92092092092092\n",
    "\n",
    "no_drag = shoot(forcing=df_no_drag)\n",
    "constant_drag = shoot(forcing=df_constant_drag)\n",
    "adiabatic_drag = shoot(forcing=df_adiabatic_drag)\n",
    "isothermal_drag = shoot(forcing=df_isothermal_drag)\n",
    "\n",
    "fig = plt.figure(figsize=(16,9), constrained_layout=True)\n",
    "plt.xlabel('x [m]')    # horizontal position\n",
    "plt.ylabel('y [m]')    # vertical position\n",
    "plt.suptitle(\"Trajectories\")\n",
    "plt.plot(no_drag.x, no_drag.y, label = \"No Drag\")\n",
    "plt.plot(constant_drag.x, constant_drag.y, label = \"Constant Drag\")\n",
    "plt.plot(adiabatic_drag.x, adiabatic_drag.y, label = \"Adiabatic Drag\")\n",
    "plt.plot(isothermal_drag.x, isothermal_drag.y, label = \"Isothermal Drag\")\n",
    "plt.legend()\n",
    "plt.grid()\n",
    "plt.show()"
   ]
  },
  {
   "cell_type": "code",
   "execution_count": null,
   "metadata": {
    "pycharm": {
     "name": "#%%\n"
    }
   },
   "outputs": [],
   "source": [
    "def bisect_max(angles, ranges, epsilon, f):\n",
    "   if not ranges:\n",
    "       ranges = [f(angle) for angle in angles]\n",
    "\n",
    "   angle1, angle2, angle3 = angles\n",
    "   range1, range2, range3 = ranges\n",
    "   \n",
    "   assert angle1 < angle2 < angle3\n",
    "   assert range1 <= range2 and range3 <= range2\n",
    "   \n",
    "   if angle3 - angle1 < epsilon: return angle2\n",
    "\n",
    "   angle1_ = (angle1 + angle2) * 0.5\n",
    "   angle3_ = (angle2 + angle3) * 0.5\n",
    "   range1_ = f(angle1_)\n",
    "   range3_ = f(angle3_)\n",
    "\n",
    "   if range1_ < range1 and range3_ < range2:\n",
    "       return bisect_max([angle1_, angle2, angle3_], [range1_, range2, range3_], epsilon, f)\n",
    "   elif range1_ >= range2:\n",
    "       return bisect_max([angle1, angle1_, angle2], [range1, range1_, range2], epsilon, f)\n",
    "   else:\n",
    "       return bisect_max([angle2, angle3_, angle3], [range2, range3_, range3], epsilon, f)"
   ]
  }
 ]
}