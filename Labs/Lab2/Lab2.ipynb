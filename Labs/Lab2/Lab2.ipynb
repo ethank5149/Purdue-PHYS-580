{
 "cells": [
  {
   "cell_type": "markdown",
   "metadata": {},
   "source": [
    "<center>\n",
    "<h1><b>Lab 2</b></h1>\n",
    "<h1>PHYS 580 - Computational Physics</h1>\n",
    "<h2>Professor Molnar</h2>\n",
    "</br>\n",
    "<h3><b>Ethan Knox</b></h3>\n",
    "<h4>https://www.github.com/ethank5149</h4>\n",
    "<h4>ethank5149@gmail.com</h4>\n",
    "</br>\n",
    "</br>\n",
    "<h3><b>September 11, 2020</b></h3>\n",
    "</center>"
   ]
  },
  {
   "cell_type": "markdown",
   "metadata": {},
   "source": [
    "### Imports"
   ]
  },
  {
   "cell_type": "code",
   "execution_count": 1,
   "metadata": {},
   "outputs": [],
   "source": [
    "import math\n",
    "import numpy as np\n",
    "import matplotlib\n",
    "import matplotlib.pyplot as plt\n",
    "from functools import partial"
   ]
  },
  {
   "cell_type": "markdown",
   "metadata": {},
   "source": [
    "### Euler Step"
   ]
  },
  {
   "cell_type": "code",
   "execution_count": 31,
   "metadata": {},
   "outputs": [],
   "source": [
    "def euler_step(f, y, t, dt):\n",
    "    assert(type(f)==callable)\n",
    "    print(f'euler_step: {type(f)}, {type(y)}, {type(t)}, {type(dt)}')\n",
    "    return y + f(t, y) * dt"
   ]
  },
  {
   "cell_type": "markdown",
   "metadata": {},
   "source": [
    "### Parameters"
   ]
  },
  {
   "cell_type": "code",
   "execution_count": 32,
   "metadata": {},
   "outputs": [],
   "source": [
    "g = 9.81\n",
    "v0 = 700\n",
    "dt = 0.01\n",
    "dtheta = 0.01\n",
    "b2_m = 4.0e-5\n",
    "y0scale = 1.0e4\n",
    "alpha = 6.5e-3\n",
    "gamma = 1.4\n",
    "T_grd = 293\n",
    "\n",
    "theta0 = 5\n",
    "theta1 = 85\n",
    "ntheta = round((theta1 - theta0) / dtheta)\n",
    "termination_condition = lambda _t, _y : _t > 0. and _y[1] <= 0.\n",
    "step = euler_step"
   ]
  },
  {
   "cell_type": "markdown",
   "metadata": {
    "pycharm": {
     "name": "#%% md\n"
    }
   },
   "source": [
    "### DSolve Function"
   ]
  },
  {
   "cell_type": "code",
   "execution_count": 42,
   "metadata": {
    "tags": []
   },
   "outputs": [],
   "source": [
    "def dsolve(fun, t, y0):\n",
    "    assert(type(fun)==callable)\n",
    "    t = np.asarray(t)  # Ensure t is a Numpy array\n",
    "    y = np.zeros((np.size(t), np.size(y0)))  # Create our output data container\n",
    "    y[0] = y0  # Set initial condition\n",
    "\n",
    "    terminated_at = -1  # Index of the terminated point\n",
    "\n",
    "    for i in range(np.size(t)-1):\n",
    "        y[i+1] = step(fun, y[i], t[i], t[i+1] - t[i])  # Step forward\n",
    "\n",
    "        if termination_condition(t[i], y[i]):  # Check termination condition\n",
    "            terminated_at = i  # Set termination point\n",
    "            break\n",
    "    \n",
    "    return t[:terminated_at], y[:terminated_at, :]"
   ]
  },
  {
   "cell_type": "markdown",
   "metadata": {},
   "source": [
    "### Center Difference Function"
   ]
  },
  {
   "cell_type": "code",
   "execution_count": 43,
   "metadata": {},
   "outputs": [],
   "source": [
    "def center_difference(f, x_i):\n",
    "    return (f(x_i + 0.5 * dtheta) - f(x_i - 0.5 * dtheta)) / dtheta"
   ]
  },
  {
   "cell_type": "markdown",
   "metadata": {},
   "source": [
    "### Bisection Algorithm"
   ]
  },
  {
   "cell_type": "code",
   "execution_count": 54,
   "metadata": {},
   "outputs": [],
   "source": [
    "def bisection(f,a,b,N):\n",
    "    if f(a)*f(b) >= 0:\n",
    "        return None\n",
    "    a_n = a\n",
    "    b_n = b\n",
    "    for n in range(1,N+1):\n",
    "        m_n = (a_n + b_n)/2\n",
    "        f_m_n = f(m_n)\n",
    "        if f(a_n)*f_m_n < 0:\n",
    "            a_n = a_n\n",
    "            b_n = m_n\n",
    "        elif f(b_n)*f_m_n < 0:\n",
    "            a_n = m_n\n",
    "            b_n = b_n\n",
    "        elif f_m_n == 0:\n",
    "            return m_n\n",
    "        else:\n",
    "            return None\n",
    "    return (a_n + b_n)/2"
   ]
  },
  {
   "cell_type": "markdown",
   "metadata": {},
   "source": [
    "## Drag Forces"
   ]
  },
  {
   "cell_type": "code",
   "execution_count": 55,
   "metadata": {},
   "outputs": [],
   "source": [
    "def df_isothermal_drag(x,  y):\n",
    "    v = np.sqrt(y[2]**2 + y[3]**2)\n",
    "    drag_factor = -b2_m * v * np.exp(-y[1] / y0scale)\n",
    "    return np.asarray([y[2], y[3], drag_factor * y[2], -g + drag_factor * y[3]])\n",
    "\n",
    "\n",
    "def df_adiabatic_drag(x, y):\n",
    "    v = np.sqrt(y[2]**2 + y[3]**2)\n",
    "    drag_factor = -b2_m * v * (1 - alpha * y[1]/T_grd)**(1/ (gamma-1))\n",
    "    return np.asarray([y[2], y[3], drag_factor * y[2], -g + drag_factor * y[3]])\n",
    "\n",
    "\n",
    "def df_no_drag(x, y):\n",
    "    return np.asarray([y[2], y[3], 0, -g])\n",
    "\n",
    "\n",
    "def df_constant_drag(x, y):\n",
    "    v = np.sqrt(y[2]**2 + y[3]**2)\n",
    "    drag_factor = -b2_m * v\n",
    "    return np.asarray([y[2], y[3], drag_factor * y[2], -g + drag_factor * y[3]])"
   ]
  },
  {
   "cell_type": "markdown",
   "metadata": {},
   "source": [
    "## \"Shooting\" Function"
   ]
  },
  {
   "cell_type": "code",
   "execution_count": 56,
   "metadata": {
    "pycharm": {
     "name": "#%%\n"
    }
   },
   "outputs": [],
   "source": [
    "def shoot(theta, forcing):\n",
    "    assert(type(forcing)==callable)\n",
    "    # Convert initial conditions into an initial velocity\n",
    "    vx0 = v0 * np.cos(theta / 180. * np.pi)  \n",
    "    vy0 = v0 * np.sin(theta / 180. * np.pi)\n",
    "    y0 = np.asarray([0., 0., vx0, vy0])  # Set initial condition\n",
    "\n",
    "    theoretical_max_range = v0**2 / g   # max range of shell, in vaccuum (for automatic horizontal plot range)\n",
    "    theoretical_max_flight_time = theoretical_max_range / y0[2]  # flight time at maxr, in vacuum (for atomatic calculation end time)\n",
    "\n",
    "    nsteps = round(theoretical_max_flight_time / dt)   # time steps\n",
    "    t = np.linspace(0, theoretical_max_flight_time, int(nsteps))\n",
    "    \n",
    "    t, y_soln = dsolve(forcing, t, y0)\n",
    "    y_soln = y_soln.T\n",
    "\n",
    "    x, y, dx, dy = y_soln[0], y_soln[1], y_soln[2], y_soln[3]\n",
    "\n",
    "    max_range = (y[-1] * x[-2] - y[-2] * x[-1] ) / (y[-1] - y[-2])\n",
    "    x[-1] = max_range\n",
    "    y[-1] = 0.\n",
    "    \n",
    "    max_height_index = np.argmax(y)\n",
    "    max_height = y[max_height_index]\n",
    "    x_at_max_height = x[max_height_index]\n",
    "\n",
    "    return x, y, dx, dy, x_at_max_height, max_height, max_range"
   ]
  },
  {
   "cell_type": "code",
   "execution_count": 57,
   "metadata": {},
   "outputs": [],
   "source": [
    "def max_range(theta, forcing):\n",
    "    assert(type(forcing)==callable)\n",
    "    soln = shoot(theta, forcing)\n",
    "    return soln[6]\n",
    "\n",
    "def d_max_range(theta, dtheta, forcing):\n",
    "    assert(type(forcing)==callable)\n",
    "    return center_difference(partial(max_range, forcing=forcing), theta)"
   ]
  },
  {
   "cell_type": "markdown",
   "metadata": {
    "pycharm": {
     "name": "#%% md\n"
    }
   },
   "source": [
    "## Sweep Optimum Angle"
   ]
  },
  {
   "cell_type": "code",
   "execution_count": 59,
   "metadata": {},
   "outputs": [
    {
     "ename": "AssertionError",
     "evalue": "",
     "output_type": "error",
     "traceback": [
      "\u001b[1;31m---------------------------------------------------------------------------\u001b[0m",
      "\u001b[1;31mAssertionError\u001b[0m                            Traceback (most recent call last)",
      "\u001b[1;32m<ipython-input-59-5ff16da423ef>\u001b[0m in \u001b[0;36m<module>\u001b[1;34m\u001b[0m\n\u001b[0;32m      1\u001b[0m \u001b[0mfunction_to_zero\u001b[0m \u001b[1;33m=\u001b[0m \u001b[0mpartial\u001b[0m\u001b[1;33m(\u001b[0m\u001b[0md_max_range\u001b[0m\u001b[1;33m,\u001b[0m \u001b[0mdtheta\u001b[0m\u001b[1;33m=\u001b[0m\u001b[0mdtheta\u001b[0m\u001b[1;33m,\u001b[0m \u001b[0mforcing\u001b[0m\u001b[1;33m=\u001b[0m\u001b[0mdf_no_drag\u001b[0m\u001b[1;33m)\u001b[0m\u001b[1;33m\u001b[0m\u001b[1;33m\u001b[0m\u001b[0m\n\u001b[1;32m----> 2\u001b[1;33m \u001b[0mno_drag_optimum_angle\u001b[0m \u001b[1;33m=\u001b[0m \u001b[0mbisection\u001b[0m\u001b[1;33m(\u001b[0m\u001b[0mfunction_to_zero\u001b[0m\u001b[1;33m,\u001b[0m \u001b[1;36m5\u001b[0m\u001b[1;33m,\u001b[0m \u001b[1;36m85\u001b[0m\u001b[1;33m,\u001b[0m \u001b[1;36m100\u001b[0m\u001b[1;33m)\u001b[0m\u001b[1;33m\u001b[0m\u001b[1;33m\u001b[0m\u001b[0m\n\u001b[0m\u001b[0;32m      3\u001b[0m \u001b[0mprint\u001b[0m\u001b[1;33m(\u001b[0m\u001b[0mno_drag_optimum_angle\u001b[0m\u001b[1;33m)\u001b[0m\u001b[1;33m\u001b[0m\u001b[1;33m\u001b[0m\u001b[0m\n\u001b[0;32m      4\u001b[0m \u001b[1;33m\u001b[0m\u001b[0m\n\u001b[0;32m      5\u001b[0m \u001b[0mfunction_to_zero\u001b[0m \u001b[1;33m=\u001b[0m \u001b[0mpartial\u001b[0m\u001b[1;33m(\u001b[0m\u001b[0md_max_range\u001b[0m\u001b[1;33m,\u001b[0m \u001b[0mdtheta\u001b[0m\u001b[1;33m=\u001b[0m\u001b[0mdtheta\u001b[0m\u001b[1;33m,\u001b[0m \u001b[0mforcing\u001b[0m\u001b[1;33m=\u001b[0m\u001b[0mdf_constant_drag\u001b[0m\u001b[1;33m)\u001b[0m\u001b[1;33m\u001b[0m\u001b[1;33m\u001b[0m\u001b[0m\n",
      "\u001b[1;32m<ipython-input-54-ba06434f98b1>\u001b[0m in \u001b[0;36mbisection\u001b[1;34m(f, a, b, N)\u001b[0m\n\u001b[0;32m      1\u001b[0m \u001b[1;32mdef\u001b[0m \u001b[0mbisection\u001b[0m\u001b[1;33m(\u001b[0m\u001b[0mf\u001b[0m\u001b[1;33m,\u001b[0m\u001b[0ma\u001b[0m\u001b[1;33m,\u001b[0m\u001b[0mb\u001b[0m\u001b[1;33m,\u001b[0m\u001b[0mN\u001b[0m\u001b[1;33m)\u001b[0m\u001b[1;33m:\u001b[0m\u001b[1;33m\u001b[0m\u001b[1;33m\u001b[0m\u001b[0m\n\u001b[1;32m----> 2\u001b[1;33m     \u001b[1;32mif\u001b[0m \u001b[0mf\u001b[0m\u001b[1;33m(\u001b[0m\u001b[0ma\u001b[0m\u001b[1;33m)\u001b[0m\u001b[1;33m*\u001b[0m\u001b[0mf\u001b[0m\u001b[1;33m(\u001b[0m\u001b[0mb\u001b[0m\u001b[1;33m)\u001b[0m \u001b[1;33m>=\u001b[0m \u001b[1;36m0\u001b[0m\u001b[1;33m:\u001b[0m\u001b[1;33m\u001b[0m\u001b[1;33m\u001b[0m\u001b[0m\n\u001b[0m\u001b[0;32m      3\u001b[0m         \u001b[1;32mreturn\u001b[0m \u001b[1;32mNone\u001b[0m\u001b[1;33m\u001b[0m\u001b[1;33m\u001b[0m\u001b[0m\n\u001b[0;32m      4\u001b[0m     \u001b[0ma_n\u001b[0m \u001b[1;33m=\u001b[0m \u001b[0ma\u001b[0m\u001b[1;33m\u001b[0m\u001b[1;33m\u001b[0m\u001b[0m\n\u001b[0;32m      5\u001b[0m     \u001b[0mb_n\u001b[0m \u001b[1;33m=\u001b[0m \u001b[0mb\u001b[0m\u001b[1;33m\u001b[0m\u001b[1;33m\u001b[0m\u001b[0m\n",
      "\u001b[1;32m<ipython-input-57-d8116d0198d8>\u001b[0m in \u001b[0;36md_max_range\u001b[1;34m(theta, dtheta, forcing)\u001b[0m\n\u001b[0;32m      5\u001b[0m \u001b[1;33m\u001b[0m\u001b[0m\n\u001b[0;32m      6\u001b[0m \u001b[1;32mdef\u001b[0m \u001b[0md_max_range\u001b[0m\u001b[1;33m(\u001b[0m\u001b[0mtheta\u001b[0m\u001b[1;33m,\u001b[0m \u001b[0mdtheta\u001b[0m\u001b[1;33m,\u001b[0m \u001b[0mforcing\u001b[0m\u001b[1;33m)\u001b[0m\u001b[1;33m:\u001b[0m\u001b[1;33m\u001b[0m\u001b[1;33m\u001b[0m\u001b[0m\n\u001b[1;32m----> 7\u001b[1;33m     \u001b[1;32massert\u001b[0m\u001b[1;33m(\u001b[0m\u001b[0mtype\u001b[0m\u001b[1;33m(\u001b[0m\u001b[0mforcing\u001b[0m\u001b[1;33m)\u001b[0m\u001b[1;33m==\u001b[0m\u001b[0mcallable\u001b[0m\u001b[1;33m)\u001b[0m\u001b[1;33m\u001b[0m\u001b[1;33m\u001b[0m\u001b[0m\n\u001b[0m\u001b[0;32m      8\u001b[0m     \u001b[1;32mreturn\u001b[0m \u001b[0mcenter_difference\u001b[0m\u001b[1;33m(\u001b[0m\u001b[0mpartial\u001b[0m\u001b[1;33m(\u001b[0m\u001b[0mmax_range\u001b[0m\u001b[1;33m,\u001b[0m \u001b[0mforcing\u001b[0m\u001b[1;33m=\u001b[0m\u001b[0mforcing\u001b[0m\u001b[1;33m)\u001b[0m\u001b[1;33m,\u001b[0m \u001b[0mtheta\u001b[0m\u001b[1;33m)\u001b[0m\u001b[1;33m\u001b[0m\u001b[1;33m\u001b[0m\u001b[0m\n",
      "\u001b[1;31mAssertionError\u001b[0m: "
     ]
    }
   ],
   "source": [
    "function_to_zero = partial(d_max_range, dtheta=dtheta, forcing=df_no_drag)\n",
    "no_drag_optimum_angle = bisection(function_to_zero, 5, 85, 100)\n",
    "print(no_drag_optimum_angle)\n",
    "\n",
    "function_to_zero = partial(d_max_range, dtheta=dtheta, forcing=df_constant_drag)\n",
    "constant_drag_optimum_angle = bisection(function_to_zero, 5, 85, 100)\n",
    "print(constant_drag_optimum_angle)\n",
    "\n",
    "function_to_zero = partial(d_max_range, dtheta=dtheta, forcing=df_adiabatic_drag)\n",
    "adiabatic_drag_optimum_angle = bisection(function_to_zero, 5, 85, 100)\n",
    "print(adiabatic_drag_optimum_angle)\n",
    "\n",
    "function_to_zero = partial(d_max_range, dtheta=dtheta, forcing=df_isothermal_drag)\n",
    "isothermal_drag_optimum_angle = bisection(function_to_zero, 5, 85, 100)\n",
    "print(isothermal_drag_optimum_angle)"
   ]
  },
  {
   "cell_type": "code",
   "execution_count": null,
   "metadata": {
    "jupyter": {
     "source_hidden": true
    }
   },
   "outputs": [],
   "source": [
    "no_drag = shoot(no_drag_optimum_angle, df_no_drag)\n",
    "constant_drag = shoot(constant_drag_optimum_angle, df_constant_drag)\n",
    "adiabatic_drag = shoot(adiabatic_drag_optimum_angle, df_adiabatic_drag)\n",
    "isothermal_drag = shoot(isothermal_drag_optimum_angle, df_isothermal_drag)"
   ]
  },
  {
   "cell_type": "markdown",
   "metadata": {
    "pycharm": {
     "name": "#%% md\n"
    }
   },
   "source": [
    "## Plotting"
   ]
  },
  {
   "cell_type": "markdown",
   "metadata": {},
   "source": [
    "### Sweeping Optimum Launch Angle"
   ]
  },
  {
   "cell_type": "code",
   "execution_count": null,
   "metadata": {
    "jupyter": {
     "source_hidden": true
    }
   },
   "outputs": [],
   "source": [
    "fig = plt.figure(figsize=(16,9), constrained_layout=True)\n",
    "plt.xlabel('Angle [degrees]')\n",
    "plt.ylabel('Range [m]')\n",
    "plt.suptitle(\"Ranges\")\n",
    "plt.plot(no_drag[0], no_drag[1], label = \"No Drag\")\n",
    "plt.plot(constant_drag[0], constant_drag[1], label = \"Constant Drag\")\n",
    "plt.plot(adiabatic_drag[0], adiabatic_drag[1], label = \"Adiabatic Drag\")\n",
    "plt.plot(isothermal_drag[0], isothermal_drag[1], label = \"Isothermal Drag\")\n",
    "plt.legend()\n",
    "plt.grid()\n",
    "plt.show()"
   ]
  },
  {
   "cell_type": "code",
   "execution_count": null,
   "metadata": {},
   "outputs": [],
   "source": [
    "from scipy.integrate import solve_ivp\n",
    "from scipy.misc import derivative\n",
    "from scipy.optimize import root_scalar"
   ]
  },
  {
   "cell_type": "code",
   "execution_count": null,
   "metadata": {},
   "outputs": [],
   "source": [
    "terminate = terminate_condition\n",
    "terminate.terminal = True\n",
    "force = df_adiabatic_drag\n",
    "\n",
    "def get_range(theta, force, terminate):\n",
    "    vx0 = v0 * np.cos(theta / 180. * np.pi)  \n",
    "    vy0 = v0 * np.sin(theta / 180. * np.pi)\n",
    "    y0 = np.asarray([0., 0., vx0, vy0])  # Set initial condition\n",
    "    \n",
    "    theoretical_max_range = v0**2 / g   # max range of shell, in vaccuum (for automatic horizontal plot range)\n",
    "    theoretical_max_flight_time = theoretical_max_range / y0[2]  # flight time at maxr, in vacuum (for atomatic calculation end time)\n",
    "    \n",
    "    soln = solve_ivp(df_no_drag, (0, theoretical_max_flight_time), y0, events=terminate)\n",
    "    return (soln.y[1,-1] * soln.y[0,-2] - soln.y[1,-2] * soln.y[0,-1] ) / (soln.y[1,-1] - soln.y[1,-2])\n",
    "\n",
    "\n",
    "def get_drange(theta, force, terminate):\n",
    "     return derivative(get_range, x0=theta, dx=dtheta, args=(v0, force, terminate))\n",
    "                       \n",
    "\n",
    "optimum_angle = root_scalar(get_drange, args=(force, terminate), bracket=[theta0, theta1], x0=theta0, x1=theta1, xtol=dtheta, rtol=dtheta)\n",
    "                       \n",
    "print(optimum_angle)\n"
   ]
  },
  {
   "cell_type": "code",
   "execution_count": null,
   "metadata": {},
   "outputs": [],
   "source": []
  }
 ],
 "metadata": {
  "kernelspec": {
   "display_name": "Python 3",
   "language": "python",
   "name": "python3"
  },
  "language_info": {
   "codemirror_mode": {
    "name": "ipython",
    "version": 3
   },
   "file_extension": ".py",
   "mimetype": "text/x-python",
   "name": "python",
   "nbconvert_exporter": "python",
   "pygments_lexer": "ipython3",
   "version": "3.8.3"
  }
 },
 "nbformat": 4,
 "nbformat_minor": 4
}
