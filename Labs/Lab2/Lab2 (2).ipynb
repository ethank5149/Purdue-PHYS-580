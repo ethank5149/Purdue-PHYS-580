{
 "cells": [
  {
   "cell_type": "markdown",
   "metadata": {},
   "source": [
    "<center>\n",
    "<h1><b>Lab 2</b></h1>\n",
    "<h1>PHYS 580 - Computational Physics</h1>\n",
    "<h2>Professor Molnar</h2>\n",
    "</br>\n",
    "<h3><b>Ethan Knox</b></h3>\n",
    "<h4>https://www.github.com/ethank5149</h4>\n",
    "<h4>ethank5149@gmail.com</h4>\n",
    "</br>\n",
    "</br>\n",
    "<h3><b>September 11, 2020</b></h3>\n",
    "</center>"
   ]
  },
  {
   "cell_type": "markdown",
   "metadata": {
    "heading_collapsed": true
   },
   "source": [
    "## Imports"
   ]
  },
  {
   "cell_type": "code",
   "execution_count": 13,
   "metadata": {
    "hidden": true
   },
   "outputs": [],
   "source": [
    "import math\n",
    "import numpy as np\n",
    "import matplotlib\n",
    "import matplotlib.pyplot as plt\n",
    "from functools import partial\n",
    "from scipy.integrate import solve_ivp"
   ]
  },
  {
   "cell_type": "markdown",
   "metadata": {
    "heading_collapsed": true
   },
   "source": [
    "# Support Functions"
   ]
  },
  {
   "cell_type": "markdown",
   "metadata": {
    "heading_collapsed": true,
    "hidden": true
   },
   "source": [
    "## Euler Step"
   ]
  },
  {
   "cell_type": "code",
   "execution_count": 14,
   "metadata": {
    "hidden": true
   },
   "outputs": [],
   "source": [
    "def euler_step(f: callable, \n",
    "               y: np.ndarray, \n",
    "               t: float, \n",
    "               dt: float, \n",
    "               *args, \n",
    "               **kwargs):\n",
    "    \n",
    "    return y + f(y, t, *args, **kwargs) * dt"
   ]
  },
  {
   "cell_type": "markdown",
   "metadata": {
    "heading_collapsed": true,
    "hidden": true,
    "pycharm": {
     "name": "#%% md\n"
    }
   },
   "source": [
    "## DSolve Function"
   ]
  },
  {
   "cell_type": "code",
   "execution_count": 15,
   "metadata": {
    "hidden": true,
    "tags": []
   },
   "outputs": [],
   "source": [
    "def dsolve(\n",
    "    fun: callable, \n",
    "    t: np.ndarray, \n",
    "    y0: np.ndarray, \n",
    "    terminate = lambda x, y : False,\n",
    "    step: callable = euler_step) -> tuple:\n",
    "    \n",
    "    t = np.asarray(t)  # Ensure t is a Numpy array\n",
    "    y = np.zeros((np.size(t), np.size(y0)))  # Create our output data container\n",
    "    y[0] = y0  # Set initial condition\n",
    "\n",
    "    dt = t[1] - t[0]  # Assume independent variable points are equidistant\n",
    "    terminated_at = -1  # Index of the terminated point\n",
    "\n",
    "    for i in range(np.size(t)-1):\n",
    "        y[i+1] = euler_step(fun, y[i], t[i], dt)\n",
    "        # y[i+1] = y[i] + fun(y[i], t[i]) * dt  # Step forward\n",
    "\n",
    "        if terminate(t[i], y[i]):  # Check termination condition\n",
    "            terminated_at = i  # Set termination point\n",
    "            break\n",
    "    \n",
    "    return t[:terminated_at], y[:terminated_at, :]"
   ]
  },
  {
   "cell_type": "markdown",
   "metadata": {
    "heading_collapsed": true
   },
   "source": [
    "# Drag Forces"
   ]
  },
  {
   "cell_type": "markdown",
   "metadata": {
    "heading_collapsed": true,
    "hidden": true,
    "pycharm": {
     "name": "#%% md\n"
    }
   },
   "source": [
    "## Isothermal Drag Force"
   ]
  },
  {
   "cell_type": "code",
   "execution_count": 16,
   "metadata": {
    "hidden": true
   },
   "outputs": [],
   "source": [
    "def df_isothermal_drag(\n",
    "    y: np.ndarray, \n",
    "    x: np.ndarray, \n",
    "    b2_m: float = 4.0e-5,\n",
    "    y0scale: float = 1.0e4, \n",
    "    g: float = 9.81):\n",
    "    \n",
    "    v = np.sqrt(y[2]**2 + y[3]**2)\n",
    "    drag_factor = -b2_m * v * np.exp(-y[1] / y0scale)\n",
    "    \n",
    "    return np.asarray([y[2],\n",
    "                       y[3],\n",
    "                       drag_factor * y[2], \n",
    "                       -g + drag_factor * y[3]])"
   ]
  },
  {
   "cell_type": "markdown",
   "metadata": {
    "heading_collapsed": true,
    "hidden": true,
    "pycharm": {
     "name": "#%% md\n"
    }
   },
   "source": [
    "## Adiabatic Drag Force"
   ]
  },
  {
   "cell_type": "code",
   "execution_count": 17,
   "metadata": {
    "hidden": true
   },
   "outputs": [],
   "source": [
    "def df_adiabatic_drag(\n",
    "    y: np.ndarray, \n",
    "    x: np.ndarray, \n",
    "    b2_m: float = 4.0e-5,\n",
    "    alpha: float = 6.5e-3, \n",
    "    gamma: float = 1.4,\n",
    "    T_grd: float = 293,\n",
    "    g: float = 9.81):\n",
    "    \n",
    "    v = np.sqrt(y[2]**2 + y[3]**2)\n",
    "    drag_factor = -b2_m * v * (1 - alpha * y[1]/T_grd)**(1/ (gamma-1))\n",
    "    \n",
    "    return np.asarray([y[2],\n",
    "                       y[3],\n",
    "                       drag_factor * y[2], \n",
    "                       -g + drag_factor * y[3]])"
   ]
  },
  {
   "cell_type": "markdown",
   "metadata": {
    "heading_collapsed": true,
    "hidden": true,
    "pycharm": {
     "name": "#%% md\n"
    }
   },
   "source": [
    "## No Drag Force"
   ]
  },
  {
   "cell_type": "code",
   "execution_count": 18,
   "metadata": {
    "hidden": true
   },
   "outputs": [],
   "source": [
    "def df_no_drag(\n",
    "    y: np.ndarray, \n",
    "    x: np.ndarray, \n",
    "    g: float = 9.81):\n",
    "        \n",
    "    return np.asarray([y[2],\n",
    "                       y[3],\n",
    "                       0, \n",
    "                       -g])"
   ]
  },
  {
   "cell_type": "markdown",
   "metadata": {
    "heading_collapsed": true,
    "hidden": true,
    "pycharm": {
     "name": "#%% md\n"
    }
   },
   "source": [
    "## Constant Drag Force"
   ]
  },
  {
   "cell_type": "code",
   "execution_count": 19,
   "metadata": {
    "hidden": true
   },
   "outputs": [],
   "source": [
    "def df_constant_drag(\n",
    "    y: np.ndarray, \n",
    "    x: np.ndarray, \n",
    "    b2_m: float = 4.0e-5,\n",
    "    g: float = 9.81):\n",
    "    \n",
    "    v = np.sqrt(y[2]**2 + y[3]**2)\n",
    "    drag_factor = -b2_m * v\n",
    "    \n",
    "    return np.asarray([y[2],\n",
    "                       y[3],\n",
    "                       drag_factor * y[2], \n",
    "                       -g + drag_factor * y[3]])"
   ]
  },
  {
   "cell_type": "code",
   "execution_count": 20,
   "metadata": {
    "hidden": true
   },
   "outputs": [],
   "source": [
    "# assumes: i) drag force F = - B_2 * v^2\n",
    "#          ii) isothermal air density model: rho(y) = rho(0) * exp(-y / y0)"
   ]
  },
  {
   "cell_type": "markdown",
   "metadata": {},
   "source": [
    "# Shoot Trajectory Driver"
   ]
  },
  {
   "cell_type": "markdown",
   "metadata": {
    "pycharm": {
     "name": "#%% md\n"
    }
   },
   "source": [
    "## Shoot Trajectory"
   ]
  },
  {
   "cell_type": "code",
   "execution_count": 22,
   "metadata": {
    "pycharm": {
     "name": "#%%\n"
    }
   },
   "outputs": [],
   "source": [
    "def shoot(\n",
    "    v0: float = 700., \n",
    "    theta: float = 45., \n",
    "    dt: float = 0.01,\n",
    "    g: float = 9.81,\n",
    "    forcing: callable = df_no_drag,\n",
    "    *args,\n",
    "    **kwargs):\n",
    "\n",
    "\n",
    "    # Convert initial conditions into an initial velocity\n",
    "    vx0 = v0 * np.cos(theta / 180. * np.pi)  \n",
    "    vy0 = v0 * np.sin(theta / 180. * np.pi)\n",
    "    \n",
    "      # Set initial condition\n",
    "    y0 = np.asarray([0., 0., vx0, vy0])\n",
    "\n",
    "    maxr = v0**2 / g   # max range of shell, in vaccuum (for automatic horizontal plot range)\n",
    "    maxt = maxr / vx0  # flight time at maxr, in vacuum (for atomatic calculation end time)\n",
    "\n",
    "    nsteps = np.round(maxt / dt)   # time steps\n",
    "    t = np.linspace(0, maxt, nsteps)\n",
    "\n",
    "    forcing = partial(forcing, *args, **kwargs)  # Fill in any specific parameters for the forcing methods\n",
    "    t, soln = dsolve(forcing, t, y0, terminate=lambda _x, _y : _x > 0 and _y[1] <= 0.)\n",
    "    \n",
    "    # Post Analysis\n",
    "    x, y, dx, dy = soln.T\n",
    "    \n",
    "    max_range = (y[-1] * x[-2] - y[-2] * x[-1] ) / (y[-1] - y[-2])\n",
    "    x[-1] = max_range\n",
    "    y[-1] = 0    \n",
    "\n",
    "    max_height_index = np.argmax(y)\n",
    "    max_height = y[max_height_index]\n",
    "    x_at_max_height = x[max_height_index]\n",
    "    \n",
    "    return t, x, y, dx, dy, x_at_max_height, max_height, max_range"
   ]
  },
  {
   "cell_type": "markdown",
   "metadata": {},
   "source": [
    "# Simulation"
   ]
  },
  {
   "cell_type": "code",
   "execution_count": 25,
   "metadata": {},
   "outputs": [
    {
     "ename": "ValueError",
     "evalue": "The truth value of an array with more than one element is ambiguous. Use a.any() or a.all()",
     "output_type": "error",
     "traceback": [
      "\u001b[0;31m---------------------------------------------------------------------------\u001b[0m",
      "\u001b[0;31mValueError\u001b[0m                                Traceback (most recent call last)",
      "\u001b[0;32m<ipython-input-25-39e204861f08>\u001b[0m in \u001b[0;36m<module>\u001b[0;34m\u001b[0m\n\u001b[1;32m      6\u001b[0m \u001b[0misothermal_drag_ranges\u001b[0m \u001b[0;34m=\u001b[0m \u001b[0mnp\u001b[0m\u001b[0;34m.\u001b[0m\u001b[0masarray\u001b[0m\u001b[0;34m(\u001b[0m\u001b[0;34m[\u001b[0m\u001b[0mshoot\u001b[0m\u001b[0;34m(\u001b[0m\u001b[0mangle\u001b[0m\u001b[0;34m,\u001b[0m \u001b[0mforcing\u001b[0m\u001b[0;34m=\u001b[0m\u001b[0mdf_isothermal_drag\u001b[0m\u001b[0;34m)\u001b[0m \u001b[0;32mfor\u001b[0m \u001b[0mangle\u001b[0m \u001b[0;32min\u001b[0m \u001b[0mangles\u001b[0m\u001b[0;34m]\u001b[0m\u001b[0;34m)\u001b[0m\u001b[0;34m\u001b[0m\u001b[0;34m\u001b[0m\u001b[0m\n\u001b[1;32m      7\u001b[0m \u001b[0;34m\u001b[0m\u001b[0m\n\u001b[0;32m----> 8\u001b[0;31m \u001b[0mno_drag_optimum_angle_index\u001b[0m \u001b[0;34m=\u001b[0m \u001b[0mnp\u001b[0m\u001b[0;34m.\u001b[0m\u001b[0margmax\u001b[0m\u001b[0;34m(\u001b[0m\u001b[0mno_drag_ranges\u001b[0m\u001b[0;34m)\u001b[0m\u001b[0;34m\u001b[0m\u001b[0;34m\u001b[0m\u001b[0m\n\u001b[0m\u001b[1;32m      9\u001b[0m \u001b[0mconstant_drag_optimum_angle_index\u001b[0m \u001b[0;34m=\u001b[0m \u001b[0mnp\u001b[0m\u001b[0;34m.\u001b[0m\u001b[0margmax\u001b[0m\u001b[0;34m(\u001b[0m\u001b[0mconstant_drag_ranges\u001b[0m\u001b[0;34m)\u001b[0m\u001b[0;34m\u001b[0m\u001b[0;34m\u001b[0m\u001b[0m\n\u001b[1;32m     10\u001b[0m \u001b[0madiabatic_drag_optimum_angle_index\u001b[0m \u001b[0;34m=\u001b[0m \u001b[0mnp\u001b[0m\u001b[0;34m.\u001b[0m\u001b[0margmax\u001b[0m\u001b[0;34m(\u001b[0m\u001b[0madiabatic_drag_ranges\u001b[0m\u001b[0;34m)\u001b[0m\u001b[0;34m\u001b[0m\u001b[0;34m\u001b[0m\u001b[0m\n",
      "\u001b[0;32m<__array_function__ internals>\u001b[0m in \u001b[0;36margmax\u001b[0;34m(*args, **kwargs)\u001b[0m\n",
      "\u001b[0;32m/usr/lib/python3/dist-packages/numpy/core/fromnumeric.py\u001b[0m in \u001b[0;36margmax\u001b[0;34m(a, axis, out)\u001b[0m\n\u001b[1;32m   1151\u001b[0m \u001b[0;34m\u001b[0m\u001b[0m\n\u001b[1;32m   1152\u001b[0m     \"\"\"\n\u001b[0;32m-> 1153\u001b[0;31m     \u001b[0;32mreturn\u001b[0m \u001b[0m_wrapfunc\u001b[0m\u001b[0;34m(\u001b[0m\u001b[0ma\u001b[0m\u001b[0;34m,\u001b[0m \u001b[0;34m'argmax'\u001b[0m\u001b[0;34m,\u001b[0m \u001b[0maxis\u001b[0m\u001b[0;34m=\u001b[0m\u001b[0maxis\u001b[0m\u001b[0;34m,\u001b[0m \u001b[0mout\u001b[0m\u001b[0;34m=\u001b[0m\u001b[0mout\u001b[0m\u001b[0;34m)\u001b[0m\u001b[0;34m\u001b[0m\u001b[0;34m\u001b[0m\u001b[0m\n\u001b[0m\u001b[1;32m   1154\u001b[0m \u001b[0;34m\u001b[0m\u001b[0m\n\u001b[1;32m   1155\u001b[0m \u001b[0;34m\u001b[0m\u001b[0m\n",
      "\u001b[0;32m/usr/lib/python3/dist-packages/numpy/core/fromnumeric.py\u001b[0m in \u001b[0;36m_wrapfunc\u001b[0;34m(obj, method, *args, **kwds)\u001b[0m\n\u001b[1;32m     59\u001b[0m \u001b[0;34m\u001b[0m\u001b[0m\n\u001b[1;32m     60\u001b[0m     \u001b[0;32mtry\u001b[0m\u001b[0;34m:\u001b[0m\u001b[0;34m\u001b[0m\u001b[0;34m\u001b[0m\u001b[0m\n\u001b[0;32m---> 61\u001b[0;31m         \u001b[0;32mreturn\u001b[0m \u001b[0mbound\u001b[0m\u001b[0;34m(\u001b[0m\u001b[0;34m*\u001b[0m\u001b[0margs\u001b[0m\u001b[0;34m,\u001b[0m \u001b[0;34m**\u001b[0m\u001b[0mkwds\u001b[0m\u001b[0;34m)\u001b[0m\u001b[0;34m\u001b[0m\u001b[0;34m\u001b[0m\u001b[0m\n\u001b[0m\u001b[1;32m     62\u001b[0m     \u001b[0;32mexcept\u001b[0m \u001b[0mTypeError\u001b[0m\u001b[0;34m:\u001b[0m\u001b[0;34m\u001b[0m\u001b[0;34m\u001b[0m\u001b[0m\n\u001b[1;32m     63\u001b[0m         \u001b[0;31m# A TypeError occurs if the object does have such a method in its\u001b[0m\u001b[0;34m\u001b[0m\u001b[0;34m\u001b[0m\u001b[0;34m\u001b[0m\u001b[0m\n",
      "\u001b[0;31mValueError\u001b[0m: The truth value of an array with more than one element is ambiguous. Use a.any() or a.all()"
     ]
    }
   ],
   "source": [
    "angles = np.linspace(5, 85, 1000)\n",
    "\n",
    "no_drag_ranges = np.asarray([shoot(angle, forcing=df_no_drag) for angle in angles])\n",
    "constant_drag_ranges = np.asarray([shoot(angle, forcing=df_constant_drag) for angle in angles])\n",
    "adiabatic_drag_ranges = np.asarray([shoot(angle, forcing=df_adiabatic_drag) for angle in angles])\n",
    "isothermal_drag_ranges = np.asarray([shoot(angle, forcing=df_isothermal_drag) for angle in angles])\n",
    "\n",
    "no_drag_optimum_angle_index = np.argmax(no_drag_ranges)\n",
    "constant_drag_optimum_angle_index = np.argmax(constant_drag_ranges)\n",
    "adiabatic_drag_optimum_angle_index = np.argmax(adiabatic_drag_ranges)\n",
    "isothermal_drag_optimum_angle_index = np.argmax(isothermal_drag_ranges)\n",
    "\n",
    "no_drag_optimum_angle = angles[no_drag_optimum_angle_index]\n",
    "constant_drag_optimum_angle = angles[constant_drag_optimum_angle_index]\n",
    "adiabatic_drag_optimum_angle = angles[adiabatic_drag_optimum_angle_index]\n",
    "isothermal_drag_optimum_angle = angles[isothermal_drag_optimum_angle_index]\n",
    "\n",
    "no_drag_optimum = shoot(forcing=df_no_drag, theta=no_drag_optimum_angle)\n",
    "constant_drag_optimum = shoot(forcing=df_constant_drag, theta=constant_drag_optimum_angle)\n",
    "adiabatic_drag_optimum = shoot(forcing=df_adiabatic_drag, theta=adiabatic_drag_optimum_angle)\n",
    "isothermal_drag_optimum = shoot(forcing=df_isothermal_drag, theta=isothermal_drag_optimum_angle)"
   ]
  },
  {
   "cell_type": "markdown",
   "metadata": {
    "pycharm": {
     "name": "#%% md\n"
    }
   },
   "source": [
    "# Plot"
   ]
  },
  {
   "cell_type": "markdown",
   "metadata": {},
   "source": [
    "## Range vs. Launch Angle"
   ]
  },
  {
   "cell_type": "code",
   "execution_count": null,
   "metadata": {},
   "outputs": [],
   "source": [
    "plt.xlabel('Angle [degrees]')\n",
    "plt.ylabel('Range [m]')\n",
    "plt.suptitle(\"Ranges\")\n",
    "plt.plot(angles, no_drag_ranges, label = \"No Drag\")\n",
    "plt.plot(angles, constant_drag_ranges, label = \"Constant Drag\")\n",
    "plt.plot(angles, adiabatic_drag_ranges, label = \"Adiabatic Drag\")\n",
    "plt.plot(angles, isothermal_drag_ranges, label = \"Isothermal Drag\")\n",
    "plt.legend()\n",
    "plt.grid()\n",
    "plt.show()"
   ]
  },
  {
   "cell_type": "markdown",
   "metadata": {},
   "source": [
    "## Trajectory At Optimum Launch Angle"
   ]
  },
  {
   "cell_type": "code",
   "execution_count": null,
   "metadata": {
    "tags": []
   },
   "outputs": [],
   "source": [
    "#theta=44.95995995995996\n",
    "#theta=38.793793793793796\n",
    "#theta=43.67867867867868\n",
    "#theta=45.92092092092092\n",
    "fig = plt.figure(figsize=(16,9), constrained_layout=True)\n",
    "plt.xlabel('x [m]')\n",
    "plt.ylabel('y [m]')\n",
    "plt.suptitle(\"Trajectories\")\n",
    "plt.plot(no_drag_optimum.x, no_drag_optimum.y, label = \"No Drag\")\n",
    "plt.plot(constant_drag_optimum.x, constant_drag_optimum.y, label = \"Constant Drag\")\n",
    "plt.plot(adiabatic_drag_optimum.x, adiabatic_drag_optimum.y, label = \"Adiabatic Drag\")\n",
    "plt.plot(isothermal_drag_optimum.x, isothermal_drag_optimum.y, label = \"Isothermal Drag\")\n",
    "plt.legend()\n",
    "plt.grid()\n",
    "plt.show()"
   ]
  }
 ],
 "metadata": {
  "kernelspec": {
   "display_name": "PyCharm (Purdue-PHYS-580)",
   "language": "python",
   "name": "pycharm-7f574e64"
  },
  "language_info": {
   "codemirror_mode": {
    "name": "ipython",
    "version": 3
   },
   "file_extension": ".py",
   "mimetype": "text/x-python",
   "name": "python",
   "nbconvert_exporter": "python",
   "pygments_lexer": "ipython3",
   "version": "3.8.2"
  }
 },
 "nbformat": 4,
 "nbformat_minor": 2
}
