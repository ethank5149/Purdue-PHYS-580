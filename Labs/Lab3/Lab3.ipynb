{
 "cells": [
  {
   "cell_type": "markdown",
   "source": [
    "<center>\n",
    "<h1><b>Lab 3</b></h1>\n",
    "<h1>PHYS 580 - Computational Physics</h1>\n",
    "<h2>Professor Molnar</h2>\n",
    "</br>\n",
    "<h3><b>Ethan Knox</b></h3>\n",
    "<h4>https://www.github.com/ethank5149</h4>\n",
    "<h4>ethank5149@gmail.com</h4>\n",
    "</br>\n",
    "</br>\n",
    "<h3><b>September 17, 2020</b></h3>\n",
    "</center>"
   ],
   "metadata": {
    "collapsed": false
   }
  },
  {
   "cell_type": "markdown",
   "source": [
    "### Imports"
   ],
   "metadata": {
    "collapsed": false
   }
  },
  {
   "cell_type": "code",
   "execution_count": null,
   "outputs": [],
   "source": [
    "import numpy as np\n",
    "import sympy as sp\n",
    "from scipy.special import ellipk\n",
    "from scipy.signal import find_peaks\n",
    "import matplotlib.pyplot as plt\n",
    "from functools import partial"
   ],
   "metadata": {
    "collapsed": false,
    "pycharm": {
     "name": "#%%\n"
    }
   }
  },
  {
   "cell_type": "markdown",
   "source": [
    "### Support Functions"
   ],
   "metadata": {
    "collapsed": false
   }
  },
  {
   "cell_type": "code",
   "execution_count": null,
   "outputs": [],
   "source": [
    "def euler_step(f, y, t, dt):\n",
    "    y = y + f(t, y) * dt\n",
    "    return y\n",
    "\n",
    "\n",
    "def rk2_step(f, y, t, dt):\n",
    "    k1 = dt * f(t, y)\n",
    "    k2 = dt * f(t + dt, y + k1)\n",
    "    y = y + (k1 + k2) / 2.0\n",
    "    return y\n",
    "\n",
    "\n",
    "def euler_cromer_step(f, y, dy, t, dt):\n",
    "    dy = dy + f(t, y, dy) * dt\n",
    "    y = y + dy * dt\n",
    "    return y, dy\n",
    "\n",
    "\n",
    "def dsolve(f, t, y0, step = euler_step):\n",
    "    t = np.asarray(t)  # Ensure t is a Numpy array\n",
    "    y0 = np.asarray(y0)\n",
    "\n",
    "    y = np.zeros((np.size(t), np.size(y0)))  # Create our output data container\n",
    "    y[0] = y0  # Set initial condition\n",
    "\n",
    "    for i in range(np.size(t)-1):\n",
    "        y[i+1] = step(f, y[i], t[i], t[i+1] - t[i])  # Step forward\n",
    "    return t, np.hsplit(y, np.size(y0))\n",
    "\n",
    "\n",
    "def dsolve_simplectic(f, t, y0, dy0, step = euler_cromer_step):\n",
    "    t = np.asarray(t)  # Ensure t is a Numpy array\n",
    "    y0 = np.asarray(y0)\n",
    "\n",
    "    y = np.zeros((np.size(t), np.size(y0)))  # Create our output data container\n",
    "    dy = np.zeros((np.size(t), np.size(dy0)))  # Create our output data container\n",
    "    y[0] = y0  # Set initial condition\n",
    "    dy[0] = dy0  # Set initial condition\n",
    "\n",
    "    for i in range(np.size(t)-1):\n",
    "        y[i+1], dy[i+1] = step(f, y[i], dy[i], t[i], t[i+1] - t[i])  # Step forward\n",
    "\n",
    "    return t, y, dy\n",
    "\n",
    "\n",
    "def get_kinetic_energy(I, omega):\n",
    "    return 0.5 * I * omega ** 2\n",
    "\n",
    "\n",
    "def get_potential_energy(m, g, l, theta):\n",
    "    return m * g * l * (1.0 - np.cos(theta))\n",
    "\n",
    "\n",
    "def get_total_energy(m, I, l, g, theta, omega):\n",
    "    return get_kinetic_energy(I, omega) + get_potential_energy(m, g, l, theta)\n",
    "\n",
    "\n",
    "def global_error(exact, calculated):\n",
    "    error = np.zeros_like(exact)\n",
    "    for i in range(len(error)):\n",
    "        error[i] = calculated[i] - exact[i]\n",
    "    return error\n",
    "\n",
    "\n",
    "def local_error(y_exact, y_approx, x):\n",
    "    error = np.zeros_like(x)\n",
    "    for i in np.arange(1, len(error)):\n",
    "        error[i-1] = y_exact[i] - y_exact[i-1] - (y_approx[i] - y_approx[i-1])\n",
    "    return error"
   ],
   "metadata": {
    "collapsed": false,
    "pycharm": {
     "name": "#%%\n"
    }
   }
  },
  {
   "cell_type": "markdown",
   "source": [
    "### Analytical Calculations"
   ],
   "metadata": {
    "collapsed": false
   }
  },
  {
   "cell_type": "markdown",
   "source": [
    "$$I\\ddot{\\theta}+c\\dot{\\theta}+mgl\\theta=F_0\\cos(\\omega_Dt)\\rightarrow\\ddot{\\theta}+\\frac{c}{I}\\dot{\\theta}+\\frac{mgl}{I}\\theta=\\frac{F_0}{I}\\cos(\\omega_Dt)$$\n",
    "Using:\n",
    "$$A=\\frac{F_0}{I},\\quad\\beta=\\frac{c}{2\\sqrt{mglI}},\\quad\\omega_0=\\sqrt{\\frac{mgl}{I}}$$\n",
    "Gives:\n",
    "$$\\ddot{\\theta}+2\\beta\\omega_0\\dot{\\theta}+\\omega_0^2\\theta=A\\cos(\\omega_Dt)$$\n"
   ],
   "metadata": {
    "collapsed": false
   }
  },
  {
   "cell_type": "code",
   "execution_count": null,
   "outputs": [],
   "source": [
    "def df_linear_pendula(t, x, zeta, w0, A, wd):\n",
    "    return np.asarray([x[1], -2 * zeta * w0 * x[1] - w0 ** 2 * x[0] + A * np.cos(wd * t)])\n",
    "\n",
    "def df_linear_pendula_simplectic(t, x, dx, zeta, w0, A, wd):\n",
    "    return -2 * zeta * w0 * dx - w0 ** 2 * x + A * np.cos(wd * t)"
   ],
   "metadata": {
    "collapsed": false,
    "pycharm": {
     "name": "#%%\n"
    }
   }
  },
  {
   "cell_type": "markdown",
   "source": [
    "# Number 1"
   ],
   "metadata": {
    "collapsed": false
   }
  },
  {
   "cell_type": "markdown",
   "source": [
    "## Analytical Solution"
   ],
   "metadata": {
    "collapsed": false
   }
  },
  {
   "cell_type": "code",
   "execution_count": null,
   "outputs": [],
   "source": [
    "omega_0, t, theta0, dtheta0 = sp.symbols(r'\\omega_0 t \\theta_0 \\dot{\\theta}_0')\n",
    "theta = sp.Function(r'\\theta')\n",
    "\n",
    "ode = sp.Eq(sp.Derivative(theta(t), t, t) + omega_0**2*theta(t),0)\n",
    "ics = {theta(0): theta0, theta(t).diff(t).subs(t, 0): dtheta0}\n",
    "soln = sp.dsolve(ode, theta(t), ics=ics).rewrite(sp.cos).simplify()\n",
    "theta_func = soln.rhs\n",
    "omega_func = theta_func.diff(t)\n",
    "\n",
    "m, g, l, I = sp.symbols(r'm g l I')\n",
    "\n",
    "V = m * g * l * (1 - sp.cos(theta_func))\n",
    "T = I * omega_func ** 2 / 2\n",
    "H = V + T"
   ],
   "metadata": {
    "collapsed": false,
    "pycharm": {
     "name": "#%%\n"
    }
   }
  },
  {
   "cell_type": "code",
   "execution_count": null,
   "outputs": [],
   "source": [
    "theta_func"
   ],
   "metadata": {
    "collapsed": false,
    "pycharm": {
     "name": "#%%\n"
    }
   }
  },
  {
   "cell_type": "code",
   "execution_count": null,
   "outputs": [],
   "source": [
    "H"
   ],
   "metadata": {
    "collapsed": false,
    "pycharm": {
     "name": "#%%\n"
    }
   }
  },
  {
   "cell_type": "code",
   "execution_count": null,
   "outputs": [],
   "source": [
    "def theta_exact(t, theta0, dtheta0, w0):\n",
    "    t = np.asarray(t)       \n",
    "    return dtheta0 * np.sin(w0 * t) / w0 + theta0 * np.cos(w0 * t)\n",
    "\n",
    "def total_energy_exact(t, theta0, dtheta0, w0, m, g, l, I):\n",
    "    t = np.asarray(t)\n",
    "    return I * (dtheta0 * np.cos(w0 * t) - w0 * theta0 * np.sin(w0 * t))**2 / 2 + m*g*l*(1-np.cos(dtheta0 * np.sin(w0 * t) / w0 + theta0 * np.cos(w0 * t)))"
   ],
   "metadata": {
    "collapsed": false,
    "pycharm": {
     "name": "#%%\n"
    }
   }
  },
  {
   "cell_type": "markdown",
   "source": [
    "## Parameters"
   ],
   "metadata": {
    "collapsed": false
   }
  },
  {
   "cell_type": "code",
   "execution_count": null,
   "outputs": [],
   "source": [
    "m = 1.0\n",
    "g = 9.81\n",
    "l = 1.0\n",
    "I = m*l**2\n",
    "c = 0.0\n",
    "F0 = 0.0\n",
    "\n",
    "A = F0/I\n",
    "zeta = c/(2*np.sqrt(m*g*l*I))  # Damping ratio\n",
    "w0 = np.sqrt(m*g*l/I)\n",
    "wd = 1.0\n",
    "\n",
    "theta0 = np.pi/2.0\n",
    "dtheta0 = 0.0\n",
    "\n",
    "ti = 0\n",
    "tf = 10\n",
    "dt = 0.001\n",
    "t = np.arange(ti, tf, dt)\n",
    "state0 = np.asarray([theta0, dtheta0])"
   ],
   "metadata": {
    "collapsed": false,
    "pycharm": {
     "name": "#%%\n"
    }
   }
  },
  {
   "cell_type": "markdown",
   "source": [
    "## Calculate Trajectories"
   ],
   "metadata": {
    "collapsed": false
   }
  },
  {
   "cell_type": "code",
   "execution_count": null,
   "outputs": [],
   "source": [
    "## Curried differential equation\n",
    "df = partial(df_linear_pendula, zeta=zeta, w0=w0, A=A, wd=wd)\n",
    "df_simplectic = partial(df_linear_pendula_simplectic, zeta=zeta, w0=w0, A=A, wd=wd)\n",
    "\n",
    "## Solutions\n",
    "t, pendula_euler = dsolve(df, t, state0, step=euler_step)\n",
    "t, pendula_rk2 = dsolve(df, t, state0, step=rk2_step)\n",
    "t, *pendula_euler_cromer = dsolve_simplectic(df_simplectic, t, theta0, dtheta0)\n",
    "\n",
    "## Energies\n",
    "pendula_euler_energy = get_total_energy(m, I, l, g, *pendula_euler)\n",
    "pendula_rk2_energy = get_total_energy(m, I, l, g, *pendula_rk2)\n",
    "pendula_euler_cromer_energy = get_total_energy(m, I, l, g, *pendula_euler_cromer)\n",
    "\n",
    "theta_analytic = theta_exact(t, theta0, dtheta0, w0)\n",
    "total_energy_analytic = total_energy_exact(t, theta0, dtheta0, w0, m, g, l, I)"
   ],
   "metadata": {
    "collapsed": false,
    "pycharm": {
     "name": "#%%\n"
    }
   }
  },
  {
   "cell_type": "markdown",
   "source": [
    "## Plotting"
   ],
   "metadata": {
    "collapsed": false
   }
  },
  {
   "cell_type": "code",
   "execution_count": null,
   "outputs": [],
   "source": [
    "fig, ax = plt.subplots(3, 2, figsize=(16, 9), constrained_layout=True)\n",
    "\n",
    "ax[0,0].plot(t, pendula_euler[0], label='Euler Method')\n",
    "ax[0,0].plot(t, pendula_rk2[0], label='RK2 Method')\n",
    "ax[0,0].plot(t, pendula_euler_cromer[0], label='Euler-Cromer Method')\n",
    "ax[0,0].set_xlabel(r't [s]')\n",
    "ax[0,0].set_ylabel(r'$\\theta$ [rad]')\n",
    "ax[0,0].set_title(r'$\\theta$ vs Time')\n",
    "ax[0,0].grid()\n",
    "ax[0,0].legend()\n",
    "\n",
    "ax[0,1].plot(t, pendula_euler_energy, label='Euler Method')\n",
    "ax[0,1].plot(t, pendula_rk2_energy,label='RK2 Method')\n",
    "ax[0,1].plot(t, pendula_euler_cromer_energy, label='Euler-Cromer Method')\n",
    "ax[0,1].set_xlabel(r't [s]')\n",
    "ax[0,1].set_ylabel(r'$E$ [J]')\n",
    "ax[0,1].set_title('Total Energy vs Time')\n",
    "ax[0,1].grid()\n",
    "ax[0,1].legend()\n",
    "\n",
    "ax[1,0].plot(t, local_error(theta_analytic, pendula_euler[0], t), label='Euler Method')\n",
    "ax[1,0].plot(t, local_error(theta_analytic, pendula_rk2[0], t), label='RK2 Method')\n",
    "ax[1,0].plot(t, local_error(theta_analytic, pendula_euler_cromer[0], t), label='Euler-Cromer Method')\n",
    "ax[1,0].set_xlabel(r't [s]')\n",
    "ax[1,0].set_ylabel(r'$\\theta$ [rad]')\n",
    "ax[1,0].set_title(r'$\\theta$ Local Error')\n",
    "ax[1,0].grid()\n",
    "ax[1,0].legend()\n",
    "\n",
    "ax[1,1].plot(t, local_error(total_energy_analytic, pendula_euler_energy, t), label='Euler Method')\n",
    "ax[1,1].plot(t, local_error(total_energy_analytic, pendula_rk2_energy, t),label='RK2 Method')\n",
    "ax[1,1].plot(t, local_error(total_energy_analytic, pendula_euler_cromer_energy, t), label='Euler-Cromer Method')\n",
    "ax[1,1].set_xlabel(r't [s]')\n",
    "ax[1,1].set_ylabel(r'$E$ [J]')\n",
    "ax[1,1].set_title('Total Energy Local Error')\n",
    "ax[1,1].grid()\n",
    "ax[1,1].legend()\n",
    "\n",
    "ax[2,0].plot(t, global_error(theta_analytic, pendula_euler[0]), label='Euler Method')\n",
    "ax[2,0].plot(t, global_error(theta_analytic, pendula_rk2[0]), label='RK2 Method')\n",
    "ax[2,0].plot(t, global_error(theta_analytic, pendula_euler_cromer[0]), label='Euler-Cromer Method')\n",
    "ax[2,0].set_xlabel(r't [s]')\n",
    "ax[2,0].set_ylabel(r'$\\theta$ [rad]')\n",
    "ax[2,0].set_title(r'$\\theta$ Global Error')\n",
    "ax[2,0].grid()\n",
    "ax[2,0].legend()\n",
    "\n",
    "ax[2,1].plot(t, global_error(total_energy_analytic, pendula_euler_energy), label='Euler Method')\n",
    "ax[2,1].plot(t, global_error(total_energy_analytic, pendula_rk2_energy),label='RK2 Method')\n",
    "ax[2,1].plot(t, global_error(total_energy_analytic, pendula_euler_cromer_energy), label='Euler-Cromer Method')\n",
    "ax[2,1].set_xlabel(r't [s]')\n",
    "ax[2,1].set_ylabel(r'$E$ [J]')\n",
    "ax[2,1].set_title('Total Energy Global Error')\n",
    "ax[2,1].grid()\n",
    "ax[2,1].legend()\n",
    "\n",
    "plt.show()"
   ],
   "metadata": {
    "collapsed": false,
    "pycharm": {
     "name": "#%%\n"
    }
   }
  },
  {
   "cell_type": "markdown",
   "source": [
    "## Repeat With Different Initial Conditions"
   ],
   "metadata": {
    "collapsed": false
   }
  },
  {
   "cell_type": "code",
   "execution_count": null,
   "outputs": [],
   "source": [
    "theta0 = 0.0\n",
    "dtheta0 = np.pi/2.0\n",
    "\n",
    "state0 = np.asarray([theta0, dtheta0])"
   ],
   "metadata": {
    "collapsed": false,
    "pycharm": {
     "name": "#%%\n"
    }
   }
  },
  {
   "cell_type": "code",
   "execution_count": null,
   "outputs": [],
   "source": [
    "## Curried differential equation\n",
    "df = partial(df_linear_pendula, zeta=zeta, w0=w0, A=A, wd=wd)\n",
    "df_simplectic = partial(df_linear_pendula_simplectic, zeta=zeta, w0=w0, A=A, wd=wd)\n",
    "\n",
    "## Solutions\n",
    "t, pendula_euler = dsolve(df, t, state0, step=euler_step)\n",
    "t, pendula_rk2 = dsolve(df, t, state0, step=rk2_step)\n",
    "t, *pendula_euler_cromer = dsolve_simplectic(df_simplectic, t, theta0, dtheta0)\n",
    "\n",
    "## Energies\n",
    "pendula_euler_energy = get_total_energy(m, I, l, g, *pendula_euler)\n",
    "pendula_rk2_energy = get_total_energy(m, I, l, g, *pendula_rk2)\n",
    "pendula_euler_cromer_energy = get_total_energy(m, I, l, g, *pendula_euler_cromer)\n",
    "\n",
    "theta_analytic = theta_exact(t, theta0, dtheta0, w0)\n",
    "total_energy_analytic = total_energy_exact(t, theta0, dtheta0, w0, m, g, l, I)"
   ],
   "metadata": {
    "collapsed": false,
    "pycharm": {
     "name": "#%%\n"
    }
   }
  },
  {
   "cell_type": "code",
   "execution_count": null,
   "outputs": [],
   "source": [
    "fig, ax = plt.subplots(3, 2, figsize=(16, 9), constrained_layout=True)\n",
    "\n",
    "ax[0,0].plot(t, pendula_euler[0], label='Euler Method')\n",
    "ax[0,0].plot(t, pendula_rk2[0], label='RK2 Method')\n",
    "ax[0,0].plot(t, pendula_euler_cromer[0], label='Euler-Cromer Method')\n",
    "ax[0,0].set_xlabel(r't [s]')\n",
    "ax[0,0].set_ylabel(r'$\\theta$ [rad]')\n",
    "ax[0,0].set_title(r'$\\theta$ vs Time')\n",
    "ax[0,0].grid()\n",
    "ax[0,0].legend()\n",
    "\n",
    "ax[0,1].plot(t, pendula_euler_energy, label='Euler Method')\n",
    "ax[0,1].plot(t, pendula_rk2_energy,label='RK2 Method')\n",
    "ax[0,1].plot(t, pendula_euler_cromer_energy, label='Euler-Cromer Method')\n",
    "ax[0,1].set_xlabel(r't [s]')\n",
    "ax[0,1].set_ylabel(r'$E$ [J]')\n",
    "ax[0,1].set_title('Total Energy vs Time')\n",
    "ax[0,1].grid()\n",
    "ax[0,1].legend()\n",
    "\n",
    "ax[1,0].plot(t, local_error(theta_analytic, pendula_euler[0], t), label='Euler Method')\n",
    "ax[1,0].plot(t, local_error(theta_analytic, pendula_rk2[0], t), label='RK2 Method')\n",
    "ax[1,0].plot(t, local_error(theta_analytic, pendula_euler_cromer[0], t), label='Euler-Cromer Method')\n",
    "ax[1,0].set_xlabel(r't [s]')\n",
    "ax[1,0].set_ylabel(r'$\\theta$ [rad]')\n",
    "ax[1,0].set_title('Theta Local Error')\n",
    "ax[1,0].grid()\n",
    "ax[1,0].legend()\n",
    "\n",
    "ax[1,1].plot(t, local_error(total_energy_analytic, pendula_euler_energy, t), label='Euler Method')\n",
    "ax[1,1].plot(t, local_error(total_energy_analytic, pendula_rk2_energy, t),label='RK2 Method')\n",
    "ax[1,1].plot(t, local_error(total_energy_analytic, pendula_euler_cromer_energy, t), label='Euler-Cromer Method')\n",
    "ax[1,1].set_xlabel(r't [s]')\n",
    "ax[1,1].set_ylabel(r'$E$ [J]')\n",
    "ax[1,1].set_title('Total Energy Local Error')\n",
    "ax[1,1].grid()\n",
    "ax[1,1].legend()\n",
    "\n",
    "ax[2,0].plot(t, global_error(theta_analytic, pendula_euler[0]), label='Euler Method')\n",
    "ax[2,0].plot(t, global_error(theta_analytic, pendula_rk2[0]), label='RK2 Method')\n",
    "ax[2,0].plot(t, global_error(theta_analytic, pendula_euler_cromer[0]), label='Euler-Cromer Method')\n",
    "ax[2,0].set_xlabel(r't [s]')\n",
    "ax[2,0].set_ylabel(r'$\\theta$ [rad]')\n",
    "ax[2,0].set_title('Theta Global Error')\n",
    "ax[2,0].grid()\n",
    "ax[2,0].legend()\n",
    "\n",
    "ax[2,1].plot(t, global_error(total_energy_analytic, pendula_euler_energy), label='Euler Method')\n",
    "ax[2,1].plot(t, global_error(total_energy_analytic, pendula_rk2_energy),label='RK2 Method')\n",
    "ax[2,1].plot(t, global_error(total_energy_analytic, pendula_euler_cromer_energy), label='Euler-Cromer Method')\n",
    "ax[2,1].set_xlabel(r't [s]')\n",
    "ax[2,1].set_ylabel(r'$E$ [J]')\n",
    "ax[2,1].set_title('Total Energy Global Error')\n",
    "ax[2,1].grid()\n",
    "ax[2,1].legend()\n",
    "\n",
    "plt.show()"
   ],
   "metadata": {
    "collapsed": false,
    "pycharm": {
     "name": "#%%\n"
    }
   }
  },
  {
   "cell_type": "markdown",
   "source": [
    "# Number 2"
   ],
   "metadata": {
    "collapsed": false
   }
  },
  {
   "cell_type": "markdown",
   "source": [
    "## Parameters"
   ],
   "metadata": {
    "collapsed": false
   }
  },
  {
   "cell_type": "code",
   "execution_count": null,
   "outputs": [],
   "source": [
    "m = 1.0\n",
    "g = 9.81\n",
    "l = 1.0\n",
    "I = m*l**2\n",
    "c1 = 2*np.sqrt(m*g*l*I) / 10\n",
    "c2 = 2*np.sqrt(m*g*l*I)\n",
    "c3 = 2*np.sqrt(m*g*l*I) * 10\n",
    "F0 = 1.0\n",
    "\n",
    "A = F0/I\n",
    "zeta1 = c1/(2*np.sqrt(m*g*l*I))  # Damping ratio\n",
    "zeta2 = c2/(2*np.sqrt(m*g*l*I))  # Damping ratio\n",
    "zeta3 = c3/(2*np.sqrt(m*g*l*I))  # Damping ratio\n",
    "w0 = np.sqrt(m*g*l/I)\n",
    "wd = 1.0\n",
    "\n",
    "ti = 0\n",
    "tf = 50\n",
    "dt = 0.001\n",
    "t = np.arange(ti, tf, dt)\n",
    "\n",
    "state0 = np.asarray([-np.pi / 2.0, np.pi / 2.0])"
   ],
   "metadata": {
    "collapsed": false,
    "pycharm": {
     "name": "#%%\n"
    }
   }
  },
  {
   "cell_type": "markdown",
   "source": [
    "## Calculate Trajectories"
   ],
   "metadata": {
    "collapsed": false
   }
  },
  {
   "cell_type": "code",
   "execution_count": null,
   "outputs": [],
   "source": [
    "## Curried differential equation\n",
    "df1_simplectic = partial(df_linear_pendula_simplectic, zeta=zeta1, w0=w0, A=A, wd=wd)\n",
    "df2_simplectic = partial(df_linear_pendula_simplectic, zeta=zeta2, w0=w0, A=A, wd=wd)\n",
    "df3_simplectic = partial(df_linear_pendula_simplectic, zeta=zeta3, w0=w0, A=A, wd=wd)\n",
    "\n",
    "## Solutions\n",
    "t, *pendula_euler_cromer_1 = dsolve_simplectic(df1_simplectic, t, state0[0], state0[1])\n",
    "t, *pendula_euler_cromer_2 = dsolve_simplectic(df2_simplectic, t, state0[0], state0[1])\n",
    "t, *pendula_euler_cromer_3 = dsolve_simplectic(df3_simplectic, t, state0[0], state0[1])"
   ],
   "metadata": {
    "collapsed": false,
    "pycharm": {
     "name": "#%%\n"
    }
   }
  },
  {
   "cell_type": "markdown",
   "source": [
    "## Plotting"
   ],
   "metadata": {
    "collapsed": false
   }
  },
  {
   "cell_type": "code",
   "execution_count": null,
   "outputs": [],
   "source": [
    "fig, ax = plt.subplots(2, 3, figsize=(16, 9), constrained_layout=True)\n",
    "plt.suptitle(r'Euler-Cromer Method, Initial Conditions: $\\psi_0=\\left<-\\frac{\\pi}{2},\\frac{\\pi}{2}\\right>$')\n",
    "\n",
    "ax[0,0].plot(t, pendula_euler_cromer_1[0])\n",
    "ax[0,0].set_xlabel(r't [s]')\n",
    "ax[0,0].set_ylabel(r'$\\theta$ [rad]')\n",
    "ax[0,0].set_title(r'Underdamped')\n",
    "ax[0,0].grid()\n",
    "\n",
    "ax[0,1].plot(t, pendula_euler_cromer_2[0])\n",
    "ax[0,1].set_xlabel(r't [s]')\n",
    "ax[0,1].set_ylabel(r'$\\theta$ [rad]')\n",
    "ax[0,1].set_title(r'Critically Damped')\n",
    "ax[0,1].grid()\n",
    "\n",
    "ax[0,2].plot(t, pendula_euler_cromer_3[0])\n",
    "ax[0,2].set_xlabel(r't [s]')\n",
    "ax[0,2].set_ylabel(r'$\\theta$ [rad]')\n",
    "ax[0,2].set_title(r'Overdamped')\n",
    "ax[0,2].grid()\n",
    "\n",
    "ax[1,0].plot(*pendula_euler_cromer_1)\n",
    "ax[1,0].set_xlabel(r'$\\theta$ [rad]')\n",
    "ax[1,0].set_ylabel(r'$\\dot{\\theta}$ [rad]/[s]')\n",
    "ax[1,0].grid()\n",
    "\n",
    "ax[1,1].plot(*pendula_euler_cromer_2)\n",
    "ax[1,1].set_xlabel(r'$\\theta$ [rad]')\n",
    "ax[1,1].set_ylabel(r'$\\dot{\\theta}$ [rad]/[s]')\n",
    "ax[1,1].grid()\n",
    "\n",
    "ax[1,2].plot(*pendula_euler_cromer_3)\n",
    "ax[1,2].set_xlabel(r'$\\theta$ [rad]')\n",
    "ax[1,2].set_ylabel(r'$\\dot{\\theta}$ [rad]/[s]')\n",
    "ax[1,2].grid()\n",
    "\n",
    "plt.show()"
   ],
   "metadata": {
    "collapsed": false,
    "pycharm": {
     "name": "#%%\n"
    }
   }
  },
  {
   "cell_type": "markdown",
   "source": [
    "# Number 3"
   ],
   "metadata": {
    "collapsed": false
   }
  },
  {
   "cell_type": "markdown",
   "source": [
    "$$I\\ddot{\\theta}=mgl\\sin\\left(\\theta\\right)\\rightarrow\\ddot{\\theta}=\\frac{g}{l}\\sin\\left(\\theta\\right)\\rightarrow\\ddot{\\theta}=\\omega_0^2\\sin\\left(\\theta\\right)$$\n",
    "\n",
    "$$T=4\\sqrt{\\frac{l}{g}}K\\left(\\sin\\left(\\frac{\\theta_m}{2}\\right)\\right)=\\frac{4}{\\omega_0}K\\left(\\sin\\left(\\frac{\\theta_m}{2}\\right)\\right)$$"
   ],
   "metadata": {
    "collapsed": false
   }
  },
  {
   "cell_type": "markdown",
   "source": [
    "## Parameters"
   ],
   "metadata": {
    "collapsed": false
   }
  },
  {
   "cell_type": "code",
   "execution_count": null,
   "outputs": [],
   "source": [
    "w0 = np.linspace(0,3*np.pi,500)\n",
    "\n",
    "ti = 0\n",
    "tf = 50\n",
    "dt = 0.001\n",
    "t = np.arange(ti, tf, dt)\n",
    "\n",
    "state0 = np.asarray([-np.pi / 2.0, np.pi / 2.0])"
   ],
   "metadata": {
    "collapsed": false,
    "pycharm": {
     "name": "#%%\n"
    }
   }
  },
  {
   "cell_type": "markdown",
   "source": [
    "## Functions"
   ],
   "metadata": {
    "collapsed": false
   }
  },
  {
   "cell_type": "code",
   "execution_count": null,
   "outputs": [],
   "source": [
    "def df(t, x, dx, w0):\n",
    "    return - w0 ** 2 * np.sin(x)\n",
    "\n",
    "\n",
    "def get_period(t, x):\n",
    "    peak_indices = find_peaks(x.flatten())[0]\n",
    "    times = [t[i] for i in peak_indices]\n",
    "    diffs = np.ediff1d(times)\n",
    "    return np.mean(diffs)\n",
    "\n",
    "\n",
    "def get_amplitude(x):\n",
    "    peak_indices = find_peaks(x.flatten())[0]\n",
    "    amps = [x[i] for i in peak_indices]\n",
    "    return np.mean(amps)"
   ],
   "metadata": {
    "collapsed": false,
    "pycharm": {
     "name": "#%%\n"
    }
   }
  },
  {
   "cell_type": "markdown",
   "source": [
    "## Part A: Amplitude vs. Period"
   ],
   "metadata": {
    "collapsed": false
   }
  },
  {
   "cell_type": "code",
   "execution_count": null,
   "outputs": [],
   "source": [
    "amps = []\n",
    "from tqdm import tqdm\n",
    "\n",
    "for _,w in enumerate(tqdm(w0)):\n",
    "    df_1 = partial(df, w0=w)\n",
    "    t, *soln = dsolve_simplectic(df_1, t, state0[0], state0[1])\n",
    "    theta_m = get_amplitude(soln[0])\n",
    "    amps.append(theta_m)"
   ],
   "metadata": {
    "collapsed": false,
    "pycharm": {
     "name": "#%%\n"
    }
   }
  },
  {
   "cell_type": "code",
   "execution_count": null,
   "outputs": [],
   "source": [
    "fig = plt.figure(figsize=(16, 9))\n",
    "ax = plt.axes()\n",
    "ax.plot(w0**(-1),amps)\n",
    "ax.set_xlabel('Period [s]')\n",
    "ax.set_ylabel('Amplitude [m]')\n",
    "ax.set_title('Effect of Oscillation Period On Amplitude')\n",
    "ax.grid()\n",
    "plt.show()"
   ],
   "metadata": {
    "collapsed": false,
    "pycharm": {
     "name": "#%%\n"
    }
   }
  },
  {
   "cell_type": "markdown",
   "source": [
    "## Part B: Period Accuracy"
   ],
   "metadata": {
    "collapsed": false
   }
  },
  {
   "cell_type": "code",
   "execution_count": null,
   "outputs": [],
   "source": [
    "ti = 0\n",
    "tf = 150\n",
    "dt = 0.001\n",
    "t = np.arange(ti, tf, dt)\n",
    "\n",
    "state0 = np.asarray([np.pi / 2.0, -np.pi/8])\n",
    "\n",
    "w01 = 0.0885*np.pi\n",
    "w02 = 0.09*np.pi\n",
    "w03 = 0.2*np.pi\n",
    "\n",
    "## Curried differential equation\n",
    "df_1 = partial(df, w0=w01)\n",
    "df_2 = partial(df, w0=w02)\n",
    "df_3 = partial(df, w0=w03)\n",
    "\n",
    "## Solutions\n",
    "t, *soln1 = dsolve_simplectic(df_1, t, state0[0], state0[1])\n",
    "t, *soln2 = dsolve_simplectic(df_2, t, state0[0], state0[1])\n",
    "t, *soln3 = dsolve_simplectic(df_3, t, state0[0], state0[1])\n",
    "\n",
    "theta_m1 = get_amplitude(soln1[0])\n",
    "theta_m2 = get_amplitude(soln2[0])\n",
    "theta_m3 = get_amplitude(soln3[0])\n",
    "\n",
    "T_exact1 = (4/w01)*ellipk(np.sin(theta_m1/2))\n",
    "T_exact2 = (4/w02)*ellipk(np.sin(theta_m2/2))\n",
    "T_exact3 = (4/w03)*ellipk(np.sin(theta_m3/2))\n",
    "\n",
    "T_approx1 = get_period(t, soln1[0])\n",
    "T_approx2 = get_period(t, soln2[0])\n",
    "T_approx3 = get_period(t, soln3[0])\n",
    "\n",
    "print(f'Exact Period | Approx. Period | % Error ')\n",
    "print(f'  {T_exact1:0.4f} s   |    {T_approx1:0.4f} s    | {100*(T_approx1-T_exact1)/T_exact1:0.4f}%')\n",
    "print(f'  {T_exact2:0.4f} s   |    {T_approx2:0.4f} s    | {100*(T_approx2-T_exact2)/T_exact2:0.4f}%')\n",
    "print(f'  {T_exact3:0.4f} s   |    {T_approx3:0.4f} s    | {100*(T_approx3-T_exact3)/T_exact3:0.4f}%')"
   ],
   "metadata": {
    "collapsed": false,
    "pycharm": {
     "name": "#%%\n"
    }
   }
  },
  {
   "cell_type": "markdown",
   "source": [
    "## Plotting"
   ],
   "metadata": {
    "collapsed": false
   }
  },
  {
   "cell_type": "code",
   "execution_count": null,
   "outputs": [],
   "source": [
    "fig, ax = plt.subplots(2, 3, figsize=(16, 9), constrained_layout=True)\n",
    "plt.suptitle(r'Nonlinear Pendulum, Euler-Cromer Method, Initial Conditions: $\\psi_0=\\left<\\frac{\\pi}{2},-\\frac{\\pi}{8}\\right>$')\n",
    "\n",
    "\n",
    "ax[0,0].plot(t, soln1[0])\n",
    "ax[0,0].set_xlabel(r't [s]')\n",
    "ax[0,0].set_ylabel(r'$\\theta$ [rad]')\n",
    "ax[0,0].set_title(rf'$\\omega_0={w01:0.4f}$')\n",
    "ax[0,0].grid()\n",
    "\n",
    "ax[0,1].plot(t, soln2[0])\n",
    "ax[0,1].set_xlabel(r't [s]')\n",
    "ax[0,1].set_ylabel(r'$\\theta$ [rad]')\n",
    "ax[0,1].set_title(rf'$\\omega_0={w02:0.4f}$')\n",
    "ax[0,1].grid()\n",
    "\n",
    "ax[0,2].plot(t, soln3[0])\n",
    "ax[0,2].set_xlabel(r't [s]')\n",
    "ax[0,2].set_ylabel(r'$\\theta$ [rad]')\n",
    "ax[0,2].set_title(rf'$\\omega_0={w03:0.4f}$')\n",
    "ax[0,2].grid()\n",
    "\n",
    "ax[1,0].plot(*soln1)\n",
    "ax[1,0].set_xlabel(r'$\\theta$ [rad]')\n",
    "ax[1,0].set_ylabel(r'$\\dot{\\theta}$ [rad]/[s]')\n",
    "ax[1,0].grid()\n",
    "\n",
    "ax[1,1].plot(*soln2)\n",
    "ax[1,1].set_xlabel(r'$\\theta$ [rad]')\n",
    "ax[1,1].set_ylabel(r'$\\dot{\\theta}$ [rad]/[s]')\n",
    "ax[1,1].grid()\n",
    "\n",
    "ax[1,2].plot(*soln3)\n",
    "ax[1,2].set_xlabel(r'$\\theta$ [rad]')\n",
    "ax[1,2].set_ylabel(r'$\\dot{\\theta}$ [rad]/[s]')\n",
    "ax[1,2].grid()\n",
    "\n",
    "plt.show()"
   ],
   "metadata": {
    "collapsed": false,
    "pycharm": {
     "name": "#%%\n"
    }
   }
  },
  {
   "cell_type": "code",
   "execution_count": null,
   "outputs": [],
   "source": [],
   "metadata": {
    "collapsed": false,
    "pycharm": {
     "name": "#%%\n"
    }
   }
  },
  {
   "cell_type": "code",
   "execution_count": null,
   "outputs": [],
   "source": [],
   "metadata": {
    "collapsed": false,
    "pycharm": {
     "name": "#%%\n"
    }
   }
  }
 ],
 "metadata": {
  "kernelspec": {
   "display_name": "Python 3",
   "language": "python",
   "name": "python3"
  },
  "language_info": {
   "codemirror_mode": {
    "name": "ipython",
    "version": 3
   },
   "file_extension": ".py",
   "mimetype": "text/x-python",
   "name": "python",
   "nbconvert_exporter": "python",
   "pygments_lexer": "ipython3",
   "version": "3.8.3"
  }
 },
 "nbformat": 4,
 "nbformat_minor": 4
}